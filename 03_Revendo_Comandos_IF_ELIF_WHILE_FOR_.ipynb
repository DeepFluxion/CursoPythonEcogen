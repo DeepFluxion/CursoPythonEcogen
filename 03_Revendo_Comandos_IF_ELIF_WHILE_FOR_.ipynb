{
  "cells": [
    {
      "cell_type": "markdown",
      "metadata": {
        "id": "view-in-github",
        "colab_type": "text"
      },
      "source": [
        "<a href=\"https://colab.research.google.com/github/DeepFluxion/CursoPythonEcogen/blob/main/03_Revendo_Comandos_IF_ELIF_WHILE_FOR_.ipynb\" target=\"_parent\"><img src=\"https://colab.research.google.com/assets/colab-badge.svg\" alt=\"Open In Colab\"/></a>"
      ]
    },
    {
      "cell_type": "markdown",
      "id": "35efee31",
      "metadata": {
        "id": "35efee31"
      },
      "source": [
        "# Excelente estamos avançando 🤩🙌👏\n",
        "\n",
        "🧑‍🎓🧑🏿‍🎓🧑🏻‍🎓🧑🏾‍🎓🧑🏼‍🎓🧑🏽‍🎓\n",
        "\n",
        "Muita coisa na segunda conversa!! Falamos sobre os tipos do Python, Varíaveis, Operações Aritiméticas, operações Booleana, funções como `print()`, `type()`, `input()` e falamos de um conceito masi avançado as `f-strings`. E ainda começamos a estudar os comando `IF - ELSE`e `ELIF`.  Vamos rever esses ultimos conceitos e aprender algumas coisas novas.\n"
      ]
    },
    {
      "cell_type": "markdown",
      "id": "8237c423",
      "metadata": {
        "id": "8237c423"
      },
      "source": [
        "# Tomando decisões com o Comando `IF`🤨🤨🤨🤨🤨🤨🤨\n",
        "\n",
        "> **E se quisermos apresentar uma mensagem diferente para o usuário dependendo do valor de entrada? 👀👀👀👀👀**\n",
        "\n",
        "Vamos atribuir um valor para uma variável numero e pedir para o usuário entrar com um valor. Devemos verificar se os valores são iguais como um jogo de adivinhação em que o usuário deve adivinhar o número definido."
      ]
    },
    {
      "cell_type": "code",
      "execution_count": 1,
      "id": "1978987a",
      "metadata": {
        "colab": {
          "base_uri": "https://localhost:8080/"
        },
        "id": "1978987a",
        "outputId": "3df24e99-c572-4807-bc61-8129b99789a1"
      },
      "outputs": [
        {
          "name": "stdout",
          "output_type": "stream",
          "text": [
            "Qual o numero 👀?\n",
            "42\n"
          ]
        }
      ],
      "source": [
        "numero = 42\n",
        "chute = input('Qual o numero 👀?\\n')"
      ]
    },
    {
      "cell_type": "markdown",
      "id": "a0554b5a",
      "metadata": {
        "id": "a0554b5a"
      },
      "source": [
        "👁️‍🗨️​👁️‍🗨️​👁️‍🗨️​👋​👋​🤚​🤚​👈​👉​🖕​👇​☝️​👎​\n",
        "Até aqui, nenhuma novidade. Agora, devemos mostrar a mensagem **\"Você acertou👍​\"** caso o numero seja igual ao chute , e **\"Você errou 👎\"** caso o numero seja diferente do chute .\n",
        "Em português, seria assim:\n",
        ">**Se chute igual a número: \"Você acertou👍​\"**     \n",
        "\n",
        ">**Se chute diferente de número: \"Você errou👎\"**\n",
        "\n",
        "Ou melhor:\n",
        "> **Se chute igual a número: \"Você acertou👍​\"**     \n",
        "\n",
        "> **Senão: \"Você errou👎\"**"
      ]
    },
    {
      "cell_type": "markdown",
      "id": "ae770475",
      "metadata": {
        "id": "ae770475"
      },
      "source": [
        "Podemos traduzir isso para código Python🐍🐍🐍. O Python possui o operador condicional para representar a palavra se que é o `if` 🤔🤔🤔🤔 e a palavra senão que é o `else` 🤔🤔🤔🤔. A sintaxe ficaria:\n",
        "```python\n",
        "if chute == numero:\n",
        "    print('Você acertou👍') # aqui os comandos que você executa se chute == numero for verdadeiro\n",
        "else:\n",
        "    print('Você errou👎') # aqui os comandos que você executa se chute == numero não for verdadeiro\n",
        "```"
      ]
    },
    {
      "cell_type": "code",
      "execution_count": 2,
      "id": "27474d45",
      "metadata": {
        "colab": {
          "base_uri": "https://localhost:8080/"
        },
        "id": "27474d45",
        "outputId": "7d27a632-752f-4031-a918-ba14ffeaeb0a"
      },
      "outputs": [
        {
          "output_type": "stream",
          "name": "stdout",
          "text": [
            "Você errou👎\n"
          ]
        }
      ],
      "source": [
        "if chute == numero:\n",
        "    print('Você acertou👍') # aqui os comandos que você executa se chute == numero for verdadeiro\n",
        "else:\n",
        "    print('Você errou👎') # aqui os comandos que você executa se chute == numero não for verdadeiro"
      ]
    },
    {
      "cell_type": "markdown",
      "id": "e57a924f",
      "metadata": {
        "id": "e57a924f"
      },
      "source": [
        "​🤨​🥺​🤫​🤔​🤭​🤪​😜​\n",
        "O que será que não deu certo ?"
      ]
    },
    {
      "cell_type": "code",
      "execution_count": 3,
      "id": "7572e202",
      "metadata": {
        "colab": {
          "base_uri": "https://localhost:8080/"
        },
        "id": "7572e202",
        "outputId": "0b5eba1b-e6d5-4e9f-9118-a0d55d7b1465"
      },
      "outputs": [
        {
          "output_type": "execute_result",
          "data": {
            "text/plain": [
              "False"
            ]
          },
          "metadata": {},
          "execution_count": 3
        }
      ],
      "source": [
        "chute == numero"
      ]
    },
    {
      "cell_type": "code",
      "execution_count": 4,
      "id": "ec742991",
      "metadata": {
        "colab": {
          "base_uri": "https://localhost:8080/"
        },
        "id": "ec742991",
        "outputId": "d0444ef1-46c2-41d7-bb74-05648a39b6e0"
      },
      "outputs": [
        {
          "output_type": "stream",
          "name": "stdout",
          "text": [
            "42\n",
            "42\n"
          ]
        }
      ],
      "source": [
        "print(chute)\n",
        "print(numero)"
      ]
    },
    {
      "cell_type": "code",
      "execution_count": 5,
      "id": "749ef8c3",
      "metadata": {
        "colab": {
          "base_uri": "https://localhost:8080/"
        },
        "id": "749ef8c3",
        "outputId": "bab4325e-9445-44f2-81bd-cb5870ff00f8"
      },
      "outputs": [
        {
          "output_type": "stream",
          "name": "stdout",
          "text": [
            "<class 'str'>\n",
            "<class 'int'>\n"
          ]
        }
      ],
      "source": [
        "print(type(chute))\n",
        "print(type(numero))"
      ]
    },
    {
      "cell_type": "code",
      "execution_count": 6,
      "id": "f312e6d3",
      "metadata": {
        "colab": {
          "base_uri": "https://localhost:8080/"
        },
        "id": "f312e6d3",
        "outputId": "18a4765c-b7fe-4e79-d9ca-08f72e77eb35"
      },
      "outputs": [
        {
          "output_type": "execute_result",
          "data": {
            "text/plain": [
              "True"
            ]
          },
          "metadata": {},
          "execution_count": 6
        }
      ],
      "source": [
        "# Mas se fizermos\n",
        "int(chute) == numero"
      ]
    },
    {
      "cell_type": "code",
      "execution_count": 7,
      "id": "7a16adfc",
      "metadata": {
        "colab": {
          "base_uri": "https://localhost:8080/"
        },
        "id": "7a16adfc",
        "outputId": "862ffe9a-210d-472f-ecc1-738e68b3e3a3"
      },
      "outputs": [
        {
          "output_type": "stream",
          "name": "stdout",
          "text": [
            "Você acertou👍\n"
          ]
        }
      ],
      "source": [
        "# Agora do jeito certo vamos converter chute para o mesmo tipo que numero\n",
        "if int(chute) == numero:\n",
        "    print('Você acertou👍')\n",
        "else:\n",
        "    print('Você errou👎')"
      ]
    },
    {
      "cell_type": "markdown",
      "id": "724e35c2",
      "metadata": {
        "id": "724e35c2"
      },
      "source": [
        "# O Comando `ELIF` 🤔🤔🤔🤔😁😁😁😁🤺🤺🤺🤺🤺\n",
        "\n",
        "Podemos melhorar ainda mais o jogo: caso o chute não seja igual ao número secreto, podemos dar uma pista para o usuário se ele foi maior ou menor do que o chute inicial.\n",
        "Ou seja, devemos acrescentar esse tratamento caso o usuário erre o chute:\n",
        "> **Se chute = número: \"Você acertou!\"**   \n",
        "> **Senão: Se chute maior do que número_secreto: \"Você errou! O seu chute foi maior que o número secreto\"**   \n",
        "> **Senão \"Você errou! O seu chute foi menor que o número secreto\"**   "
      ]
    },
    {
      "cell_type": "markdown",
      "id": "ecfda983",
      "metadata": {
        "id": "ecfda983"
      },
      "source": [
        "Já sabemos traduzir isso para Python🐍🐍🐍🐍🐍🐍🐍🐍:\n",
        "```python\n",
        "if(chute == numero_secreto):\n",
        "    print('Você acertou!👍') # aqui os comandos que você executa se chute == numero for verdadeiro\n",
        "else: # aqui os comandos que você executa se chute == numero não for verdadeiro\n",
        "    if(chute > numero_secreto): # aqui os comandos que você executa se chute > numero for verdadeiro\n",
        "        print('Você errou! O seu chute foi maior que o número secreto👎')\n",
        "    else: # aqui os comandos que você executa se chute > numero não for verdadeiro\n",
        "        print('Você errou! O seu chute foi menor que o número secreto👎')\n",
        "```"
      ]
    },
    {
      "cell_type": "markdown",
      "id": "b5ccb8f9",
      "metadata": {
        "id": "b5ccb8f9"
      },
      "source": [
        "Perceba que estamos colocando uma decisão no primeiro nível    \n",
        "* **Se (if) (chute == numero_secreto):**    \n",
        "⬅️##faça alguma coisa   \n",
        "* **Senão (else):**   \n",
        "⬅️##faça outra coisa   "
      ]
    },
    {
      "cell_type": "markdown",
      "id": "221b01db",
      "metadata": {
        "id": "221b01db"
      },
      "source": [
        "E temos uma decisão de segundo nível     \n",
        "⬅️##faça outra coisa:   \n",
        "* ⬅️**Se (if) (chute > numero_secreto):    \n",
        "⬅️⬅️##faça alguma coisa   \n",
        "* ⬅️**Senão (else):   \n",
        "⬅️⬅️##faça outra coisa   "
      ]
    },
    {
      "cell_type": "markdown",
      "id": "6de43cbc",
      "metadata": {
        "id": "6de43cbc"
      },
      "source": [
        "Atente para os espaçamentos ⬅️ após os `:`👀👀👀👁️👁️👁️\n",
        "- Quando temos uam decisão de primeiro nível o `if` eo `else` **não tem espaços**\n",
        "- Tudo o que vier após os `:` recebe um ⬅️ espaço, assim o python sabe que é uma instrução a ser executada **SE (if)** a condição for verdadeira ou **SENÃO (else)** a condição não for verdadeira\n",
        "- A decisão de segundo nível ocorre após o senão e recebe mais um ⬅️⬅️ espaço para que o python saiba que estamos nos referindo à segunda decisão\n",
        "\n",
        "```python\n",
        "# Aqui começa a primeira decisão\n",
        "if(chute == numero_secreto):\n",
        "⬅️print('Você acertou!👍') # aqui os comandos que você executa se chute == numero for verdadeiro\n",
        "else: # aqui os comandos que você executa se chute == numero não for verdadeiro\n",
        "# Aqui começa a segunda decisão\n",
        "⬅️if(chute > numero_secreto): # aqui os comandos que você executa se chute > numero for verdadeiro\n",
        "⬅️⬅️print('Você errou! O seu chute foi maior que o número secreto👎')\n",
        "⬅️else: # aqui os comandos que você executa se chute > numero não for verdadeiro\n",
        "⬅️⬅️print('Você errou! O seu chute foi menor que o número secreto👎')\n",
        "```"
      ]
    },
    {
      "cell_type": "code",
      "execution_count": 8,
      "id": "dccc3a84",
      "metadata": {
        "colab": {
          "base_uri": "https://localhost:8080/"
        },
        "id": "dccc3a84",
        "outputId": "5e125f35-0207-4086-bc2a-5a0f25fd7ed9"
      },
      "outputs": [
        {
          "output_type": "stream",
          "name": "stdout",
          "text": [
            "Qual o numero ?\n",
            "42\n",
            "Você acertou!👍\n"
          ]
        }
      ],
      "source": [
        "numero_secreto = 42\n",
        "chute = input('Qual o numero ?\\n')\n",
        "chute = int(chute)\n",
        "if(chute == numero_secreto):\n",
        "    print('Você acertou!👍')\n",
        "else:\n",
        "    if(chute > numero_secreto):\n",
        "        print('Você errou! O seu chute foi maior que o número secreto👎')\n",
        "    else:\n",
        "        print('Você errou! O seu chute foi menor que o número secreto👎')"
      ]
    },
    {
      "cell_type": "markdown",
      "id": "97a6d420",
      "metadata": {
        "id": "97a6d420"
      },
      "source": [
        "Mas neste caso podemos fazer um `else` com uma condição de entrada, o `elif` . Vamos utilizá-lo para deixar o código mais fácil de entender, já que na prática não há diferença:\n",
        "```python\n",
        "if (numero_secreto == int(chute)):\n",
        "    print('Você acertou!👍')\n",
        "elif (chute > numero_secreto):\n",
        "    print('Você errou! O seu chute foi maior que o número secreto👎')\n",
        "elif (chute < numero_secreto):\n",
        "    print('Você errou! O seu chute foi menor que o número secreto👎')\n",
        "```"
      ]
    },
    {
      "cell_type": "code",
      "execution_count": 9,
      "id": "ecb55a70",
      "metadata": {
        "colab": {
          "base_uri": "https://localhost:8080/"
        },
        "id": "ecb55a70",
        "outputId": "56fdfc1c-b13f-4841-cfcb-b2d08b94e761"
      },
      "outputs": [
        {
          "output_type": "stream",
          "name": "stdout",
          "text": [
            "Qual o numero ?\n",
            "42\n",
            "Você acertou!👍\n"
          ]
        }
      ],
      "source": [
        "numero_secreto = 42\n",
        "chute = input('Qual o numero ?\\n')\n",
        "chute = int(chute)\n",
        "if (numero_secreto == int(chute)):\n",
        "    print('Você acertou!👍')\n",
        "elif (chute > numero_secreto):\n",
        "    print('Você errou! O seu chute foi maior que o número secreto👎')\n",
        "elif (chute < numero_secreto):\n",
        "    print('Você errou! O seu chute foi menor que o número secreto👎')"
      ]
    },
    {
      "cell_type": "markdown",
      "id": "0a05f00d",
      "metadata": {
        "id": "0a05f00d"
      },
      "source": [
        "# Gerando um número aleatório 🐍🐍🐍🐍🐍🐍🐍🐍com `random.randint()`\n",
        "\n",
        "Esse código pode ser usado para escolher um numero inteiro aleatório entre 1 e 10 veja este [exemplo](https://www.w3schools.com/python/ref_random_randint.asp)\n",
        "```python\n",
        "import random\n",
        "numero = random.randint(1, 10)\n",
        "print(numero)\n",
        "```"
      ]
    },
    {
      "cell_type": "code",
      "execution_count": 10,
      "id": "578f78c8",
      "metadata": {
        "id": "578f78c8",
        "outputId": "969055b7-6a54-4d11-e7fd-57793aa8e695",
        "colab": {
          "base_uri": "https://localhost:8080/"
        }
      },
      "outputs": [
        {
          "output_type": "stream",
          "name": "stdout",
          "text": [
            "7\n"
          ]
        }
      ],
      "source": [
        "import random\n",
        "numero = random.randint(1, 10)\n",
        "print(numero)"
      ]
    },
    {
      "cell_type": "markdown",
      "id": "fbed4b47",
      "metadata": {
        "id": "fbed4b47"
      },
      "source": [
        "# Desafio o Jogo da Advinhação\n",
        "​🤨​🥺​🤫​🤔​🤭​🤪​😜​🤓​🤓​🤓​🤠​🤠​🤠​🥳​🥳​🥳​👺​👺​👺​👺​\n",
        "\n",
        "1. Utilize o o seguinte trecho no código do jogo da advinhação 🤓​🤓​🤓:\n",
        "```python\n",
        "import random\n",
        "numero = random.randint(1, 10)\n",
        "```\n",
        "2. Execute diversas vezes o jogo e veja se acertou 🥳​🥳​🥳\n",
        "> DICA: Coloque todo o código em uma célula e reexecute usando SHIFT-ENTER\n",
        "3. Como contar o numero de tentativas 👺​👺​👺​👺\n",
        "> USE UMA VARÌAVEL CONTADORA cont = cont +1"
      ]
    },
    {
      "cell_type": "code",
      "execution_count": 11,
      "id": "ba683016",
      "metadata": {
        "id": "ba683016"
      },
      "outputs": [],
      "source": [
        "# Seu código aqui"
      ]
    },
    {
      "cell_type": "markdown",
      "id": "1e3f0be7",
      "metadata": {
        "id": "1e3f0be7"
      },
      "source": [
        "# O comando `while` 👀👀👀👁️👁️👁️👀👀👀👀\n",
        "\n",
        "Queremos dar mais de uma oportunidade 🤝🤝🤝🤝 para o usuário tentar acertar o número secreto, já que é um jogo de adivinhação.\n",
        "\n",
        "A primeira ideia é repetir o código , desde a função `input()` até o bloco do `elif` .\n",
        "\n",
        "Ou seja, para cada nova tentativa que quisermos dar ao usuário, **copiaríamos esse código novamente**.\n",
        "\n",
        "> **Só que copiar código sempre é uma má prática 🤢🤮🤮🤮🤢🤢🤢🥵🥵🥵🥶🥶🥶**,\n",
        "\n",
        "Queremos escrever o código apenas uma vez. Se queremos repetir o código, fazemos um laço, ou um loop, que deve repetir a instrução dentro de bloco enquanto ela for verdadeira. O laço que devemos fazer é:"
      ]
    },
    {
      "cell_type": "markdown",
      "id": "e61e467d",
      "metadata": {
        "id": "e61e467d"
      },
      "source": [
        "Enquanto ainda há tentativas, faça:    \n",
        "chute_str = input('Digite o seu número: ')     \n",
        "print('Você digitou: ', chute_str)     \n",
        "chute = int(chute_str)     \n",
        "acertou = numero_secreto == chute     \n",
        "maior = chute > numero_secreto    \n",
        "menor = chute < numero_secreto     \n",
        "if (acertou):     \n",
        "print('Você acertou!')     \n",
        "elif (maior):     \n",
        "print('Você errou! O seu chute foi maior que o número secreto')     \n",
        "elif (menor):     \n",
        "print('Você errou! O seu chute foi menor que o número secreto')     \n",
        "print('Fim do Jogo!')    "
      ]
    },
    {
      "cell_type": "markdown",
      "id": "d6c504a9",
      "metadata": {
        "id": "d6c504a9"
      },
      "source": [
        "Como dito anteriormente, o Python 🐍🐍🐍🐍🐍🐍🐍🐍 não entende português e assim como o `if` ele tem um comando que substituirá a palavra **enquanto** do nosso exemplo.\n",
        "\n",
        "O `while` é esse comando que, assim como o `if` , recebe uma condição.\n",
        "\n",
        "A diferença é que o `if` , caso a condição seja verdadeira, executa **apenas uma vez o código de seu bloco**, já o `while` **continua a executar enquanto a condição for verdadeira**, por exemplo:"
      ]
    },
    {
      "cell_type": "markdown",
      "id": "0af58c3e",
      "metadata": {
        "id": "0af58c3e"
      },
      "source": [
        "x = 5     \n",
        "enquanto x for maior do que 1, faça:     \n",
        "imprime(x)     \n",
        "x = x - 1    "
      ]
    },
    {
      "cell_type": "code",
      "execution_count": 12,
      "id": "8b747f01",
      "metadata": {
        "id": "8b747f01",
        "outputId": "f585dece-5dd0-471a-96e7-5a623f574ce7",
        "colab": {
          "base_uri": "https://localhost:8080/"
        }
      },
      "outputs": [
        {
          "output_type": "stream",
          "name": "stdout",
          "text": [
            "5\n",
            "4\n",
            "3\n",
            "2\n"
          ]
        }
      ],
      "source": [
        "x = 5\n",
        "while(x > 1):\n",
        "    print(x)\n",
        "    x = x - 1"
      ]
    },
    {
      "cell_type": "markdown",
      "id": "a6ea3cdd",
      "metadata": {
        "id": "a6ea3cdd"
      },
      "source": [
        "> Mas\ttome\tcuidado 🤢🤮🤮🤮🤢🤢🤢🥵🥵🥵🥶🥶🥶,\to\tque\tacontece\tse\tesquecermos\tessa\tlinha\tdo\tcódigo\t\tx =\tx - 1 ?\n",
        "O python entra num loop infinito 🕳️🕳️🕳️🕳️🕳️🕳️🌌🌌🌌🌌🌌🌌"
      ]
    },
    {
      "cell_type": "markdown",
      "id": "b0e2e828",
      "metadata": {
        "id": "b0e2e828"
      },
      "source": [
        ">O\tprograma\tvai\timprimir\to\tnúmero\t5\tinfinitamente,\tjá\tque\ta\tcondição\tpassada\té\tsempre\tverdadeira\te\n",
        "não\tmuda\tdentro\tdo\tbloco.🥴🥴🥴🥴😵😵😵😵😵😵"
      ]
    },
    {
      "cell_type": "markdown",
      "id": "2ab659d0",
      "metadata": {
        "id": "2ab659d0"
      },
      "source": [
        "Daremos ao usuário do jogo um **número máximo de tentativas**. Vamos atribuir a variável total_de_tentativas com valor 3, e acrescentar o bloco do comando `while` 🐍🐍🐍🐍🐍🐍🐍🐍\n",
        "```python\n",
        "numero_secreto = 42\n",
        "total_de_tentativas = 3\n",
        "while(ainda há total_de_tentativas):\n",
        "#executa o código\n",
        "```"
      ]
    },
    {
      "cell_type": "markdown",
      "id": "8bf2bf67",
      "metadata": {
        "id": "8bf2bf67"
      },
      "source": [
        "Resta agora a expressão **ainda há**.\n",
        "\n",
        "A ideia é que o usuário tenha 3 tentativas, representada no código pela `variável total_de_tentativas` .    \n",
        "A cada rodada subtraímos 1 do valor dessa variável, até o valor chegar a 0, que é quando devemos sair do `while` .    \n",
        "Logo, vamos executá-lo enquanto a variável **`total_de_tentativas` for maior do que 0**:"
      ]
    },
    {
      "cell_type": "code",
      "execution_count": 13,
      "id": "8bea9bc2",
      "metadata": {
        "id": "8bea9bc2",
        "outputId": "02fb531c-0e04-46b5-adb2-18292cbd016f",
        "colab": {
          "base_uri": "https://localhost:8080/"
        }
      },
      "outputs": [
        {
          "output_type": "stream",
          "name": "stdout",
          "text": [
            "Digite o seu número: 42\n",
            "Você digitou:  42\n",
            "Você acertou\n",
            "Digite o seu número: 45\n",
            "Você digitou:  45\n",
            "Você errou! O seu chute foi maior que o número secreto👎\n",
            "Digite o seu número: 41\n",
            "Você digitou:  41\n",
            "Você errou! O seu chute foi menor que o número secreto👎\n"
          ]
        }
      ],
      "source": [
        "numero_secreto = 42\n",
        "total_de_tentativas = 3\n",
        "while (total_de_tentativas > 0):\n",
        "    chute = int(input('Digite o seu número: '))\n",
        "    print('Você digitou: ', chute)\n",
        "    acertou = chute == numero_secreto\n",
        "    maior = chute > numero_secreto\n",
        "    menor = chute < numero_secreto\n",
        "    if(acertou):\n",
        "        print('Você acertou')\n",
        "    elif(maior):\n",
        "        print('Você errou! O seu chute foi maior que o número secreto👎')\n",
        "    elif(menor):\n",
        "        print('Você errou! O seu chute foi menor que o número secreto👎')\n",
        "    total_de_tentativas = total_de_tentativas - 1"
      ]
    },
    {
      "cell_type": "markdown",
      "id": "981d61a1",
      "metadata": {
        "id": "981d61a1"
      },
      "source": [
        "Além das tentativas, podemos apresentar qual o número da rodada 💯💯💯💯💯💯 que o usuário está jogando para deixar claro quantas tentativas ele têm. Para isso vamos criar a variável rodada , que começa com o valor 1:🐍🐍🐍🐍🐍🐍🐍🐍\n",
        "```python\n",
        "total_de_tentativas = 3\n",
        "rodada = 1\n",
        "```"
      ]
    },
    {
      "cell_type": "code",
      "execution_count": 14,
      "id": "fc71f3b5",
      "metadata": {
        "id": "fc71f3b5",
        "outputId": "7d82cea4-34b4-402d-af32-5d3e644be45a",
        "colab": {
          "base_uri": "https://localhost:8080/"
        }
      },
      "outputs": [
        {
          "output_type": "stream",
          "name": "stdout",
          "text": [
            "Digite o seu número: 42\n",
            "Você digitou:  42\n",
            "Você está na rodada:  1\n",
            "Você acertou👍\n",
            "Digite o seu número: 41\n",
            "Você digitou:  41\n",
            "Você está na rodada:  2\n",
            "Você errou! O seu chute foi menor que o número secreto👎\n",
            "Digite o seu número: 42\n",
            "Você digitou:  42\n",
            "Você está na rodada:  3\n",
            "Você acertou👍\n"
          ]
        }
      ],
      "source": [
        "numero_secreto = 42\n",
        "total_de_tentativas = 3\n",
        "rodada = 1\n",
        "while (total_de_tentativas > 0):\n",
        "    chute = int(input('Digite o seu número: '))\n",
        "    print('Você digitou: ', chute)\n",
        "    print('Você está na rodada: ', rodada)\n",
        "    acertou = chute == numero_secreto\n",
        "    maior = chute > numero_secreto\n",
        "    menor = chute < numero_secreto\n",
        "    if(acertou):\n",
        "        print('Você acertou👍')\n",
        "    elif(maior):\n",
        "        print('Você errou! O seu chute foi maior que o número secreto👎')\n",
        "    elif(menor):\n",
        "        print('Você errou! O seu chute foi menor que o número secreto👎')\n",
        "    total_de_tentativas = total_de_tentativas - 1\n",
        "    rodada = rodada + 1"
      ]
    },
    {
      "cell_type": "code",
      "execution_count": 15,
      "id": "1b6bfb3b",
      "metadata": {
        "id": "1b6bfb3b",
        "outputId": "80843dfb-aed0-4fe7-e68f-4aecad3b4138",
        "colab": {
          "base_uri": "https://localhost:8080/"
        }
      },
      "outputs": [
        {
          "output_type": "stream",
          "name": "stdout",
          "text": [
            "Digite o seu número: 44\n",
            "Você digitou:  44\n",
            "Você está na rodada:  1\n",
            "Você errou! O seu chute foi maior que o número secreto👎\n",
            "Digite o seu número: 45\n",
            "Você digitou:  45\n",
            "Você está na rodada:  2\n",
            "Você errou! O seu chute foi maior que o número secreto👎\n",
            "Digite o seu número: 43\n",
            "Você digitou:  43\n",
            "Você está na rodada:  3\n",
            "Você errou! O seu chute foi maior que o número secreto👎\n",
            "FIM DE JOGO\n"
          ]
        }
      ],
      "source": [
        "numero_secreto = 42\n",
        "total_de_tentativas = 3\n",
        "rodada = 1\n",
        "while (total_de_tentativas > 0):\n",
        "    chute = int(input('Digite o seu número: '))\n",
        "    print('Você digitou: ', chute)\n",
        "    print('Você está na rodada: ', rodada)\n",
        "    acertou = chute == numero_secreto\n",
        "    maior = chute > numero_secreto\n",
        "    menor = chute < numero_secreto\n",
        "    if(acertou):\n",
        "        print('Você acertou👍')\n",
        "    elif(maior):\n",
        "        print('Você errou! O seu chute foi maior que o número secreto👎')\n",
        "    elif(menor):\n",
        "        print('Você errou! O seu chute foi menor que o número secreto👎')\n",
        "    total_de_tentativas = total_de_tentativas - 1\n",
        "    rodada = rodada + 1\n",
        "print('FIM DE JOGO')"
      ]
    },
    {
      "cell_type": "markdown",
      "id": "b277256e",
      "metadata": {
        "id": "b277256e"
      },
      "source": [
        "Falta arrumar uma coisa:\n",
        "\n",
        "> quando o usuário acerta, o jogo continua pedindo um novo chute.\n",
        "\n",
        "Queremos terminar a execução do programa quando o usuário acerta. Para isso usamos o comando `break`. Quando o interpretador encontrar o comando `break` ele para a execução do programa. vamos acrescentar isso quando o usuário acertar, ou seja, no primeiro comando `if` após a exibição da mensagem de acerto:\n",
        "\n",
        "```python\n",
        "if(acertou):\n",
        "    print('Você\tacertou!')\n",
        "    break\n",
        "elif(maior):\n",
        "```"
      ]
    },
    {
      "cell_type": "code",
      "execution_count": 16,
      "id": "ab0383f1",
      "metadata": {
        "id": "ab0383f1",
        "outputId": "5e5e781f-89fc-4d80-8a8d-1230f178f0c7",
        "colab": {
          "base_uri": "https://localhost:8080/"
        }
      },
      "outputs": [
        {
          "output_type": "stream",
          "name": "stdout",
          "text": [
            "Digite o seu número: 42\n",
            "Você digitou:  42\n",
            "Você está na rodada:  1\n",
            "Você acertou👍\n",
            "FIM DE JOGO\n"
          ]
        }
      ],
      "source": [
        "numero_secreto = 42\n",
        "total_de_tentativas = 5\n",
        "rodada = 1\n",
        "while (total_de_tentativas > 0):\n",
        "    chute = int(input('Digite o seu número: '))\n",
        "    print('Você digitou: ', chute)\n",
        "    print('Você está na rodada: ', rodada)\n",
        "    acertou = chute == numero_secreto\n",
        "    maior = chute > numero_secreto\n",
        "    menor = chute < numero_secreto\n",
        "    if(acertou):\n",
        "        print('Você acertou👍')\n",
        "        break\n",
        "    elif(maior):\n",
        "        print('Você errou! O seu chute foi maior que o número secreto👎')\n",
        "    elif(menor):\n",
        "        print('Você errou! O seu chute foi menor que o número secreto👎')\n",
        "    total_de_tentativas = total_de_tentativas - 1\n",
        "    rodada = rodada + 1\n",
        "print('FIM DE JOGO')"
      ]
    },
    {
      "cell_type": "markdown",
      "id": "f1911c9c",
      "metadata": {
        "id": "f1911c9c"
      },
      "source": [
        "# O Comando `for`💯💯💯💯💯💯:\n",
        "\n",
        "Ainda no código do jogo da adivinhação, implementamos o loop  while  , no qual temos uma variável `rodada` que começa com o valor 1, e é incrementada dentro do loop, que por sua vez tem uma condição de entrada, que é a `rodada` ser menor ou igual (`>=`) ao `total_de_tentativas`, que é 3."
      ]
    },
    {
      "cell_type": "markdown",
      "id": "bbdc56a5",
      "metadata": {
        "id": "bbdc56a5"
      },
      "source": [
        "Ou seja, a rodada tem um valor inicial, que é 1, e vai até 3. Fazemos um laço começando com um valor inicial, até um valor final, sempre incrementando esse valor a cada iteração.💯💯💯💯💯💯\n",
        "\n",
        "Mas se esquecermos de incrementar a rodada, entramos em um loop infinito."
      ]
    },
    {
      "cell_type": "markdown",
      "id": "8e50f3b0",
      "metadata": {
        "id": "8e50f3b0"
      },
      "source": [
        "Em casos como esse, existe um outro loop que simplifica essa ideia de começar com um valor e incrementá-lo até chegar em um valor final:\n",
        "\n",
        "> o loop `for`.\n",
        "\n",
        "Para entender o loop, ou laço for, podemos ir até o console do Python para ver o seu funcionamento.💯💯💯💯💯💯\n",
        "\n",
        "A ideia é definirmos o valor inicial e o valor final, que o loop o incrementa automaticamente. Para isto utilizamos a função embutida `range()` , passando-os por parâmetro, definindo assim a série de valores."
      ]
    },
    {
      "cell_type": "markdown",
      "id": "6a882912",
      "metadata": {
        "id": "6a882912"
      },
      "source": [
        "A sintaxe é a seguinte:    \n",
        "Para variável em uma série de valores:\n",
        "Faça algo\n",
        "🐍🐍🐍🐍🐍🐍🐍🐍\n",
        "Isso, em Python, pode ficar assim:\n",
        "```python\n",
        "for rodada in range(1, 10):\n",
        "    print(rodada)\n",
        "```"
      ]
    },
    {
      "cell_type": "code",
      "execution_count": 17,
      "id": "bbd97e17",
      "metadata": {
        "id": "bbd97e17",
        "outputId": "bff5370c-6fcd-4554-df57-ee8b71d1b6d5",
        "colab": {
          "base_uri": "https://localhost:8080/"
        }
      },
      "outputs": [
        {
          "output_type": "stream",
          "name": "stdout",
          "text": [
            "1\n",
            "2\n",
            "3\n",
            "4\n",
            "5\n",
            "6\n",
            "7\n",
            "8\n",
            "9\n"
          ]
        }
      ],
      "source": [
        "for rodada in range(1, 10):\n",
        "    print(rodada)"
      ]
    },
    {
      "cell_type": "markdown",
      "id": "020e96d4",
      "metadata": {
        "id": "020e96d4"
      },
      "source": [
        "Com a função `range()` , 🎰🎰🎰👨‍🦯👨‍🦯👨‍🦯👨‍🦯 podemos definir um `step` (um passo), que é o intervalo entre os elementos. Por padrão, o step tem valor igual a 1, mas podemos alterar este valor passando um terceiro parâmetro para a função"
      ]
    },
    {
      "cell_type": "code",
      "execution_count": 18,
      "id": "cf3fffb3",
      "metadata": {
        "id": "cf3fffb3",
        "outputId": "642924f5-bab9-4ae2-9855-a93d049ad30f",
        "colab": {
          "base_uri": "https://localhost:8080/"
        }
      },
      "outputs": [
        {
          "output_type": "stream",
          "name": "stdout",
          "text": [
            "1\n",
            "3\n",
            "5\n",
            "7\n",
            "9\n"
          ]
        }
      ],
      "source": [
        "for rodada in range(1,10,2):\n",
        "    print(rodada)"
      ]
    },
    {
      "cell_type": "markdown",
      "id": "154995b2",
      "metadata": {
        "id": "154995b2"
      },
      "source": [
        "Veja que o intervalo entre cada elemento da série agora é 2, a cada iteração o laço pula dois passos (incrementa 2). Mas não necessariamente precisamos usar a função range() 🎰🎰🎰👨‍🦯👨‍🦯👨‍🦯👨‍🦯 no `for` , podemos passar os valores da sequência manualmente conseguindo o mesmo resultado:\n",
        "```python   \n",
        "for rodada in [1,2,3,4,5]:\n",
        "    print(rodada)\n",
        "```"
      ]
    },
    {
      "cell_type": "code",
      "execution_count": 19,
      "id": "496f82bf",
      "metadata": {
        "id": "496f82bf",
        "outputId": "a965dd6f-1abd-4ba3-ea3d-297ce4711199",
        "colab": {
          "base_uri": "https://localhost:8080/"
        }
      },
      "outputs": [
        {
          "output_type": "stream",
          "name": "stdout",
          "text": [
            "1\n",
            "2\n",
            "3\n",
            "4\n",
            "5\n"
          ]
        }
      ],
      "source": [
        "for rodada in [1,2,3,4,5]:\n",
        "    print(rodada)"
      ]
    },
    {
      "cell_type": "code",
      "execution_count": 20,
      "id": "9f7f8765",
      "metadata": {
        "id": "9f7f8765",
        "outputId": "b75a5c53-d135-4d2a-bf11-a33c4de9df85",
        "colab": {
          "base_uri": "https://localhost:8080/"
        }
      },
      "outputs": [
        {
          "output_type": "stream",
          "name": "stdout",
          "text": [
            "1\n",
            "2\n",
            "3\n",
            "4\n",
            "5\n",
            "6\n",
            "7\n",
            "8\n",
            "9\n"
          ]
        }
      ],
      "source": [
        "for rodada in [1,2,3,4,5,6,7,8,9]:\n",
        "    print(rodada)"
      ]
    },
    {
      "cell_type": "code",
      "execution_count": 21,
      "id": "2957bf73",
      "metadata": {
        "id": "2957bf73",
        "outputId": "30002c5d-6554-40f8-ed6f-159c11b38d04",
        "colab": {
          "base_uri": "https://localhost:8080/"
        }
      },
      "outputs": [
        {
          "output_type": "stream",
          "name": "stdout",
          "text": [
            "Tentativa 1 de 3\n",
            "Digite o seu número: 42\n",
            "Você digitou:  42\n",
            "Você acertou!👍\n",
            "FIM DE JOGO\n"
          ]
        }
      ],
      "source": [
        "numero_secreto = 42\n",
        "total_de_tentativas = 3\n",
        "for rodada in range(1, total_de_tentativas+1):\n",
        "    print(f'Tentativa {rodada} de {total_de_tentativas}')\n",
        "    chute = int(input('Digite o seu número: '))\n",
        "    print('Você digitou: ', chute)\n",
        "    acertou = numero_secreto == chute\n",
        "    maior = chute > numero_secreto\n",
        "    menor = chute < numero_secreto\n",
        "    if (acertou):\n",
        "        print('Você acertou!👍')\n",
        "        break\n",
        "    elif (maior):\n",
        "        print('Você errou! O seu chute foi maior que o número secreto👎')\n",
        "    elif (menor):\n",
        "        print('Você errou! O seu chute foi menor que o número secreto👎')\n",
        "print('FIM DE JOGO')"
      ]
    },
    {
      "cell_type": "markdown",
      "id": "d9cf1515",
      "metadata": {
        "id": "d9cf1515"
      },
      "source": [
        "# Excelente se você conseguiu chegar aqui sem problemas parabéns 🤩🙌👏\n",
        "\n",
        "🧑‍🎓🧑🏿‍🎓🧑🏻‍🎓🧑🏾‍🎓🧑🏼‍🎓🧑🏽‍🎓\n",
        "\n",
        "Muita coisa nessa terceira conversa!! Nos aprofundamos nos comando `IF - ELSE`e `ELIF` conhecemos os loops com o comando `WHILE` aprendemos um pouco cobre o comando `range()` e começamos a estudar os loops com `for`.  \n",
        "\n",
        "## E o mais importante sextou !!! 🍕🍕🌭🌭🥪🥪🌮🌮🍺🍺🍷🍷🍸🍸🍹🍹🍻🍻🥂🥂🥃🥃🥤🥤"
      ]
    }
  ],
  "metadata": {
    "celltoolbar": "Slideshow",
    "colab": {
      "provenance": [],
      "include_colab_link": true
    },
    "kernelspec": {
      "display_name": "Python 3 (ipykernel)",
      "language": "python",
      "name": "python3"
    },
    "language_info": {
      "codemirror_mode": {
        "name": "ipython",
        "version": 3
      },
      "file_extension": ".py",
      "mimetype": "text/x-python",
      "name": "python",
      "nbconvert_exporter": "python",
      "pygments_lexer": "ipython3",
      "version": "3.9.13"
    },
    "nbTranslate": {
      "displayLangs": [
        "pt",
        "en"
      ],
      "hotkey": "alt-t",
      "langInMainMenu": true,
      "sourceLang": "en",
      "targetLang": "pt",
      "useGoogleTranslate": true
    }
  },
  "nbformat": 4,
  "nbformat_minor": 5
}