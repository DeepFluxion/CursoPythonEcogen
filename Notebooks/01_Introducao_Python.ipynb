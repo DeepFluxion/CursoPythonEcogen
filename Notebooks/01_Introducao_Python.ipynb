{
 "cells": [
  {
   "cell_type": "markdown",
   "id": "fc08f384",
   "metadata": {
    "slideshow": {
     "slide_type": "slide"
    }
   },
   "source": [
    "# Aula 01 - Parte 1 Entendendo o que é Python\n",
    "\n",
    "texto elaborado a partir de material da AWS que pode ser acessado [aqui](https://aws.amazon.com/pt/what-is/python/#:~:text=O%20Python%20%C3%A9%20uma%20linguagem%20interpretada%2C%20o%20que%20significa%20que,encontrar%20rapidamente%20erros%20no%20c%C3%B3digo.) e do site https://www.python.org/"
   ]
  },
  {
   "cell_type": "markdown",
   "id": "65c60eab",
   "metadata": {
    "slideshow": {
     "slide_type": "subslide"
    }
   },
   "source": [
    "## O que é Python?🐍\n",
    "\n",
    "O Python é uma linguagem de programação amplamente usada em aplicações da Web, desenvolvimento de software, ciência de dados e machine learning (ML). Os desenvolvedores usam o Python porque é eficiente e fácil de aprender e pode ser executada em muitas plataformas diferentes. O software Python pode ser baixado gratuitamente, integra-se bem a todos os tipos de sistema e agiliza o desenvolvimento."
   ]
  },
  {
   "cell_type": "markdown",
   "id": "d67b1250",
   "metadata": {
    "slideshow": {
     "slide_type": "subslide"
    }
   },
   "source": [
    "## Qual é a história do Python?📆\n",
    "\n",
    "[Guido Van Rossum](https://pt.wikipedia.org/wiki/Guido_van_Rossum), um programador de computador na Holanda, criou o Python. Ele começou em 1989 no Centrum Wiskunde & Informatica (CWI), inicialmente como um projeto de hobby para se manter ocupado durante o Natal. O nome da linguagem foi inspirado no programa de TV da BBC [“Monty Python’s Flying Circus”](https://en.wikipedia.org/wiki/Monty_Python%27s_Flying_Circus), porque Guido Van Rossum era um grande fã do programa. "
   ]
  },
  {
   "cell_type": "markdown",
   "id": "f76d8925",
   "metadata": {
    "slideshow": {
     "slide_type": "subslide"
    }
   },
   "source": [
    "## Histórico de versões do Python📆\n",
    "\n",
    "Guido Van Rossum publicou a primeira versão do código Python (versão 0.9.0) em 1991. Ela já incluía bons recursos, como alguns tipos de dados e funções para tratamento de erros. \n",
    "\n",
    "* O Python 1.0 foi lançado em 1994 com novas funções para processar facilmente uma lista de dados, como mapear, filtrar e reduzir.\n",
    "\n",
    "* O Python 2.0 foi lançado em 16 de outubro de 2000, com novos recursos úteis para programadores, como suporte para caracteres Unicode e um modo mais rápido de percorrer uma lista.\n",
    "\n",
    "* Em 3 de dezembro de 2008, foi lançado o Python 3.0. Ele incluía recursos como a função de impressão e mais suporte para divisão de números e tratamento de erros. Atualmente o python está na versão 3.11.5 que pode ser baixado [aqui](https://www.python.org/)"
   ]
  },
  {
   "cell_type": "markdown",
   "id": "3f1fdd25",
   "metadata": {
    "slideshow": {
     "slide_type": "slide"
    }
   },
   "source": [
    "## Quais são os principais recursos do Python?\n",
    "Os seguintes recursos da linguagem de programação Python a tornam única:\n",
    "\n",
    "* __Uma linguagem interpretada__ - O Python é uma linguagem interpretada, o que significa que executa diretamente o código linha por linha. Se houver erros no código do programa, ele será interrompido. Portanto, os programadores podem encontrar rapidamente erros no código.\n",
    "\n",
    "* __Uma linguagem fácil de usar__ - O Python usa palavras semelhantes às do inglês. Ao contrário de outras linguagens de programação, o Python não usa chaves. Em vez disso, usa recuo. \n",
    "\n",
    "* __Uma linguagem com tipos dinâmicos__ - Os programadores não precisam declarar tipos de variáveis ao escrever o código, porque o Python os determina no tempo de execução. Dessa forma, é possível escrever programas Python mais rapidamente.\n",
    "\n",
    "* __Uma linguagem de alto nível__ - O Python está mais próximo das linguagens humanas do que outras linguagens de programação. Portanto, os programadores não precisam se preocupar com suas funcionalidades subjacentes, como arquitetura e gerenciamento de memória.\n",
    "\n",
    "* __Uma linguagem orientada a objetos__ - O Python considera tudo como um objeto, mas também aceita outros tipos de programação, como estruturada e funcional."
   ]
  },
  {
   "cell_type": "markdown",
   "id": "325c0678",
   "metadata": {
    "slideshow": {
     "slide_type": "slide"
    }
   },
   "source": [
    "## O que são bibliotecas Python?\n",
    "Uma biblioteca é uma coleção de códigos usados com frequência que os desenvolvedores podem incluir em seus programas Python para evitar escrever o código do zero. Por padrão, o Python vem com a Standard Library, que contém muitas funções reutilizáveis. Além disso, mais de 137 mil bibliotecas Python estão disponíveis para várias aplicações, incluindo desenvolvimento Web, ciência de dados e machine learning (ML)."
   ]
  },
  {
   "cell_type": "markdown",
   "id": "cbdbea55",
   "metadata": {
    "slideshow": {
     "slide_type": "slide"
    }
   },
   "source": [
    "## Quais são as bibliotecas Python que iremos aprender nestas aulas ?\n",
    "\n",
    "* __Matplotlib__ - Os desenvolvedores usam o [Matplotlib](https://matplotlib.org/) para representar dados em gráficos bidimensionais e tridimensionais (2D e 3D) de alta qualidade. É frequentemente usado em aplicações científicas. Com o Matplotlib, é possível visualizar dados em diferentes gráficos, como de barras e de linhas. Você também pode criar vários gráficos de uma só vez, e é possível fazer a portabilidade dos gráficos entre todas as plataformas.\n",
    "\n",
    "* __Pandas__ - O [Pandas](https://pandas.pydata.org/) fornece estruturas de dados otimizadas e flexíveis para manipular dados de séries temporais e dados estruturados, como tabelas e matrizes. Por exemplo, use o Pandas para ler, gravar, mesclar, filtrar e agrupar dados. Muitas pessoas o usam para ciência de dados, análise de dados e tarefas de ML.\n",
    "\n",
    "* __NumPy__ - O [NumPy](https://numpy.org/) é uma biblioteca popular que os desenvolvedores usam para criar e gerenciar facilmente arrays, manipular formas lógicas e realizar operações de álgebra linear. É compatível com a integração com muitas linguagens, como C e C++.\n",
    "\n",
    "* __Scikit-learn__: O [Scikit-learn](https://scikit-learn.org/stable/index.html) é uma biblioteca gratuita, de código aberto, para Machine Learning (Aprendizado de Máquina) em Python. Ela fornece uma seleção de recursos eficientes para modelagem estatística, análise e mineração de dados, além de suporte ao aprendizado supervisionado e não supervisionado. A biblioteca é reutilizável em diferentes situações, possui código aberto e foi construída sobre os pacotes NumPy, SciPy e matplotilib."
   ]
  },
  {
   "cell_type": "markdown",
   "id": "006424d5",
   "metadata": {
    "lang": "pt",
    "slideshow": {
     "slide_type": "slide"
    }
   },
   "source": [
    "## Começando com Python 😄😜🙅‍♂️🙅🚀\n",
    "Python pode ser fácil de aprender, quer você seja um programador iniciante ou tenha experiência com outras linguagens. As páginas a seguir são um primeiro passo útil para começar a escrever programas com Python!\n",
    "\n",
    "* [Guia para iniciantes, programadores](https://wiki.python.org/moin/BeginnersGuide/Programmers)\n",
    "* [Guia para iniciantes, não programadores](https://wiki.python.org/moin/BeginnersGuide/NonProgrammers)\n",
    "* [Guia para iniciantes, download e instalação](https://wiki.python.org/moin/BeginnersGuide/Download)\n",
    "* [Amostra de código e trechos para iniciantes](https://wiki.python.org/moin/BeginnersGuide/Examples)"
   ]
  },
  {
   "cell_type": "markdown",
   "id": "84bcb3e4",
   "metadata": {
    "slideshow": {
     "slide_type": "slide"
    }
   },
   "source": [
    "# Aula 01 - Parte 2 Fundamentos de Python\n",
    "\n",
    "texto elaborado a partir de material da AWS que pode ser acessado [aqui](https://aws.amazon.com/pt/what-is/python/#:~:text=O%20Python%20%C3%A9%20uma%20linguagem%20interpretada%2C%20o%20que%20significa%20que,encontrar%20rapidamente%20erros%20no%20c%C3%B3digo.) e do site https://www.python.org/"
   ]
  },
  {
   "cell_type": "markdown",
   "id": "5dcf969b",
   "metadata": {
    "slideshow": {
     "slide_type": "slide"
    }
   },
   "source": [
    "## Usando o Google Colab\n",
    "\n",
    "![](https://geonetcast.files.wordpress.com/2021/07/google-colab.png)\n",
    "\n",
    "Acesse esse link:\n",
    "    \n",
    "https://github.com/DeepFluxion/CursoPythonEcogen/blob/main/Notebooks/00_Introducao_Google_Colab.ipynb"
   ]
  },
  {
   "cell_type": "markdown",
   "id": "3f14b73f",
   "metadata": {
    "slideshow": {
     "slide_type": "slide"
    }
   },
   "source": [
    "## PRIMEIRO\tPROGRAMA\n",
    "---\n",
    "Vamos para nosso primeiro código! Um programa que imprime uma mensagem simples. Para mostrar uma mensagem específica, fazemos:\n",
    "```python\n",
    " print('Minha primeira aplicação Python!')\n",
    "```\n",
    "Certo, mas onde digitar esse comando? Como rodar uma instrução Python?\n",
    "\n",
    "Faremos isto de duas formas \n",
    "1. Usando o notebook do Google Colab\n",
    "2. Vamos escrever um código no nosso computador e executá-lo dentro do Google Colab, o que simulará a excução em um computador, mas dispensando a instalação do python"
   ]
  },
  {
   "cell_type": "markdown",
   "id": "1c5b0353",
   "metadata": {
    "slideshow": {
     "slide_type": "slide"
    }
   },
   "source": [
    "# Usando o notebook do Google Colab\n",
    "---\n",
    "## 1. Se você ainda não estiver no google colab vá para https://colab.google/\n",
    "![](img\\fig_1_1.png)"
   ]
  },
  {
   "cell_type": "markdown",
   "id": "1c6c6c69",
   "metadata": {
    "slideshow": {
     "slide_type": "slide"
    }
   },
   "source": [
    "# Usando o notebook do Google Colab\n",
    "---\n",
    "## 2. A seguir clique em `New Notebook`\n",
    "![](img\\fig_1_2.png)"
   ]
  },
  {
   "cell_type": "markdown",
   "id": "16dbae8e",
   "metadata": {
    "slideshow": {
     "slide_type": "slide"
    }
   },
   "source": [
    "# Usando o notebook do Google Colab\n",
    "---\n",
    "## 3. Digite na Celula \n",
    "```python\n",
    "print('Minha primeira aplicação Python!')\n",
    "```\n",
    "![](img\\fig_1_3.png)"
   ]
  },
  {
   "cell_type": "markdown",
   "id": "de6616fb",
   "metadata": {
    "slideshow": {
     "slide_type": "slide"
    }
   },
   "source": [
    " Usando o notebook do Google Colab\n",
    "---\n",
    "## 4. Clique em ▻ ao lado da Célula ou no menu superior >_Ambiente de Execução_ > _Executar Célula em Foco_ e digite\n",
    "```python\n",
    "print('Minha primeira aplicação Python!')\n",
    "```\n",
    "![](img\\fig_1_4.png)"
   ]
  },
  {
   "cell_type": "markdown",
   "id": "f3331a8f",
   "metadata": {
    "slideshow": {
     "slide_type": "slide"
    }
   },
   "source": [
    "![](img\\fig_1_5.png)"
   ]
  },
  {
   "cell_type": "markdown",
   "id": "7e9bc12b",
   "metadata": {
    "slideshow": {
     "slide_type": "slide"
    }
   },
   "source": [
    "# Criando o script na sua Máquina e executando no Google Colab\n",
    "---\n",
    "## 1. Abra um novo arquivo no Bloco de Notas\n",
    "![](img\\fig_1_6.png)"
   ]
  },
  {
   "cell_type": "markdown",
   "id": "346ba859",
   "metadata": {
    "slideshow": {
     "slide_type": "slide"
    }
   },
   "source": [
    "> ### Você deve ver algo assim:\n",
    "![](img\\fig_1_7.png)"
   ]
  },
  {
   "cell_type": "markdown",
   "id": "a0c6ae72",
   "metadata": {
    "slideshow": {
     "slide_type": "slide"
    }
   },
   "source": [
    "# Criando o script na sua Máquina e executando no Google Colab\n",
    "---\n",
    "## 2. No Bloco de Notas digite:\n",
    "print('Minha primeira aplicação Python!')\n",
    "![](img\\fig_1_8.png)\n",
    "> ### Salve o arquivo com o seguinte nome `script.py` clicando no menu superior >_Arquivo_>_Salvar Como_ \n",
    "![](img\\fig_1_9.png)"
   ]
  },
  {
   "cell_type": "markdown",
   "id": "42f46437",
   "metadata": {
    "slideshow": {
     "slide_type": "slide"
    }
   },
   "source": [
    "# Criando o script na sua Máquina e executando no Google Colab\n",
    "---\n",
    "## 3. Se você ainda não estiver no google colab vá para https://colab.google/\n",
    "![](img\\fig_1_1.png)"
   ]
  },
  {
   "cell_type": "markdown",
   "id": "91946810",
   "metadata": {
    "slideshow": {
     "slide_type": "slide"
    }
   },
   "source": [
    "# Criando o script na sua Máquina e executando no Google Colab\n",
    "---\n",
    "## 4. A seguir clique em `New Notebook`\n",
    "![](img\\fig_1_2.png)"
   ]
  },
  {
   "cell_type": "markdown",
   "id": "9c6cf289",
   "metadata": {
    "slideshow": {
     "slide_type": "slide"
    }
   },
   "source": [
    "# Criando o script na sua Máquina e executando no Google Colab\n",
    "---\n",
    "## 5. A seguir clique em `Arquivos` (Simbolo 📁 na barra lateral)\n",
    "![](img\\fig_1_11.png)"
   ]
  },
  {
   "cell_type": "markdown",
   "id": "fc6de41d",
   "metadata": {
    "slideshow": {
     "slide_type": "slide"
    }
   },
   "source": [
    "## Você verá algo assim, e selecione o simbolo ⬆ Fazer Upload...\n",
    "![](img\\fig_1_12.png)"
   ]
  },
  {
   "cell_type": "markdown",
   "id": "681db20f",
   "metadata": {
    "slideshow": {
     "slide_type": "slide"
    }
   },
   "source": [
    "## Agora você irá fazer o Upload do arquivo `script.py`\n",
    "> ![](img\\fig_1_13.png)"
   ]
  },
  {
   "cell_type": "markdown",
   "id": "ac24a6be",
   "metadata": {
    "slideshow": {
     "slide_type": "slide"
    }
   },
   "source": [
    "## Se tudo estiver ok você verá isso (uma aviso pode aparecer advertindo sobre uso de arquivos, clique `OK`)\n",
    "> ![](img\\fig_1_14.png)"
   ]
  },
  {
   "cell_type": "markdown",
   "id": "99b97049",
   "metadata": {
    "slideshow": {
     "slide_type": "slide"
    }
   },
   "source": [
    "# Criando o script na sua Máquina e executando no Google Colab\n",
    "---\n",
    "## 6. A seguir digite o seguinte código:\n",
    "```python\n",
    "!python /content/script.py\n",
    "```\n",
    "![](img\\fig_1_15.png)"
   ]
  },
  {
   "cell_type": "markdown",
   "id": "5eb8ea39",
   "metadata": {
    "slideshow": {
     "slide_type": "slide"
    }
   },
   "source": [
    "# Criando o script na sua Máquina e executando no Google Colab\n",
    "---\n",
    "## 7. Execute o código clicando em ▻ :\n",
    "\n",
    "![](img\\fig_1_16.png)"
   ]
  },
  {
   "cell_type": "markdown",
   "id": "bf30b6fc",
   "metadata": {
    "slideshow": {
     "slide_type": "slide"
    }
   },
   "source": [
    "## O QUE PODE DAR ERRADO?\n",
    "Nem sempre as coisas acontecem como esperado. O Python tem uma sintaxe própria, um vocabulário próprio. Digitar algo que o interpretador não entende causará um erro no programa. Vejamos alguns exemplos (vejas as explicações detalhadas na página 11 item 2.13 da apostila da Alura"
   ]
  },
  {
   "cell_type": "code",
   "execution_count": null,
   "id": "a3d914b7",
   "metadata": {
    "slideshow": {
     "slide_type": "subslide"
    }
   },
   "outputs": [],
   "source": [
    "# Esquecer os parenteses\n",
    "print 'Minha primeira aplicação Python!'"
   ]
  },
  {
   "cell_type": "code",
   "execution_count": null,
   "id": "fb758ed7",
   "metadata": {
    "slideshow": {
     "slide_type": "fragment"
    }
   },
   "outputs": [],
   "source": [
    "# Esquecer de fechar os parêntese\n",
    "print ('Minha primeira aplicação Python!'"
   ]
  },
  {
   "cell_type": "code",
   "execution_count": null,
   "id": "b00c9cc5",
   "metadata": {
    "slideshow": {
     "slide_type": "fragment"
    }
   },
   "outputs": [],
   "source": [
    "# Esquecer de colocar a mensagem entre aspas (simples ou duplas)\n",
    "print (Minha primeira aplicação Python!)"
   ]
  },
  {
   "cell_type": "markdown",
   "id": "3a8a03af",
   "metadata": {
    "slideshow": {
     "slide_type": "slide"
    }
   },
   "source": [
    "# Excelente se você conseguiu chegar aqui sem problemas parabéns 🤩🙌👏\n",
    "\n",
    "Aprendemos duas forma de executar um programa em python, neste curso estaremos usando sempre a **PRIMEIRA FORMA** ou seja executando o código diretamente no notebook do colab."
   ]
  },
  {
   "cell_type": "markdown",
   "id": "4fbb2f6d",
   "metadata": {
    "slideshow": {
     "slide_type": "slide"
    }
   },
   "source": [
    "# Exercicios 👨🏻‍💻\n",
    "---\n",
    "## EXERCÍCIO:\tMODIFICANDO\tO\tPROGRAMA"
   ]
  },
  {
   "cell_type": "markdown",
   "id": "c94c02fc",
   "metadata": {
    "slideshow": {
     "slide_type": "slide"
    }
   },
   "source": [
    "## 1.\t Altere\to programa para imprimir uma mensagem diferente."
   ]
  },
  {
   "cell_type": "code",
   "execution_count": null,
   "id": "b18f87d1",
   "metadata": {
    "slideshow": {
     "slide_type": "fragment"
    }
   },
   "outputs": [],
   "source": [
    "# seu código aqui\n",
    "\n",
    "print('uma mensagem diferente')"
   ]
  },
  {
   "cell_type": "markdown",
   "id": "b4cb14da",
   "metadata": {
    "slideshow": {
     "slide_type": "slide"
    }
   },
   "source": [
    "## 2. Altere seu programa para imprimir duas linhas de código utilizando a função `print()`"
   ]
  },
  {
   "cell_type": "code",
   "execution_count": null,
   "id": "a7c86b3d",
   "metadata": {
    "slideshow": {
     "slide_type": "fragment"
    }
   },
   "outputs": [],
   "source": [
    "# seu código aqui\n",
    "\n",
    "print(\"uma mensagem diferente\")\n",
    "print(\"uma mensagem diferente\")"
   ]
  },
  {
   "cell_type": "markdown",
   "id": "6de89ca5",
   "metadata": {
    "slideshow": {
     "slide_type": "slide"
    }
   },
   "source": [
    "## 3. Sabendo que os caracteres `\\n` representam uma quebra de linha, imprima duas linhas de texto usando uma única linha de código.🥺😳😦"
   ]
  },
  {
   "cell_type": "code",
   "execution_count": null,
   "id": "e1189462",
   "metadata": {
    "slideshow": {
     "slide_type": "fragment"
    }
   },
   "outputs": [],
   "source": [
    "# seu código aqui\n",
    "\n",
    "print(\"uma mensagem diferente\\n uma mensagem diferente \\n uma mensagem diferente🥺😳😦\")"
   ]
  },
  {
   "cell_type": "markdown",
   "id": "5ede3b41",
   "metadata": {
    "slideshow": {
     "slide_type": "slide"
    }
   },
   "source": [
    "# Variáveis e Tipos Embutidos 👩🏻‍💻👩🏼‍💻👩🏽‍💻👩🏾‍💻👩🏿‍💻\n",
    "\n",
    "Agora vamos conhecer os tipos da biblioteca padrão do Python. Os principais tipos internos são números, sequências, mapas, classes, objetos e exceções, mas iremos focar primeiramente nos números e sequências de texto (strings). São objetos nativos da linguagem, recursos que já vêm prontos para uso e chamados de built-ins. \n",
    "\n",
    "Neste início da aprendizagem, trabalharemos com o modo interativo, e ao final produziremos uma pequena aplicação em um script."
   ]
  },
  {
   "cell_type": "markdown",
   "id": "2c3a4ef6",
   "metadata": {
    "slideshow": {
     "slide_type": "slide"
    }
   },
   "source": [
    "Um valor, como um número ou texto, é algo comum em um programa. Por exemplo, `Hello, World!`, `1`, `2`, todos são valores. Estes valores são de diferentes tipos: `1` e `2` são números inteiros e `'Hello World!'` é um texto, também chamado de String. \n",
    "\n",
    "**Podemos identificar strings porque são delimitadas por aspas (simples ou duplas)** - e é exatamente dessa maneira que o interpretador Python também identifica uma string. A função `print()` utilizada no capítulo anterior também trabalha com inteiros:"
   ]
  },
  {
   "cell_type": "code",
   "execution_count": null,
   "id": "115fb3b2",
   "metadata": {
    "slideshow": {
     "slide_type": "slide"
    }
   },
   "outputs": [],
   "source": [
    "print(1)"
   ]
  },
  {
   "cell_type": "code",
   "execution_count": null,
   "id": "230e72bd",
   "metadata": {
    "slideshow": {
     "slide_type": "fragment"
    }
   },
   "outputs": [],
   "source": [
    "print(2)"
   ]
  },
  {
   "cell_type": "code",
   "execution_count": null,
   "id": "cf54ab69",
   "metadata": {
    "slideshow": {
     "slide_type": "fragment"
    }
   },
   "outputs": [],
   "source": [
    "print('Hello, Word!')"
   ]
  },
  {
   "cell_type": "markdown",
   "id": "cdcb1889",
   "metadata": {
    "slideshow": {
     "slide_type": "slide"
    }
   },
   "source": [
    "🕵🏻‍♂️🕵🏼‍♂️🕵🏽‍♂️🕵🏾‍♂️🕵🏿‍♂️Veja que para `1` e `2` não é necessário utilizar aspas por se tratar de um número. Caso você não tenha certeza qual é o tipo de um valor, pode usar a função `type()` para checar:"
   ]
  },
  {
   "cell_type": "code",
   "execution_count": null,
   "id": "430730f3",
   "metadata": {
    "slideshow": {
     "slide_type": "subslide"
    }
   },
   "outputs": [],
   "source": [
    "type(1)"
   ]
  },
  {
   "cell_type": "code",
   "execution_count": null,
   "id": "ee3c9962",
   "metadata": {
    "slideshow": {
     "slide_type": "subslide"
    }
   },
   "outputs": [],
   "source": [
    "type(2.)"
   ]
  },
  {
   "cell_type": "code",
   "execution_count": null,
   "id": "80795c44",
   "metadata": {
    "slideshow": {
     "slide_type": "subslide"
    }
   },
   "outputs": [],
   "source": [
    "type('Hello World')"
   ]
  },
  {
   "cell_type": "code",
   "execution_count": null,
   "id": "bfd5e028",
   "metadata": {
    "slideshow": {
     "slide_type": "subslide"
    }
   },
   "outputs": [],
   "source": [
    "type(\"Hello World\")"
   ]
  },
  {
   "cell_type": "markdown",
   "id": "1089988f",
   "metadata": {
    "slideshow": {
     "slide_type": "slide"
    }
   },
   "source": [
    "✒️🖋️✏️🖊️🖍️Strings são do tipo `str` (abreviação para string) e inteiros do tipo `int` (abreviação para integer).\n",
    "\n",
    "Veremos que funções como `type()` e `print()` também são tipos embutidos no Python. Outro tipo que existe no Python são os números decimais que são do tipo `float` (ponto flutuante):"
   ]
  },
  {
   "cell_type": "code",
   "execution_count": null,
   "id": "bacdff56",
   "metadata": {
    "slideshow": {
     "slide_type": "subslide"
    }
   },
   "outputs": [],
   "source": [
    "type(3.2)"
   ]
  },
  {
   "cell_type": "markdown",
   "id": "c5a38636",
   "metadata": {
    "slideshow": {
     "slide_type": "slide"
    }
   },
   "source": [
    "E qual será o tipo de valores como `'2'` e `'3.2'`? Eles se parecem com números mas são delimitados por aspas como strings. Utilize a função `type()` para fazer a verificação:"
   ]
  },
  {
   "cell_type": "code",
   "execution_count": null,
   "id": "cdad8bb8",
   "metadata": {
    "slideshow": {
     "slide_type": "fragment"
    }
   },
   "outputs": [],
   "source": [
    "type('2')"
   ]
  },
  {
   "cell_type": "code",
   "execution_count": null,
   "id": "48058618",
   "metadata": {
    "slideshow": {
     "slide_type": "fragment"
    }
   },
   "outputs": [],
   "source": [
    "type(Hello World)"
   ]
  },
  {
   "cell_type": "markdown",
   "id": "810a7716",
   "metadata": {
    "slideshow": {
     "slide_type": "fragment"
    }
   },
   "source": [
    "Como estão delimitados por aspas, o [interpretador do Python]('https://www.youtube.com/watch?v=KSAnIuXExuM') vai entender esses valores como strings, ou seja, como texto."
   ]
  },
  {
   "cell_type": "markdown",
   "id": "d8bf55f1",
   "metadata": {
    "slideshow": {
     "slide_type": "slide"
    }
   },
   "source": [
    "# Variáveis🦾🦿🦼🔭📡🔬\n",
    "\n",
    "Podemos pedir para o Python lembrar de um valor que queiramos utilizar em outro momento do programa. \n",
    "\n",
    "O Python vai guardar este valor em uma **variável**. Variável é um nome que faz **referência** a um valor. \n",
    "\n",
    ">**É como uma etiqueta 🏷️🔖🏷️🔖que colocamos naquele valor e quando precisarmos usar, chamamos pelo nome que foi dado na etiqueta.🏷️🔖🏷️🔖**\n"
   ]
  },
  {
   "cell_type": "markdown",
   "id": "33d8c5d1",
   "metadata": {
    "slideshow": {
     "slide_type": "subslide"
    }
   },
   "source": [
    "🏷️⬅️🅰️ Um comando de atribuição (o sinal de igualdade `=` ) cria uma nova variável e atribui um valor a ela:\n",
    "```python\n",
    "🏷️mensagem =⬅️ 'oi, python'🅰️\n",
    "🏷️numero =⬅️ 5 🅰️\n",
    "🏷️pi =⬅️ 3.14 🅰️\n",
    "```"
   ]
  },
  {
   "cell_type": "code",
   "execution_count": null,
   "id": "fcd6dbf3",
   "metadata": {
    "slideshow": {
     "slide_type": "fragment"
    }
   },
   "outputs": [],
   "source": [
    "mensagem = 'oi, python🐍'\n",
    "numero = 5 \n",
    "pi = 3.14 "
   ]
  },
  {
   "cell_type": "markdown",
   "id": "a02aebfb",
   "metadata": {
    "slideshow": {
     "slide_type": "subslide"
    }
   },
   "source": [
    "Três atribuições foram feitas neste código. Atribuímos a variável `mensagem` uma string; a variável `numero` um inteiro e a variável `pi` um valor aproximado do número pi. \n",
    "\n",
    "No modo interativo, o interpretador mostra o resultado após cada atribuição. Para recuperar esses valores, basta chamar pelos nomes das variáveis definidas anteriormente:"
   ]
  },
  {
   "cell_type": "code",
   "execution_count": null,
   "id": "178a95a9",
   "metadata": {
    "slideshow": {
     "slide_type": "subslide"
    }
   },
   "outputs": [],
   "source": [
    "mensagem"
   ]
  },
  {
   "cell_type": "code",
   "execution_count": null,
   "id": "fec6eaf7",
   "metadata": {
    "slideshow": {
     "slide_type": "fragment"
    }
   },
   "outputs": [],
   "source": [
    "numero"
   ]
  },
  {
   "cell_type": "code",
   "execution_count": null,
   "id": "057f165a",
   "metadata": {
    "slideshow": {
     "slide_type": "fragment"
    }
   },
   "outputs": [],
   "source": [
    "pi"
   ]
  },
  {
   "cell_type": "markdown",
   "id": "e8064feb",
   "metadata": {
    "slideshow": {
     "slide_type": "subslide"
    }
   },
   "source": [
    "Utilize a função `type()` para verificar seus tipos:\n",
    "```python\n",
    "type(mensagem) \n",
    "type(numero) \n",
    "type(pi)\n",
    "```"
   ]
  },
  {
   "cell_type": "code",
   "execution_count": null,
   "id": "dbb16f1d",
   "metadata": {
    "slideshow": {
     "slide_type": "fragment"
    }
   },
   "outputs": [],
   "source": [
    "# verifique aqui os tipos\n",
    "\n",
    "#type(mensagem)\n",
    "#type(numero) \n",
    "#type(pi)\n"
   ]
  },
  {
   "cell_type": "markdown",
   "id": "f791dc15",
   "metadata": {
    "slideshow": {
     "slide_type": "slide"
    }
   },
   "source": [
    "# Nomes de Variáveis 🐍🔎🔎🔎\n",
    "\n",
    "Programadores escolhem **nomes para variáveis** que sejam **semânticos** e que ao mesmo tempo **documentem o código**. Esses nomes podem ser bem longos, podem conter letras e números. \n",
    "\n",
    "É uma convenção entre os programadores Python começar a variável com letras minúsculas e utilizar o underscore ( _ ) para separar palavras como: `meu_nome`, `numero_de_cadastro`, `telefone_residencial`. \n",
    "Esse padrão é chamado de **snake case**. \n",
    "\n",
    "Variáveis também podem começar com underscore ( _ ) mas deve ser evitado e utilizado em casos mais específicos. Se nomearmos nossas variáveis com um nome ilegal, o interpretador vai acusar um erro de sintaxe:"
   ]
  },
  {
   "cell_type": "code",
   "execution_count": null,
   "id": "ed124c7c",
   "metadata": {
    "slideshow": {
     "slide_type": "subslide"
    }
   },
   "outputs": [],
   "source": [
    "1nome = 'python'"
   ]
  },
  {
   "cell_type": "code",
   "execution_count": null,
   "id": "ff32fbd6",
   "metadata": {
    "slideshow": {
     "slide_type": "subslide"
    }
   },
   "outputs": [],
   "source": [
    "numero@\t=10"
   ]
  },
  {
   "cell_type": "code",
   "execution_count": null,
   "id": "ca85becc",
   "metadata": {
    "slideshow": {
     "slide_type": "subslide"
    }
   },
   "outputs": [],
   "source": [
    "class='oi'"
   ]
  },
  {
   "cell_type": "markdown",
   "id": "64f546eb",
   "metadata": {
    "slideshow": {
     "slide_type": "subslide"
    }
   },
   "source": [
    "🐍🔎🔎🔎\n",
    "- `1nome` é ilegal porque começa com um número, \n",
    "- `numero@` é ilegal porque contém um caractere especial (o `@`) considerado ilegal para variáveis. \n",
    "- E `class` é ilegal porque `class` é uma **palavra chave** em Python. \n",
    "- O interpretador utiliza palavras chaves como palavras reservadas da linguagem, como um vocabulário próprio."
   ]
  },
  {
   "cell_type": "markdown",
   "id": "54e0a097",
   "metadata": {
    "slideshow": {
     "slide_type": "subslide"
    }
   },
   "source": [
    "🐍🔎🔎🔎\n",
    "* Palavras reservadas do python:\n",
    "```python\n",
    "False      await      else       import     pass\n",
    "None       break      except     in         raise\n",
    "True       class      finally    is         return\n",
    "and        continue   for        lambda     try\n",
    "as         def        from       nonlocal   while\n",
    "assert     del        global     not        with\n",
    "async      elif       if         or         yield\n",
    "```"
   ]
  },
  {
   "cell_type": "markdown",
   "id": "b9634c84",
   "metadata": {
    "slideshow": {
     "slide_type": "slide"
    }
   },
   "source": [
    "Uma instrução (ou comando) é uma unidade de código que o Python pode executar. Por exemplo, a função `print()` para imprimir uma mensagem na tela é um comando:\n",
    "```python\n",
    ">>> print(\"Hello, World!\") \n",
    "Hello, World!\n",
    "```"
   ]
  },
  {
   "cell_type": "code",
   "execution_count": null,
   "id": "438ebcda",
   "metadata": {
    "slideshow": {
     "slide_type": "subslide"
    }
   },
   "outputs": [],
   "source": [
    "# Faça um teste gerar uma saída de x e y\n",
    "x=1\n",
    "y=2\n",
    "x\n",
    "y"
   ]
  },
  {
   "cell_type": "code",
   "execution_count": null,
   "id": "b33fc1fd",
   "metadata": {
    "slideshow": {
     "slide_type": "subslide"
    }
   },
   "outputs": [],
   "source": [
    "# tente novamente agora do jeto certo!\n",
    "x=1\n",
    "y=2\n",
    "print(x)\n",
    "print(y)"
   ]
  },
  {
   "cell_type": "markdown",
   "id": "e115bd03",
   "metadata": {
    "slideshow": {
     "slide_type": "slide"
    }
   },
   "source": [
    "## Operadores Aritiméticos\n",
    "✅☑️✔️✖️❌❎➕➖➗✳️✴️🔢   \n",
    "Operadores são símbolos especiais que representam cálculos como adições e multiplicações. Para fazer cálculos com números utilizamos os operadores `+`, `-`, `*`, `/` e `**` que representam, respectivamente, adição, subtração, multiplicação, divisão e potenciação."
   ]
  },
  {
   "cell_type": "markdown",
   "id": "83596982",
   "metadata": {
    "slideshow": {
     "slide_type": "subslide"
    }
   },
   "source": [
    "# Operadores Aritiméticos ✅☑️✔️✖️❌❎➕➖➗✳️✴️🔢\n",
    "\n",
    "| **Operação**  | **Nome**     | **Descrição**        |\n",
    "|-----------|------------------|------------------------------|\n",
    "| a + b     | adição           | Soma entre a e b             |\n",
    "| a - b     | subtração        | Diferença entre a e b        |\n",
    "|  a * b    | multiplicação    | Produto entre a e b          |\n",
    "| a / b     | divisão          | Divisão entre a e b          |\n",
    "| a // b    | divisão inteira  | Divisão inteira entre a e b  |\n",
    "| a % b     | módulo           | Resto da divisão entre a e b |\n",
    "| a ** b    | exponenciação    | a elevado a potência de b    |"
   ]
  },
  {
   "cell_type": "markdown",
   "id": "ae08eb24",
   "metadata": {
    "slideshow": {
     "slide_type": "slide"
    }
   },
   "source": [
    "# Agora é com você  💣🕳️🤸🏻‍♂️🤸🏼‍♂️🤸🏽‍♂️🤸🏾‍♂️🤸🏿‍♂️\n",
    "Dados a = 5 e b = 2 encontre os valores de (usando o Python):\n",
    "- $a + b$\n",
    "- $a - b$\n",
    "- $a \\times b$\n",
    "- $\\frac{a}{b}$\n",
    "- O resto de $\\frac{a}{b}$\n",
    "- A parte inteira de $\\frac{a}{b}$\n",
    "- $a^b$"
   ]
  },
  {
   "cell_type": "code",
   "execution_count": null,
   "id": "52c6472c",
   "metadata": {
    "slideshow": {
     "slide_type": "subslide"
    }
   },
   "outputs": [],
   "source": [
    "# Faça a atribuição\n",
    "a=5\n",
    "b=2"
   ]
  },
  {
   "cell_type": "code",
   "execution_count": null,
   "id": "4f4390d7",
   "metadata": {
    "slideshow": {
     "slide_type": "subslide"
    }
   },
   "outputs": [],
   "source": [
    "# Soma\n",
    "a+b"
   ]
  },
  {
   "cell_type": "code",
   "execution_count": null,
   "id": "e06ab776",
   "metadata": {
    "slideshow": {
     "slide_type": "subslide"
    }
   },
   "outputs": [],
   "source": [
    "# Subtração\n",
    "b-a"
   ]
  },
  {
   "cell_type": "code",
   "execution_count": null,
   "id": "a9c6e6fb",
   "metadata": {
    "slideshow": {
     "slide_type": "subslide"
    }
   },
   "outputs": [],
   "source": [
    "# Multiplicação\n",
    "a*b"
   ]
  },
  {
   "cell_type": "code",
   "execution_count": null,
   "id": "5caf1af5",
   "metadata": {
    "slideshow": {
     "slide_type": "subslide"
    }
   },
   "outputs": [],
   "source": [
    "# Divisão\n",
    "a/b"
   ]
  },
  {
   "cell_type": "code",
   "execution_count": null,
   "id": "28029ac7",
   "metadata": {
    "slideshow": {
     "slide_type": "subslide"
    }
   },
   "outputs": [],
   "source": [
    "# resto da divisão\n",
    "float(a%b)"
   ]
  },
  {
   "cell_type": "code",
   "execution_count": null,
   "id": "68de3637",
   "metadata": {
    "slideshow": {
     "slide_type": "subslide"
    }
   },
   "outputs": [],
   "source": [
    "# parte interira da divisão\n",
    "(a//b)"
   ]
  },
  {
   "cell_type": "code",
   "execution_count": null,
   "id": "b9534ca4",
   "metadata": {
    "slideshow": {
     "slide_type": "subslide"
    }
   },
   "outputs": [],
   "source": [
    "# exponenciação\n",
    "a**b"
   ]
  },
  {
   "cell_type": "markdown",
   "id": "0445c829",
   "metadata": {
    "slideshow": {
     "slide_type": "slide"
    }
   },
   "source": [
    "O operador `+` também funciona com strings de uma maneira diferente dos números. Ele funciona concatenando strings, ou seja, juntando duas strings:"
   ]
  },
  {
   "cell_type": "code",
   "execution_count": null,
   "id": "8cec3390",
   "metadata": {},
   "outputs": [],
   "source": [
    "mensagem_1 = 'oi,'\n",
    "mensagem_2 = ' python'\n",
    "mensagem = mensagem_1 + mensagem_2\n",
    "print(mensagem)"
   ]
  },
  {
   "cell_type": "markdown",
   "id": "173ad904",
   "metadata": {
    "slideshow": {
     "slide_type": "subslide"
    }
   },
   "source": [
    "O operador `*` também funciona com strings "
   ]
  },
  {
   "cell_type": "code",
   "execution_count": null,
   "id": "b468987e",
   "metadata": {
    "slideshow": {
     "slide_type": "fragment"
    }
   },
   "outputs": [],
   "source": [
    "print(3*mensagem)"
   ]
  },
  {
   "cell_type": "code",
   "execution_count": null,
   "id": "8439b9f4",
   "metadata": {
    "slideshow": {
     "slide_type": "slide"
    }
   },
   "outputs": [],
   "source": [
    "print(3(*mensagem+' '))"
   ]
  },
  {
   "cell_type": "markdown",
   "id": "62ec27c9",
   "metadata": {
    "slideshow": {
     "slide_type": "slide"
    }
   },
   "source": [
    "Strings possuem muitas funcionalidades prontas chamadas de métodos. O método `upper()` , por exemplo, retorna o texto em letras maiúsculas. Já o método `capitalize()` retorna o texto capitalizado (com a primeira letra em maiúscula), teste o método `lower()`:"
   ]
  },
  {
   "cell_type": "code",
   "execution_count": null,
   "id": "d00e9a0e",
   "metadata": {
    "slideshow": {
     "slide_type": "subslide"
    }
   },
   "outputs": [],
   "source": [
    "print(mensagem.upper())"
   ]
  },
  {
   "cell_type": "code",
   "execution_count": null,
   "id": "ff18eb0c",
   "metadata": {
    "slideshow": {
     "slide_type": "subslide"
    }
   },
   "outputs": [],
   "source": [
    "mensagem = mensagem.capitalize()\n",
    "print(mensagem)"
   ]
  },
  {
   "cell_type": "code",
   "execution_count": null,
   "id": "a1014a13",
   "metadata": {
    "slideshow": {
     "slide_type": "subslide"
    }
   },
   "outputs": [],
   "source": [
    "print(mensagem.lower())"
   ]
  },
  {
   "cell_type": "markdown",
   "id": "a44acc18",
   "metadata": {
    "slideshow": {
     "slide_type": "slide"
    }
   },
   "source": [
    "O python é extremamente versátil na manipulação de textos, vamos ver outras funcionalidades deste tipo ao longo das nossas conversas. Mas s evocê quiser aprender mais dê uma checada na [documentação do Python](https://docs.python.org/3/library/stdtypes.html#string-methods)"
   ]
  },
  {
   "cell_type": "markdown",
   "id": "6e8804a5",
   "metadata": {
    "slideshow": {
     "slide_type": "slide"
    }
   },
   "source": [
    "# Entrada de Usuário 🧑‍🎤🧑🏿‍🎤🧑🏻‍🎤🧑🏾‍🎤🧑🏼‍🎤🧑🏽‍🎤\n",
    "\n",
    "- Agora vamos criar mais interatividade e pedir para o usuário entrar com um valor digitado do teclado. O Python possui uma função que captura a entrada de valores: a função `input()` 💻🖥️⌨️🖱️. \n",
    "- Quando essa função é chamada, o programa para e espera o usuário digitar alguma coisa. \n",
    "- Quando o usuário aperta a tecla ENTER↩️ , o programa processa🔄 e imprime o valor digitado🔠 em forma de `string`:"
   ]
  },
  {
   "cell_type": "code",
   "execution_count": null,
   "id": "9020d54a",
   "metadata": {
    "slideshow": {
     "slide_type": "fragment"
    }
   },
   "outputs": [],
   "source": [
    "entrada\t=input()"
   ]
  },
  {
   "cell_type": "code",
   "execution_count": null,
   "id": "d49e950f",
   "metadata": {
    "slideshow": {
     "slide_type": "fragment"
    }
   },
   "outputs": [],
   "source": [
    "print(entrada)"
   ]
  },
  {
   "cell_type": "markdown",
   "id": "244d47b8",
   "metadata": {
    "slideshow": {
     "slide_type": "subslide"
    }
   },
   "source": [
    "Mas o ideal é pedir algo específico ao usuário e dizer qual dado queremos receber. Podemos passar uma `string` para a função `input()` :"
   ]
  },
  {
   "cell_type": "code",
   "execution_count": null,
   "id": "bb976c3b",
   "metadata": {
    "slideshow": {
     "slide_type": "fragment"
    }
   },
   "outputs": [],
   "source": [
    "nome = input(\"digite seu nome:\\n\")"
   ]
  },
  {
   "cell_type": "markdown",
   "id": "42c4cd15",
   "metadata": {
    "slideshow": {
     "slide_type": "subslide"
    }
   },
   "source": [
    "O`\\` no final representa uma nova linha e o interpretador vai quebrar uma linha após imprimir a`string` Por este motivo, o valor digitado pelo usuário aparece na próxima linha."
   ]
  },
  {
   "cell_type": "code",
   "execution_count": null,
   "id": "9787bf97",
   "metadata": {
    "slideshow": {
     "slide_type": "fragment"
    }
   },
   "outputs": [],
   "source": [
    "print(f'Olá {nome} !! Como você está?')"
   ]
  },
  {
   "cell_type": "markdown",
   "id": "61674959",
   "metadata": {
    "slideshow": {
     "slide_type": "fragment"
    }
   },
   "source": [
    "Você notou que esta `string`está diferente nela misturamos string e chamamos o valor armazendo em `nome` chamamos isso de `f-string` um recusro python bem interessante! Vamos olhar as `f-strings`mais de perto!"
   ]
  },
  {
   "cell_type": "markdown",
   "id": "a234d026",
   "metadata": {
    "slideshow": {
     "slide_type": "slide"
    }
   },
   "source": [
    "## Formatação com `f-strings`🧑‍🎓🧑🏿‍🎓🧑🏻‍🎓🧑🏾‍🎓🧑🏼‍🎓🧑🏽‍🎓\n",
    "\n",
    "- F-strings foram criados para facilitar nossa vida e são meio recentes no python mas tem sido muito empregados!\n",
    "- Também chamadas de _**strings literais formatadas”**_ (_`formatted string literals`_), \n",
    "- f-strings são strings com a letra f no início e chaves {} para realizar a **interpolação** de expressões.\n",
    "\n",
    "As expressões são processadas em tempo de execução e formatadas utilizadas o protocolo `__format__`. Vamos de exemplo:\n",
    "\n",
    "```python\n",
    "nome = 'Ecogen'\n",
    "\n",
    "print(f\"Onde você trabalha? {nome}!!\")\n",
    "```\n",
    "E a saída seria:\n",
    "```python\n",
    "\"Onde você trabalha ? Eu trabalho na Ecogen!!!\"\n",
    "```"
   ]
  },
  {
   "cell_type": "markdown",
   "id": "2ac08817",
   "metadata": {
    "slideshow": {
     "slide_type": "slide"
    }
   },
   "source": [
    "# Excelente se você conseguiu chegar aqui sem problemas parabéns 🤩🙌👏\n",
    "\n",
    "🧑‍🎓🧑🏿‍🎓🧑🏻‍🎓🧑🏾‍🎓🧑🏼‍🎓🧑🏽‍🎓\n",
    "\n",
    "Muita coisa nessa primeira conversa!! Falamos sobre o Google Colab, você criou seu primeiro programa, apresnetamos alguma coisa sobre os tipos do Python, Varíaveis, Operações Aritiméticas, funções como `print()`, `type()`, `input()` e falamos de um conceito masi avançado as `f-strings`.  \n",
    "\n",
    "## E o mais importante sextou !!! 🍕🍕🌭🌭🥪🥪🌮🌮🍺🍺🍷🍷🍸🍸🍹🍹🍻🍻🥂🥂🥃🥃🥤🥤\n",
    "\n",
    "👋🤚🖐️✋🤙👈👉👆🖕👇\n",
    "\n",
    "# Não esqueça de fazer o check out 👋🤚🖐️✋🤙👈👉👆🖕👇"
   ]
  }
 ],
 "metadata": {
  "celltoolbar": "Slideshow",
  "kernelspec": {
   "display_name": "Python 3 (ipykernel)",
   "language": "python",
   "name": "python3"
  },
  "language_info": {
   "codemirror_mode": {
    "name": "ipython",
    "version": 3
   },
   "file_extension": ".py",
   "mimetype": "text/x-python",
   "name": "python",
   "nbconvert_exporter": "python",
   "pygments_lexer": "ipython3",
   "version": "3.9.13"
  },
  "nbTranslate": {
   "displayLangs": [
    "pt",
    "en"
   ],
   "hotkey": "alt-t",
   "langInMainMenu": true,
   "sourceLang": "en",
   "targetLang": "pt",
   "useGoogleTranslate": true
  }
 },
 "nbformat": 4,
 "nbformat_minor": 5
}
