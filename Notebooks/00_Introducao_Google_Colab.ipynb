{
  "cells": [
    {
      "cell_type": "markdown",
      "metadata": {
        "id": "view-in-github",
        "colab_type": "text"
      },
      "source": [
        "<a href=\"https://colab.research.google.com/github/DeepFluxion/CursoPythonEcogen/blob/main/00_Introducao_Google_Colab.ipynb\" target=\"_parent\"><img src=\"https://colab.research.google.com/assets/colab-badge.svg\" alt=\"Open In Colab\"/></a>"
      ]
    },
    {
      "cell_type": "markdown",
      "id": "a129847f",
      "metadata": {
        "id": "a129847f"
      },
      "source": [
        "# Google Colab: o que é, tutorial de como usar e criar códigos\n",
        "\n",
        "adaptado do tutorial de Thiago G Santos da [Alura](https://www.alura.com.br/) dinponível [aqui](https://www.alura.com.br/artigos/google-colab-o-que-e-e-como-usar)"
      ]
    },
    {
      "cell_type": "markdown",
      "id": "0d7a0acb",
      "metadata": {
        "id": "0d7a0acb"
      },
      "source": [
        "# Introdução\n",
        "\n",
        "Neste tutorial vamos entender o que é o **Google Colab**, como ele funciona, como abrir arquivos externos e como escrever códigos e textos em markdown. Primeiro uma introdução como uma definição a cerca do tema e depois vamos ver como usá-lo colocando a \"mão na massa\"."
      ]
    },
    {
      "cell_type": "markdown",
      "id": "1281868d",
      "metadata": {
        "id": "1281868d"
      },
      "source": [
        "O que é o Google Colaboratory?\n",
        "O [Google Colaboratory](https://colab.research.google.com/notebooks/intro.ipynb), carinhosamente chamado de **Colab**, é um serviço de **nuvem gratuito** hospedado pelo próprio **Googl**e para incentivar a pesquisa de **Aprendizado de Máquina e Inteligência Artificial**.\n",
        "\n",
        "É uma ferramenta que permite que você misture **código fonte** (geralmente em python) e **texto rico** (geralmente em markdown) com imagens e o resultado desse código, uma técnica conhecida como: _notebook_ (“caderno”, em português)."
      ]
    },
    {
      "cell_type": "markdown",
      "id": "c4ac278f",
      "metadata": {
        "id": "c4ac278f"
      },
      "source": [
        "Tudo isso num ambiente **colaborativo**, que você pode compartilhar com seus colegas, permitindo que outros rodem seu código e até modifiquem criando suas próprias versões. Os notebooks foram fortemente inspirados nos **notebooks do Jupyter** e utilizam essa ferramenta por trás dos panos.\n",
        "\n",
        "Ela trabalha em especial com a linguagem Python, mas com alguns ajustes é possível rodar código em **R, Julia, Swift e outras linguagens de programação**."
      ]
    },
    {
      "cell_type": "markdown",
      "id": "af98bd50",
      "metadata": {
        "id": "af98bd50"
      },
      "source": [
        "## Semelhanças com Jupyter Notebook\n",
        "Similar ao famoso [jupyter notebook](https://www.alura.com.br/artigos/conhecendo-o-jupyter-notebook), o Colab é uma lista de células que podem conter textos explicativos ou códigos executáveis e suas respectivas saídas.\n",
        "\n",
        "## Tutorial: Como começar a usar o Colab\n",
        "\n",
        "### 1. Acessando pela primeira vez\n",
        "O primeira passo que precisamos fazer para usar o google Colab é acessar o seguinte endereço:\n",
        "\n",
        "[Página inicial do Google Colab](https://colab.research.google.com/notebooks/intro.ipynb)\n",
        "\n",
        "Logo seremos direcionados para um notebook chamado Welcome to Colaboratory:\n",
        "\n",
        "![](https://www.alura.com.br/artigos/assets/google-colab/primeiro-passo-google-colab-welcome-to-colaboratory.jpg)"
      ]
    },
    {
      "cell_type": "markdown",
      "id": "e9e322c7",
      "metadata": {
        "id": "e9e322c7"
      },
      "source": [
        "### 2. Documentação e principais tópicos para começar\n",
        "Esse notebook explica algumas **características do Colab** e mostra como dar os primeiros passos — recomendo a leitura. Dentre todas aquelas listadas, podemos resumir nas seguintes 3 principais características:\n",
        "\n",
        "* Pelo fato dele rodar em uma **máquina do google**, não precisamos realizar qualquer configuração;\n",
        "\n",
        "* O google disponibiliza **gratuitamente acesso a GPU’s**;\n",
        "\n",
        "* **É simples de compartilhar**, igual a qualquer arquivo contido no drive."
      ]
    },
    {
      "cell_type": "markdown",
      "id": "f9ddf785",
      "metadata": {
        "id": "f9ddf785"
      },
      "source": [
        "### 3. Google Colab Notebook: como criar um?\n",
        "\n",
        "> \"Ok, já li e entendi o que é o Colaboratory, mas quero criar meu próprio notebook!\"\n",
        "\n",
        "Para fazer isso, precisamos clicar em **>File**, na parte superior esquerda, logo em seguida em **>New Notebook**. Veja na figura abaixo:\n",
        "\n",
        "![](https://www.alura.com.br/artigos/assets/google-colab/segundo-passo-google-colab-criar-notebook.jpg)"
      ]
    },
    {
      "cell_type": "markdown",
      "id": "e5dd5381",
      "metadata": {
        "id": "e5dd5381"
      },
      "source": [
        "## Login numa conta Google\n",
        "Feito esse processo, caso **não esteja logado em uma conta google**, o seguinte pop-up aparece:\n",
        "![](https://www.alura.com.br/artigos/assets/google-colab/pop-up-logar-conta-google-colaboratory.jpg)"
      ]
    },
    {
      "cell_type": "markdown",
      "id": "0dc0a828",
      "metadata": {
        "id": "0dc0a828"
      },
      "source": [
        "Clique em **OK** para ser d**irecionado à tela de login do gmail**. Caso **nã**o tenha uma conta gmail, clique em **Create account** e siga os passos para cadastro:\n",
        "![](https://www.alura.com.br/artigos/assets/google-colab/criar-conta-google-colaboratory.jpg)\n",
        "Feito, agora você tem acesso ao seu google colab! Vamos fazer alguns testes **nesse notebook**!"
      ]
    },
    {
      "cell_type": "markdown",
      "id": "ad0d0560",
      "metadata": {
        "id": "ad0d0560"
      },
      "source": [
        "### 4. Seu primeiro código no Google Colab\n",
        "Agora que está com o seu primeiro notebook aberto, quero explicar sobre os três pontos em destaques da seguinte figura:\n",
        "![](https://www.alura.com.br/artigos/assets/google-colab/terceiro-passo-google-colab-criar-primeiro-codigo.jpg)"
      ]
    },
    {
      "cell_type": "markdown",
      "id": "c682b496",
      "metadata": {
        "id": "c682b496"
      },
      "source": [
        "## 01: Célula\n",
        "Vamos começar pelo **recorte 01**, aqui temos o que chamamos de **célula**. Ela é o local onde você escreve códigos ou texto. Vamos começar com a célula de código, que você pode ir testando no seu notebook. Então para começar digite no local correspondente ao **01**:\n",
        "```python\n",
        "print(“Hello World”)\n",
        "```\n",
        "Para **executar esse código** temos algumas opções: você pode **clicar no sinal** de **play** que fica no início da célula ou pode usar o atalho **SHIFT+ENTER** — existem diversos outros atalhos para executar uma célula, você encontra detalhes no documento de Visão geral dos recursos do Colaboratory.\n",
        "\n",
        "Um segundo exercício é aquele clássico, escreva \"Hello World\" e, repare que ao executar, é impresso logo abaixo.\n",
        "\n",
        "Agora vamos tentar outro código, que tal realizarmos uma operação e armazenar esse valor em uma variável? Use o seu notebook para executar o seguinte código:\n",
        "```python\n",
        "soma_dois_numeros = 1232 + 2314\n",
        "```\n",
        "Ao executar, diferente da célula anterior, nada é impresso. Isso ocorre porque **a atribuição de variáveis não tem retorno em python**. Outro ponto que você deve ter observado é que ao rodar a primeira célula, **o tempo para executar foi mais longo**, isso porque, ao rodar pela primeira vez, o colab precisa **criar uma máquina nos servidores do google**, então esse tempo extra é justamente para a criação desta máquina."
      ]
    },
    {
      "cell_type": "markdown",
      "id": "36d4e1dc",
      "metadata": {
        "id": "36d4e1dc"
      },
      "source": [
        "### 02: Adicionando novas células\n",
        "Até o momento nós criamos apenas células de código, mas conforme falamos, os notebooks nos permitem mesclar essas células de código e textos em formato markdown. Na figura anterior temos o recorte** 02**, esses “botões” servem para **adicionar novas células** em seu notebook.\n",
        "\n",
        "* **+Code**: adiciona células de código;\n",
        "* **+Text**: adiciona as células nas quais você pode digitar texto com as configurações markdown.\n",
        "Essa característica nos permite desenvolver explicações e relatórios nos próprios notebooks. Experimente aí no seu notebook, crie alguns textos em formato markdown!"
      ]
    },
    {
      "cell_type": "markdown",
      "id": "13fc1339",
      "metadata": {
        "id": "13fc1339"
      },
      "source": [
        "### 03: A base de dados\n",
        "Já sabemos como escrever códigos, o que será primordial ao realizar uma análise de dados. Também aprendemos que é possível escrever textos, o que nos ajuda a tecer conclusões e criar relatórios. Entretanto, para que o Colab se torne uma ferramenta funcional falta o principal elemento: a base de dados.\n",
        "\n",
        "Temos várias formas de obter acesso a uma base de dados, entre elas utilizar alguma biblioteca que lê um arquivo direto de uma URI, por exemplo. Segue uma sugestão sobre como podemos ler o dataset MovieLeans salvo no [github da Alura](https://github.com/alura-cursos):\n",
        "```python\n",
        "import pandas as pd\n",
        "base_de_dados = pd.read_csv(\"https://raw.githubusercontent.com/alura-cursos/formacao-data-science/master/movies.csv\")\n",
        "```\n",
        "Assim, temos o dataset salvo na variável `base_de_dados` e podemos realizar a **exploração dos dados**.\n",
        "\n",
        "A forma que apresentamos é útil quando temos os dados públicos, mas muitas vezes a base de dados está em nosso computador e não podemos deixá-la disponível na internet.\n",
        "\n",
        "> Como podemos fazer para enviar esses dados para o Colab?\n",
        "\n",
        "No destaque **03**, última figura, temos o **ícone de uma pasta**, clique nela. Veja na imagem abaixo que ao clicar, uma view é aberta, mostrando uma **estrutura de diretórios**:\n",
        "![](https://www.alura.com.br/artigos/assets/google-colab/quarto-passo-google-colab-view-estrutura-diretorios.jpg)\n",
        "\n",
        "Se você explorar as pastas, vai perceber que é muito similar à **estrutura de um sistema operacional Linux**.\n",
        "\n",
        "Na parte superior da _view_ temos algumas opções: se você clicar em _input_ poderá optar por enviar um arquivo da sua máquina para o google. Desse modo, pode acessar a base de dados passando como parâmetro para a função `pd.read()` o local do arquivo, por exemplo:\n",
        "```python\n",
        "base_de_dados = pd.read_csv(“base_de_dados_que_você_subiu.csv”)\n",
        "```\n",
        "A desvantagem desse método é que ao fechar e acessar seu notebook em **outro momento**, você precisa **realizar o input dos dados novamente**, processo que pode ser demorado. Então, uma outra boa opção para guardar os dados é **salvar em seu Google Drive** e acessá-lo direto do notebook, para isso apenas clique em **Mount Drive**, que aparece na imagem anterior, ou mesmo, use a **API do Google Drive**, utilizando `from google.colab import drive` e, por exemplo, `drive.mount('/content/drive')`.\n",
        "\n",
        "Para saber mais você pode ver o tópico do fórum da Alura sobre como salvar o projeto no [Colab e acessar o Mount Drive](https://cursos.alura.com.br/forum/topico-nao-consigo-salvar-meu-projeto-no-colab-111094?_gl=1*18bdtw7*_ga*NTc0NjU4NTEuMTY5NTg1MDY3Mg..*_ga_1EPWSW3PCS*MTY5NTg1MDY3MS4xLjAuMTY5NTg1MDY3MS4wLjAuMA..*_fplc*bWtMTzR6d1BUJTJCcXB1JTJCMkhRbFRhTVI2WGlDZEpKMDAwQU9ma1V3MXN5MXJiWG5memR6WFBlc1BsbTh4bWlReVIwaHdsdVVTcFIxcFQ5S1J5N0F5ekFyQXlnbG9EaXZEYng1a0JtVUFKZUdhcEklMkZWcDBoJTJGTTVSb3lvNTYxdWclM0QlM0Q.).\n",
        "\n",
        "Enfim, você pode facilmente compartilhar seu notebook com o botão 'compartilhar' na barra de ferramentas, ou ainda gravar uma cópia para você de outro colab, na opção 'Arquivo/Salvar.'"
      ]
    },
    {
      "cell_type": "markdown",
      "id": "4c833bbe",
      "metadata": {
        "id": "4c833bbe"
      },
      "source": [
        "# Conclusão\n",
        "Vimos que usar o **google colab** torna nossa **entrada** na área de dados simples, afinal de contas **não precisamos instalar nada**, **não precisamos realizar configurações** e nem mesmo ter **uma máquina poderosa**. O google disponibiliza tudo isso pronto e com qualidade, é só acessar um notebook e começar a diversão!"
      ]
    },
    {
      "cell_type": "code",
      "execution_count": null,
      "id": "9c60977b",
      "metadata": {
        "id": "9c60977b"
      },
      "outputs": [],
      "source": []
    }
  ],
  "metadata": {
    "kernelspec": {
      "display_name": "Python 3 (ipykernel)",
      "language": "python",
      "name": "python3"
    },
    "language_info": {
      "codemirror_mode": {
        "name": "ipython",
        "version": 3
      },
      "file_extension": ".py",
      "mimetype": "text/x-python",
      "name": "python",
      "nbconvert_exporter": "python",
      "pygments_lexer": "ipython3",
      "version": "3.11.5"
    },
    "nbTranslate": {
      "displayLangs": [
        "pt",
        "en"
      ],
      "hotkey": "alt-t",
      "langInMainMenu": true,
      "sourceLang": "en",
      "targetLang": "pt",
      "useGoogleTranslate": true
    },
    "colab": {
      "provenance": [],
      "include_colab_link": true
    }
  },
  "nbformat": 4,
  "nbformat_minor": 5
}
