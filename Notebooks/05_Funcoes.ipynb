{
  "cells": [
    {
      "cell_type": "markdown",
      "metadata": {
        "id": "view-in-github",
        "colab_type": "text"
      },
      "source": [
        "<a href=\"https://colab.research.google.com/github/DeepFluxion/CursoPythonEcogen/blob/main/Notebooks/05_Funcoes.ipynb\" target=\"_parent\"><img src=\"https://colab.research.google.com/assets/colab-badge.svg\" alt=\"Open In Colab\"/></a>"
      ]
    },
    {
      "cell_type": "markdown",
      "id": "278de743",
      "metadata": {
        "id": "278de743"
      },
      "source": [
        "# # Excelente estamos avançando 🤩🙌👏\n",
        "\n",
        "🧑‍🎓🧑🏿‍🎓🧑🏻‍🎓🧑🏾‍🎓🧑🏼‍🎓🧑🏽‍🎓\n",
        "\n",
        "Vimos muita coisa em nossas conversas!! Nos aprofundamos nos comando `IF - ELSE`e `ELIF` conhecemos os loops com o comando `WHILE` aprendemos um pouco sobre o comando `range()` e começamos a estudar os loops com `for`, além disso fizemos um novo programa o Jogo da Advinhação, na ultima conversa aprendemos a lidar com **listas**, **conjuntos**, **tuplas** e **dicionários**.Hoje vamos rever esses ultimos conceitos e aprender algumas coisas novas, mas nates vamos rever os desafios da ultima conversa."
      ]
    },
    {
      "cell_type": "markdown",
      "id": "c688d5e3",
      "metadata": {
        "id": "c688d5e3"
      },
      "source": [
        "Na ultima conversa vimos um deafio que retorna o mês quando fornecemos um número o código era o seguinte:\n",
        "```python\n",
        "meses = ['Janeiro', 'Fevereiro', 'Março', 'Abril', 'Maio', 'Junho', 'Julho', 'Agosto', 'Setembro' , 'Outubro', 'Novembro', 'Dezembro']\n",
        "n = 1\n",
        "while(n < 4):\n",
        "    mes = int(input(\"Escolha um mês (1-12): \"))\n",
        "    if 1 <= mes < 13:\n",
        "        print(f'O mês é {meses[mes-1]}')\n",
        "    else:\n",
        "        print('escolha um número entre 1 e 12')\n",
        "    n += 1\n",
        "```"
      ]
    },
    {
      "cell_type": "markdown",
      "id": "44a8558a",
      "metadata": {
        "id": "44a8558a"
      },
      "source": [
        "Nosso primeiro desafio era reescrere esse código usando um loop `for` vamos ver como fica"
      ]
    },
    {
      "cell_type": "code",
      "execution_count": null,
      "id": "97926ab7",
      "metadata": {
        "id": "97926ab7",
        "outputId": "5f6e767f-7575-4c1b-b111-27743ecde96f"
      },
      "outputs": [
        {
          "name": "stdout",
          "output_type": "stream",
          "text": [
            "Escolha um mês (1-12): 1\n",
            "O mês é Janeiro\n",
            "Escolha um mês (1-12): 4\n",
            "O mês é Abril\n",
            "Escolha um mês (1-12): 10\n",
            "O mês é Outubro\n"
          ]
        }
      ],
      "source": [
        "meses = ['Janeiro', 'Fevereiro', 'Março', 'Abril', 'Maio', 'Junho', 'Julho', 'Agosto', 'Setembro' ,\n",
        "         'Outubro', 'Novembro', 'Dezembro']\n",
        "#n = 1\n",
        "#while(n < 4):\n",
        "for i in range(3):\n",
        "    mes = int(input(\"Escolha um mês (1-12): \"))\n",
        "    if 1 <= mes < 13:\n",
        "        print(f'O mês é {meses[mes-1]}')\n",
        "    else:\n",
        "        print('escolha um número entre 1 e 12')\n",
        "    #n += 1"
      ]
    },
    {
      "cell_type": "markdown",
      "id": "a74d7138",
      "metadata": {
        "id": "a74d7138"
      },
      "source": [
        "# Se você conseguiu Excelente !!! 🤩🙌👏\n",
        "🧑‍🎓🧑🏿‍🎓🧑🏻‍🎓🧑🏾‍🎓🧑🏼‍🎓🧑🏽‍🎓\n",
        "# Vamos ver o próximo desafio"
      ]
    },
    {
      "cell_type": "markdown",
      "id": "adb60b5a",
      "metadata": {
        "id": "adb60b5a"
      },
      "source": [
        "# O novo desafio\n",
        "Faça um programa que:    \n",
        "a) interaja com o usuário para inserir uma lista de números e   \n",
        "b) imprima o maior elemento    \n",
        "c) imprima o menor elemento    \n",
        "d) imprima os números pares    \n",
        "e) imprima o número de ocorrências de cada elemento da lista    \n",
        "f) imprima a média dos elementos    \n",
        "g) imprima a soma dos elementos de valor negativo   "
      ]
    },
    {
      "cell_type": "markdown",
      "id": "7630d36e",
      "metadata": {
        "id": "7630d36e"
      },
      "source": [
        "Podemos interagir com o usuário usando o comando `input()` como a lista tem vário elementos o teremos que:\n",
        "\n",
        "1. Perguntar oa usuário qunatos elementos tem a lista usando o comando `input()`\n",
        "2. Repetir a entrada de dados usando o comando `input()` e um loop `for`\n",
        "\n",
        "Vamos ver"
      ]
    },
    {
      "cell_type": "code",
      "execution_count": null,
      "id": "611b61fb",
      "metadata": {
        "id": "611b61fb",
        "outputId": "8e732a51-b0f9-4a42-8d8b-c573f313b42a"
      },
      "outputs": [
        {
          "name": "stdout",
          "output_type": "stream",
          "text": [
            "Quantos números terá a lista: 10\n",
            "A Lista terá 10 números\n",
            "Qual o item 0 da lista: -1\n",
            "Qual o item 1 da lista: -2\n",
            "Qual o item 2 da lista: -3\n",
            "Qual o item 3 da lista: 1\n",
            "Qual o item 4 da lista: 2\n",
            "Qual o item 5 da lista: 3\n",
            "Qual o item 6 da lista: 4\n",
            "Qual o item 7 da lista: 5\n",
            "Qual o item 8 da lista: 6\n",
            "Qual o item 9 da lista: 7\n",
            "A list é: \n",
            "[-1.0, -2.0, -3.0, 1.0, 2.0, 3.0, 4.0, 5.0, 6.0, 7.0]\n"
          ]
        }
      ],
      "source": [
        "# a) interaja com o usuário para inserir uma lista de n números\n",
        "\n",
        "n = int(input(\"Quantos números terá a lista: \")) # pergunte quantos núeros terá a lista e armazene em n\n",
        "print(f\"A Lista terá {n} números\")# informe a quantidade de números da lista para o usuários\n",
        "lista = [] #crie uma lista vazia\n",
        "for i in range(n): #Loop para repetir o n vezes a entrada da lista\n",
        "    x = float(input(f\"Qual o item {i} da lista: \")) #pergunte qual é o item i da lista\n",
        "    lista.append(x) #adicione o item x à lista\n",
        "print(\"A lista é: \")\n",
        "print(lista)"
      ]
    },
    {
      "cell_type": "code",
      "execution_count": null,
      "id": "0cc3dcf4",
      "metadata": {
        "id": "0cc3dcf4",
        "outputId": "227369d9-d4a9-4bad-bc92-2ab4ae5b4e47"
      },
      "outputs": [
        {
          "name": "stdout",
          "output_type": "stream",
          "text": [
            "O maior valor é 7.0\n",
            "O menor valor é -3.0\n"
          ]
        }
      ],
      "source": [
        "# b) imprima o maior elemento\n",
        "print(f'O maior valor é {max(lista)}')\n",
        "# c) imprima o menor elemento\n",
        "print(f'O menor valor é {min(lista)}')"
      ]
    },
    {
      "cell_type": "code",
      "execution_count": null,
      "id": "f3405645",
      "metadata": {
        "id": "f3405645",
        "outputId": "69f34c70-31f3-4c2a-fbb1-4b170baed84d"
      },
      "outputs": [
        {
          "name": "stdout",
          "output_type": "stream",
          "text": [
            "o número 2.0 é um número par\n",
            "o número 4.0 é um número par\n",
            "o número 6.0 é um número par\n",
            "o número -2.0 é um número par\n"
          ]
        }
      ],
      "source": [
        "# d) imprima os números pares\n",
        "# Loop para percorrer a lista\n",
        "for item in set(lista):\n",
        "# verificando se resto da divisão com do item por 2 é 0 com o operador módulo %\n",
        "    e_par = item%2==0\n",
        "    if e_par: # se o resultado for verdadeiro executa estas funções\n",
        "        print(f'o número {item} é um número par') # imprimindo o item par"
      ]
    },
    {
      "cell_type": "code",
      "execution_count": null,
      "id": "ae88a41a",
      "metadata": {
        "id": "ae88a41a",
        "outputId": "1df3d14f-6987-4907-ad3e-b58b6b42e242"
      },
      "outputs": [
        {
          "name": "stdout",
          "output_type": "stream",
          "text": [
            "o número 0 da lista é -1.0 e número de ocorrências é : 1\n",
            "o número 1 da lista é -2.0 e número de ocorrências é : 1\n",
            "o número 2 da lista é -3.0 e número de ocorrências é : 1\n",
            "o número 3 da lista é 1.0 e número de ocorrências é : 1\n",
            "o número 4 da lista é 2.0 e número de ocorrências é : 1\n",
            "o número 5 da lista é 3.0 e número de ocorrências é : 1\n",
            "o número 6 da lista é 4.0 e número de ocorrências é : 1\n",
            "o número 7 da lista é 5.0 e número de ocorrências é : 1\n",
            "o número 8 da lista é 6.0 e número de ocorrências é : 1\n",
            "o número 9 da lista é 7.0 e número de ocorrências é : 1\n"
          ]
        }
      ],
      "source": [
        "#e) imprima o número de ocorrências dos elementos da lista\n",
        "for i in range(len(lista)): # loop que repetirá para a quantidade de números da lsita\n",
        "    print(f'o número {i} da lista é {lista[i]} e número de ocorrências é : {lista.count(lista[i])}')"
      ]
    },
    {
      "cell_type": "code",
      "execution_count": null,
      "id": "07e40da5",
      "metadata": {
        "id": "07e40da5",
        "outputId": "0832b7a2-6df4-42a2-ea9a-560c926e32d5"
      },
      "outputs": [
        {
          "name": "stdout",
          "output_type": "stream",
          "text": [
            "a média dos elementos da lista é : 2.2\n"
          ]
        }
      ],
      "source": [
        "#f) imprima a média dos elementos\n",
        "print(f'a média dos elementos da lista é : {sum(lista)/len(lista)}')"
      ]
    },
    {
      "cell_type": "code",
      "execution_count": null,
      "id": "a4420743",
      "metadata": {
        "id": "a4420743",
        "outputId": "91a20b48-ab7f-4cfe-ee80-4fe9202f1526"
      },
      "outputs": [
        {
          "name": "stdout",
          "output_type": "stream",
          "text": [
            "o número -1.0 é um número negativo\n",
            "o número -2.0 é um número negativo\n",
            "o número -3.0 é um número negativo\n",
            "a soma dos elementos negativos da lista é : -6.0\n"
          ]
        }
      ],
      "source": [
        "# g) imprima a soma dos elementos de valor negativo\n",
        "#criando umalista para armazenar numeros negativos\n",
        "lista_negativos = []\n",
        "# Loop para percorrer a lista\n",
        "for item in lista:\n",
        "# verificando o número é negativo (<0)\n",
        "    e_neg = item<0\n",
        "    if e_neg: # se o resultado for verdadeiro executa estas funções\n",
        "        print(f'o número {item} é um número negativo') # imprimindo o item negativo\n",
        "        # armazenado o item negativo\n",
        "        lista_negativos.append(item)\n",
        "#fornrcendo a soma da lista de números negativos\n",
        "print(f'a soma dos elementos negativos da lista é : {sum(lista_negativos)}')"
      ]
    },
    {
      "cell_type": "markdown",
      "id": "bc75952e",
      "metadata": {
        "id": "bc75952e"
      },
      "source": [
        "# Colocando tudo junto!"
      ]
    },
    {
      "cell_type": "code",
      "execution_count": null,
      "id": "e9109c62",
      "metadata": {
        "id": "e9109c62",
        "outputId": "c2092c2e-d93b-4e00-b04f-f90abb6d2890"
      },
      "outputs": [
        {
          "name": "stdout",
          "output_type": "stream",
          "text": [
            "Quantos números terá a lista: 10\n",
            "+---------------------------------------------------------------+\n",
            "A Lista terá 10 números\n",
            "Qual o item 0 da lista: -1\n",
            "Qual o item 1 da lista: -2\n",
            "Qual o item 2 da lista: -3\n",
            "Qual o item 3 da lista: 1\n",
            "Qual o item 4 da lista: 2\n",
            "Qual o item 5 da lista: 3\n",
            "Qual o item 6 da lista: 1\n",
            "Qual o item 7 da lista: 4\n",
            "Qual o item 8 da lista: 5\n",
            "Qual o item 9 da lista: 6\n",
            "+---------------------------------------------------------------+\n",
            "A lista é: \n",
            "[-1.0, -2.0, -3.0, 1.0, 2.0, 3.0, 1.0, 4.0, 5.0, 6.0]\n",
            "+---------------------------------------------------------------+\n",
            "a) imprima o maior elemento\n",
            "+---------------------------------------------------------------+\n",
            "O maior valor é 6.0\n",
            "+---------------------------------------------------------------+\n",
            "b) imprima o menor elemento\n",
            "+---------------------------------------------------------------+\n",
            "O menor valor é -3.0\n",
            "+---------------------------------------------------------------+\n",
            "c) imprima os números pares\n",
            "+---------------------------------------------------------------+\n",
            "o número -2.0 é um número par\n",
            "o número 2.0 é um número par\n",
            "o número 4.0 é um número par\n",
            "o número 6.0 é um número par\n",
            "+---------------------------------------------------------------+\n",
            "d) imprima o número de ocorrências do primeiro elemento da lista\n",
            "+---------------------------------------------------------------+\n",
            "o primeiro número da lista é -1.0 e número de ocorrências é : 1\n",
            "+------------------------------------------------+\n",
            "e) imprima a média dos elementos\n",
            "+------------------------------------------------+\n",
            "a média dos elementos da lista é : 1.6\n",
            "+---------------------------------------------------------------+\n",
            "f) imprima a soma dos elementos de valor negativo\n",
            "+---------------------------------------------------------------+\n",
            "o número -1.0 é um número negativo\n",
            "o número -2.0 é um número negativo\n",
            "o número -3.0 é um número negativo\n",
            "a soma dos elementos negativos da lista é : -6.0\n"
          ]
        }
      ],
      "source": [
        "# Cria a lista\n",
        "n = int(input(\"Quantos números terá a lista: \")) # pergunte quantos núeros terá a lista e armazene em n\n",
        "print('+---------------------------------------------------------------+')\n",
        "print(f\"A Lista terá {n} números\")# informe a quantidade de números da lista para o usuários\n",
        "lista = [] #crie uma lista vazia\n",
        "for i in range(n): #Loop para repetir o n vezes a entrada da lista\n",
        "    x = float(input(f\"Qual o item {i} da lista: \")) #pergunte qual é o item i da lista\n",
        "    lista.append(x) #adicione o item x à lista\n",
        "print('+---------------------------------------------------------------+')\n",
        "print(\"A lista é: \")\n",
        "print(lista)\n",
        "print('+---------------------------------------------------------------+')\n",
        "print('a) imprima o maior elemento')\n",
        "print('+---------------------------------------------------------------+')\n",
        "print(f'O maior valor é {max(lista)}')\n",
        "print('+---------------------------------------------------------------+')\n",
        "print('b) imprima o menor elemento')\n",
        "print('+---------------------------------------------------------------+')\n",
        "print(f'O menor valor é {min(lista)}')\n",
        "print('+---------------------------------------------------------------+')\n",
        "print('c) imprima os números pares')\n",
        "print('+---------------------------------------------------------------+')\n",
        "# Loop para percorrer a lista\n",
        "for item in lista:\n",
        "# verificando se resto da divisão com do item por 2 é 0 com o operador módulo %\n",
        "    e_par = item%2==0\n",
        "    if e_par: # se o resultado for verdadeiro executa estas funções\n",
        "        print(f'o número {item} é um número par') # imprimindo o item par\n",
        "print('+---------------------------------------------------------------+')\n",
        "print('d) imprima o número de ocorrências do primeiro elemento da lista')\n",
        "print('+---------------------------------------------------------------+')\n",
        "print(f'o primeiro número da lista é {lista[0]} e número de ocorrências é : {lista.count(lista[0])}')\n",
        "\n",
        "print('+------------------------------------------------+')\n",
        "print('e) imprima a média dos elementos')\n",
        "print('+------------------------------------------------+')\n",
        "print(f'a média dos elementos da lista é : {sum(lista)/len(lista)}')\n",
        "\n",
        "\n",
        "print('+---------------------------------------------------------------+')\n",
        "print('f) imprima a soma dos elementos de valor negativo')\n",
        "print('+---------------------------------------------------------------+')\n",
        "#criando umalista para armazenar numeros negativos\n",
        "lista_negativos = []\n",
        "# Loop para percorrer a lista\n",
        "for item in lista:\n",
        "# verificando o número é negativo (<0)\n",
        "    e_neg = item<0\n",
        "    if e_neg: # se o resultado for verdadeiro executa estas funções\n",
        "        print(f'o número {item} é um número negativo') # imprimindo o item negativo\n",
        "        # armazenado o item negativo\n",
        "        lista_negativos.append(item)\n",
        "#fornrcendo a soma da lista de números negativos\n",
        "print(f'a soma dos elementos negativos da lista é : {sum(lista_negativos)}')"
      ]
    },
    {
      "cell_type": "markdown",
      "id": "14810531",
      "metadata": {
        "id": "14810531"
      },
      "source": [
        "# Se você conseguiu Excelente !!! 🤩🙌👏\n",
        "🧑‍🎓🧑🏿‍🎓🧑🏻‍🎓🧑🏾‍🎓🧑🏼‍🎓🧑🏽‍🎓\n",
        "# Vamos conhecer as Funções, um elemento bem importante para desenvolvermos probramas em Python"
      ]
    },
    {
      "cell_type": "markdown",
      "id": "81add635",
      "metadata": {
        "id": "81add635"
      },
      "source": [
        "# O\tQUE\tÉ\tUMA\tFUNÇÃO?\n",
        "\n",
        "O conceito de função é um dos mais importantes na matemática. Em computação, uma função é uma sequência de instruções que computa um ou mais resultados que chamamos de parâmetros. Já utilizamos algumas funções já prontas do Python, como o `print()`, `input()`, `format()` e `type()`."
      ]
    },
    {
      "cell_type": "markdown",
      "id": "4d728f01",
      "metadata": {
        "id": "4d728f01"
      },
      "source": [
        "Também podemos criar nossas próprias funções. Por exemplo, quando queremos calcular a razão do espaço pelo tempo, podemos definir uma função recebendo estes parâmetros:\n",
        "```python\n",
        "f(espaco, tempo) = espaco/tempo\n",
        "```"
      ]
    },
    {
      "cell_type": "markdown",
      "id": "d45cdb60",
      "metadata": {
        "id": "d45cdb60"
      },
      "source": [
        "Essa razão do espaço pelo tempo é o que chamamos de velocidade média na física. Podemos então dar este nome a nossa função:\n",
        "```python\n",
        "velocidade(espaco, tempo) = espaco/tempo\n",
        "```"
      ]
    },
    {
      "cell_type": "markdown",
      "id": "6cdf28a5",
      "metadata": {
        "id": "6cdf28a5"
      },
      "source": [
        "Se um carro percorreu uma distância de 100 metros em 20 segundos, podemos calcular sua velocidade média:\n",
        "```python\n",
        "velocidade(100, 20) = 100/20 = 5 m/s\n",
        "```"
      ]
    },
    {
      "cell_type": "markdown",
      "id": "472cc149",
      "metadata": {
        "id": "472cc149"
      },
      "source": [
        "O Python permite definirmos funções como essa da velocidade média. A sintaxe é muito parecida com a da matemática. Para definirmos uma função no Python, utilizamos o comando `def`:\n",
        "```python\n",
        "def velocidade(espaco, tempo):\n",
        "    pass\n",
        "```\n",
        "Logo após o `def` vem o nome da função, e entre parênteses vêm os seus parâmetros. Uma função também tem um escopo e um bloco de instruções onde colocamos os cálculos, onde estes devem seguir a identação padrão do Python (4 espaços a direita)"
      ]
    },
    {
      "cell_type": "code",
      "execution_count": null,
      "id": "1e305c09",
      "metadata": {
        "id": "1e305c09"
      },
      "outputs": [],
      "source": [
        "def velocidade(espaco, tempo):\n",
        "    pass"
      ]
    },
    {
      "cell_type": "markdown",
      "id": "45c8afde",
      "metadata": {
        "id": "45c8afde"
      },
      "source": [
        "Como nossa função ainda não faz nada, utilizamos a palavra chave `pass` para dizer ao interpretador que definiremos os cálculos depois. A palavra pass não é usada apenas em funções, podemos usar em qualquer bloco de comandos como nas instruções `if` , `while` e `for` , por exemplo."
      ]
    },
    {
      "cell_type": "markdown",
      "id": "6a766173",
      "metadata": {
        "id": "6a766173"
      },
      "source": [
        "Vamos substituir a palavra pass pelos cálculos que nossa função deve executar:"
      ]
    },
    {
      "cell_type": "code",
      "execution_count": null,
      "id": "c256eabd",
      "metadata": {
        "id": "c256eabd"
      },
      "outputs": [],
      "source": [
        "def velocidade(espaco, tempo):\n",
        "    v = espaco/tempo\n",
        "    print(f'velocidade: {v} m/s')"
      ]
    },
    {
      "cell_type": "markdown",
      "id": "62afe759",
      "metadata": {
        "id": "62afe759"
      },
      "source": [
        "Nossa função faz o cálculo da velocidade média e utiliza a função `print()` do Python para imprimi-lo na tela. Vamos testar nossa função:"
      ]
    },
    {
      "cell_type": "code",
      "execution_count": null,
      "id": "3b6554f6",
      "metadata": {
        "id": "3b6554f6",
        "outputId": "6000f450-a1b3-495b-a00b-7620cb0b2676"
      },
      "outputs": [
        {
          "name": "stdout",
          "output_type": "stream",
          "text": [
            "velocidade: 5.0 m/s\n"
          ]
        }
      ],
      "source": [
        "velocidade(100,20)"
      ]
    },
    {
      "cell_type": "markdown",
      "id": "2abfd267",
      "metadata": {
        "id": "2abfd267"
      },
      "source": [
        "De maneira geral, uma função é um estrutura para agrupar um conjunto de instruções que podem ser reutilizadas. Agora qualquer parte do nosso programa pode chamar a função velocidade quando precisar calcular a velocidade média de um veículo, por exemplo.\n",
        "\n",
        "E podemos chamá-la mais de uma vez, o que significa que não precisamos escrever o mesmo código novamente."
      ]
    },
    {
      "cell_type": "markdown",
      "id": "4370ce77",
      "metadata": {
        "id": "4370ce77"
      },
      "source": [
        "Funções são conhecidas por diversos nomes em linguagens de programação como subrotinas, rotinas, procedimentos, métodos e subprogramas. Podemos ter funções sem parâmetros. Por exemplo, podemos ter uma função que diz 'oi' na tela:"
      ]
    },
    {
      "cell_type": "code",
      "execution_count": null,
      "id": "97d2188d",
      "metadata": {
        "id": "97d2188d"
      },
      "outputs": [],
      "source": [
        "def diz_oi():\n",
        "    print('oi')"
      ]
    },
    {
      "cell_type": "code",
      "execution_count": null,
      "id": "e59669ef",
      "metadata": {
        "id": "e59669ef",
        "outputId": "b944e3fd-1d8f-4ad8-89b1-894a53472942"
      },
      "outputs": [
        {
          "name": "stdout",
          "output_type": "stream",
          "text": [
            "oi\n"
          ]
        }
      ],
      "source": [
        "diz_oi()"
      ]
    },
    {
      "cell_type": "markdown",
      "id": "c7f49f9d",
      "metadata": {
        "id": "c7f49f9d"
      },
      "source": [
        "# PARÂMETROS DE\tFUNÇÃO\n",
        "\n",
        "Um conjunto de parâmetros consiste em uma lista com nenhum ou mais elementos que podem ser obrigatórios ou opcionais. Para um parâmetro ser opcional, o mesmo é atribuído a um valor padrão (default) - o mais comum é utilizar None. Por exemplo:"
      ]
    },
    {
      "cell_type": "code",
      "execution_count": null,
      "id": "34a58f5e",
      "metadata": {
        "id": "34a58f5e"
      },
      "outputs": [],
      "source": [
        "def dados(nome, idade=None):\n",
        "    print('nome: {}'.format(nome))\n",
        "    if(idade is not None):\n",
        "        print('idade: {}'.format(idade))\n",
        "    else: print('idade: não informada')"
      ]
    },
    {
      "cell_type": "markdown",
      "id": "21f5389f",
      "metadata": {
        "id": "21f5389f"
      },
      "source": [
        "O código da função acima recebe uma idade como parâmetro e faz uma verificação com uma instrução `if`: se a idade for diferente de `None` ela vai imprimir a idade, caso contrário vai imprimir idade não informada. Vamos testar passando os dois parâmetros e depois apenas o nome:"
      ]
    },
    {
      "cell_type": "code",
      "execution_count": null,
      "id": "554eac1e",
      "metadata": {
        "id": "554eac1e",
        "outputId": "6b6d7499-1783-4fa4-b431-225fa8e81ea3"
      },
      "outputs": [
        {
          "name": "stdout",
          "output_type": "stream",
          "text": [
            "nome: João\n",
            "idade: 26\n"
          ]
        }
      ],
      "source": [
        "dados('João', 26)"
      ]
    },
    {
      "cell_type": "code",
      "execution_count": null,
      "id": "e5264404",
      "metadata": {
        "id": "e5264404",
        "outputId": "cbd0c065-2708-4c4b-a579-2495fb5ce498"
      },
      "outputs": [
        {
          "name": "stdout",
          "output_type": "stream",
          "text": [
            "nome: João\n",
            "idade: não informada\n"
          ]
        }
      ],
      "source": [
        "dados('João')"
      ]
    },
    {
      "cell_type": "markdown",
      "id": "d8c54b70",
      "metadata": {
        "id": "d8c54b70"
      },
      "source": [
        "E\to\tque\tacontece\tse\tpassarmos\tapenas\ta\tidade?"
      ]
    },
    {
      "cell_type": "code",
      "execution_count": null,
      "id": "6870c084",
      "metadata": {
        "id": "6870c084",
        "outputId": "fb6ffc4d-775f-4728-be4e-1fcf7cb9e371"
      },
      "outputs": [
        {
          "name": "stdout",
          "output_type": "stream",
          "text": [
            "nome: 20\n",
            "idade: não informada\n"
          ]
        }
      ],
      "source": [
        "dados(20)"
      ]
    },
    {
      "cell_type": "markdown",
      "id": "874ca806",
      "metadata": {
        "id": "874ca806"
      },
      "source": [
        "Veja que o Python obedece a ordem dos parâmetros. Nossa intenção era passar o número 20 como idade , mas o interpretador vai entender que estamos passando o nome porque não avisamos isso à ele. Caso queiramos passar apenas a idade , devemos especificar o parâmetro:"
      ]
    },
    {
      "cell_type": "code",
      "execution_count": null,
      "id": "61acf541",
      "metadata": {
        "id": "61acf541",
        "outputId": "4aa00827-e6bc-4933-dce0-43b26a9c0399"
      },
      "outputs": [
        {
          "ename": "TypeError",
          "evalue": "dados() missing 1 required positional argument: 'nome'",
          "output_type": "error",
          "traceback": [
            "\u001b[1;31m---------------------------------------------------------------------------\u001b[0m",
            "\u001b[1;31mTypeError\u001b[0m                                 Traceback (most recent call last)",
            "\u001b[1;32m~\\AppData\\Local\\Temp\\ipykernel_16748\\1738394201.py\u001b[0m in \u001b[0;36m<module>\u001b[1;34m\u001b[0m\n\u001b[1;32m----> 1\u001b[1;33m \u001b[0mdados\u001b[0m\u001b[1;33m(\u001b[0m\u001b[0midade\u001b[0m\u001b[1;33m=\u001b[0m\u001b[1;36m20\u001b[0m\u001b[1;33m)\u001b[0m\u001b[1;33m\u001b[0m\u001b[1;33m\u001b[0m\u001b[0m\n\u001b[0m",
            "\u001b[1;31mTypeError\u001b[0m: dados() missing 1 required positional argument: 'nome'"
          ]
        }
      ],
      "source": [
        "dados(idade=20)"
      ]
    },
    {
      "cell_type": "markdown",
      "id": "d1aaf996",
      "metadata": {
        "id": "d1aaf996"
      },
      "source": [
        "O interpretador irá acusar um erro, já que não passamos o atributo obrigatório nome ."
      ]
    },
    {
      "cell_type": "markdown",
      "id": "74858e55",
      "metadata": {
        "id": "74858e55"
      },
      "source": [
        "# FUNÇÃO COM RETORNO\n",
        "\n",
        "E se ao invés de apenas mostrar o resultado, quisermos utilizar a velocidade média para fazer outro cálculo, como calcular a aceleração? Da maneira como está, nossa função velocidade() não consegue utilizar seu resultado final para cálculos. Exemplo:\n",
        "```python\n",
        "aceleracao = velocidade(parametros) / tempo\n",
        "```"
      ]
    },
    {
      "cell_type": "markdown",
      "id": "58a173bc",
      "metadata": {
        "id": "58a173bc"
      },
      "source": [
        "Para conseguirmos este comportamento, precisamos que nossa função retorne o valor calculado por ela. Em Python e em outras linguagens de programação, isto é alcançado através do comando return:\n",
        "```python\n",
        "def velocidade(espaco, tempo):\n",
        "    v = espaco/tempo\n",
        "    return v\n",
        "```"
      ]
    },
    {
      "cell_type": "code",
      "execution_count": null,
      "id": "274080a7",
      "metadata": {
        "id": "274080a7"
      },
      "outputs": [],
      "source": [
        "def velocidade(espaco, tempo):\n",
        "    v = espaco/tempo\n",
        "    return v"
      ]
    },
    {
      "cell_type": "code",
      "execution_count": null,
      "id": "3f723c79",
      "metadata": {
        "id": "3f723c79",
        "outputId": "50ac8803-680f-4966-bc77-094dcd8ec548"
      },
      "outputs": [
        {
          "name": "stdout",
          "output_type": "stream",
          "text": [
            "5.0\n"
          ]
        }
      ],
      "source": [
        "# testando\n",
        "print(velocidade(100,20))"
      ]
    },
    {
      "cell_type": "code",
      "execution_count": null,
      "id": "a67b28de",
      "metadata": {
        "id": "a67b28de",
        "outputId": "7027383e-dbdc-4691-8b74-c048b51f00f7"
      },
      "outputs": [
        {
          "name": "stdout",
          "output_type": "stream",
          "text": [
            "5.0\n"
          ]
        }
      ],
      "source": [
        "# também podemos atribuir a uma variável\n",
        "\n",
        "v = velocidade(100,20)\n",
        "print(v)"
      ]
    },
    {
      "cell_type": "markdown",
      "id": "1ddfc1c0",
      "metadata": {
        "id": "1ddfc1c0"
      },
      "source": [
        "E conseguimos utilizá-la no cálculo da aceleração"
      ]
    },
    {
      "cell_type": "code",
      "execution_count": null,
      "id": "90a73076",
      "metadata": {
        "id": "90a73076",
        "outputId": "f539e625-7800-4e7e-930a-1166f3ee6a60"
      },
      "outputs": [
        {
          "name": "stdout",
          "output_type": "stream",
          "text": [
            "0.25\n"
          ]
        }
      ],
      "source": [
        "aceleracao = velocidade(100, 20)/20\n",
        "print(aceleracao)"
      ]
    },
    {
      "cell_type": "markdown",
      "id": "cce5231a",
      "metadata": {
        "id": "cce5231a"
      },
      "source": [
        "E você pode ainda usar a função `velocidade()` para criar uma função `aceleracao()`"
      ]
    },
    {
      "cell_type": "code",
      "execution_count": null,
      "id": "b674e27e",
      "metadata": {
        "id": "b674e27e"
      },
      "outputs": [],
      "source": [
        "# Criando a função\n",
        "def aceleracao(espaco, tempo):\n",
        "    a = velocidade(espaco,tempo)/tempo\n",
        "    return a"
      ]
    },
    {
      "cell_type": "markdown",
      "id": "0be20ac7",
      "metadata": {
        "id": "0be20ac7"
      },
      "source": [
        "# Veja como fica"
      ]
    },
    {
      "cell_type": "code",
      "execution_count": null,
      "id": "f0457c9d",
      "metadata": {
        "id": "f0457c9d",
        "outputId": "abe66576-3f75-4c23-f617-d397a101e66d"
      },
      "outputs": [
        {
          "name": "stdout",
          "output_type": "stream",
          "text": [
            "0.25\n"
          ]
        }
      ],
      "source": [
        "a = aceleracao(espaco=100, tempo=20)\n",
        "print(a)"
      ]
    },
    {
      "cell_type": "markdown",
      "id": "84c7db24",
      "metadata": {
        "id": "84c7db24"
      },
      "source": [
        "Uma função pode conter mais de um comando `return`. Por exemplo, nossa função `dados()` que imprime o nome e a idade, pode agora retornar uma string. Repare que, neste caso, temos duas situações possíveis: a que a idade é passada por parâmetro e a que ela não é passada. Aqui, teremos dois comandos `return`:\n",
        "```python\n",
        "def dados(nome, idade=None):\n",
        "    if(idade is not None):\n",
        "        return ('nome: {} \\nidade: {}'.format(nome, idade))\n",
        "    else:\n",
        "        return ('nome: {} \\nidade: não informada'.format(nome))\n",
        "```"
      ]
    },
    {
      "cell_type": "markdown",
      "id": "083610b7",
      "metadata": {
        "id": "083610b7"
      },
      "source": [
        "Apesar\tda\tfunção\tpossuir\tdois\tcomandos\treturn,\tela\ttem\tapenas\tum\tretorno\t--\tvai\tretornar\tum\tou\to\n",
        "outro.\tQuando\ta\tfunção\tencontra\tum\tcomando\t`return`,\tela\tnão\texecuta\tmais\tnada\tque\tvier\tdepois\tdele\n",
        "dentro\tde\tseu\tescopo."
      ]
    },
    {
      "cell_type": "markdown",
      "id": "3d7111f7",
      "metadata": {
        "id": "3d7111f7"
      },
      "source": [
        "# RETORNANDO MÚLTIPLOS VALORES\n",
        "\n",
        "Apesar de uma função executar apenas um retorno, em Python podemos retornar mais de um valor. Vamos fazer uma função calculadora que vai retornar os resultados de operações básicas entre dois números: adição(+) e subtração(-), nesta ordem."
      ]
    },
    {
      "cell_type": "code",
      "execution_count": null,
      "id": "d7a0c3f2",
      "metadata": {
        "id": "d7a0c3f2"
      },
      "outputs": [],
      "source": [
        "def calculadora(x,y):\n",
        "    return x+y , x-y"
      ]
    },
    {
      "cell_type": "code",
      "execution_count": null,
      "id": "144c8400",
      "metadata": {
        "id": "144c8400",
        "outputId": "01869deb-039e-4406-8794-0737f702ccad"
      },
      "outputs": [
        {
          "data": {
            "text/plain": [
              "(5, -1)"
            ]
          },
          "execution_count": 13,
          "metadata": {},
          "output_type": "execute_result"
        }
      ],
      "source": [
        "calculadora(2,3)"
      ]
    },
    {
      "cell_type": "code",
      "execution_count": null,
      "id": "a2b98106",
      "metadata": {
        "id": "a2b98106"
      },
      "outputs": [],
      "source": [
        "# Ou ainda\n",
        "soma, diferenca = calculadora(4,2)"
      ]
    },
    {
      "cell_type": "code",
      "execution_count": null,
      "id": "10a2e206",
      "metadata": {
        "id": "10a2e206",
        "outputId": "ca04faeb-dd71-4237-eff7-2d906987109b"
      },
      "outputs": [
        {
          "name": "stdout",
          "output_type": "stream",
          "text": [
            "6\n",
            "2\n"
          ]
        }
      ],
      "source": [
        "print(soma)\n",
        "print(diferenca)"
      ]
    },
    {
      "cell_type": "markdown",
      "id": "9aa4b042",
      "metadata": {
        "id": "9aa4b042"
      },
      "source": [
        "Qual será o tipo de retorno desta função? Vamos perguntar ao interpretador através da função `type`:"
      ]
    },
    {
      "cell_type": "code",
      "execution_count": null,
      "id": "31a40d2e",
      "metadata": {
        "id": "31a40d2e",
        "outputId": "bbe2f6ca-8556-4e63-90cd-586fc378c666"
      },
      "outputs": [
        {
          "name": "stdout",
          "output_type": "stream",
          "text": [
            "<class 'tuple'>\n"
          ]
        }
      ],
      "source": [
        "print(type(calculadora(4,2)))"
      ]
    },
    {
      "cell_type": "markdown",
      "id": "a00459a9",
      "metadata": {
        "id": "a00459a9"
      },
      "source": [
        "Ahh a tupla lembra da ultima aula???"
      ]
    },
    {
      "cell_type": "markdown",
      "id": "9dde8002",
      "metadata": {
        "id": "9dde8002"
      },
      "source": [
        "# Um novo desafio\n",
        "\n",
        "Crie as seguintes funções :    \n",
        "a) `cria_lista()` uma função que interaja com o usuário para inserir uma lista de números e retorne essa lista   \n",
        "b) `maior_numero()` retorna o maior elemento    \n",
        "c) `menor_numero()` retorna o menor elemento    \n",
        "d) `numero_pares()` retorna uma lista contendo números pares        \n",
        "e) `calcula_media()` retorna a média de uma lista   \n",
        "f) `calcula_soma()` retorna a soma de uma lista\n",
        "g) `calcula_desv_pad()` retorna o desvio padrão de uma lista\n",
        "\n",
        "Esse é um bom desafio!!! Na semana que vem vamos ver como fazer isto!!"
      ]
    },
    {
      "cell_type": "markdown",
      "id": "8a532f91",
      "metadata": {
        "id": "8a532f91"
      },
      "source": [
        "# Excelente se você conseguiu chegar aqui sem problemas parabéns 🤩🙌👏\n",
        "🧑‍🎓🧑🏿‍🎓🧑🏻‍🎓🧑🏾‍🎓🧑🏼‍🎓🧑🏽‍🎓\n",
        "\n",
        "Muita coisa nessa quinta conversa!! Nos aprofundamos em funções, um recurso muito importante dentro do pytho! veja que integramos tudo que aprendemos até agora, nosso desafio envolveu listas, variáveis, loops `for`, comandos `if` `else`.\n",
        "\n",
        "Até agora trabalhamos com o python, porém, como falamos na primeira conversa, podemos ampliar o escopo do python com as bibliotecas, uma das maiores forças do Python.\n",
        "\n",
        "Nas próximas conversas estaremos falando das principais bibliotes de análise de dados, aguarde vem coisa muito legal por aí!"
      ]
    }
  ],
  "metadata": {
    "celltoolbar": "Slideshow",
    "kernelspec": {
      "display_name": "Python 3 (ipykernel)",
      "language": "python",
      "name": "python3"
    },
    "language_info": {
      "codemirror_mode": {
        "name": "ipython",
        "version": 3
      },
      "file_extension": ".py",
      "mimetype": "text/x-python",
      "name": "python",
      "nbconvert_exporter": "python",
      "pygments_lexer": "ipython3",
      "version": "3.9.13"
    },
    "nbTranslate": {
      "displayLangs": [
        "pt",
        "en"
      ],
      "hotkey": "alt-t",
      "langInMainMenu": true,
      "sourceLang": "en",
      "targetLang": "pt",
      "useGoogleTranslate": true
    },
    "colab": {
      "provenance": [],
      "include_colab_link": true
    }
  },
  "nbformat": 4,
  "nbformat_minor": 5
}