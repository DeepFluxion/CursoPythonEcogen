{
 "cells": [
  {
   "cell_type": "markdown",
   "id": "ddfc6881",
   "metadata": {
    "slideshow": {
     "slide_type": "slide"
    }
   },
   "source": [
    "# # Excelente estamos avançando 🤩🙌👏\n",
    "\n",
    "🧑‍🎓🧑🏿‍🎓🧑🏻‍🎓🧑🏾‍🎓🧑🏼‍🎓🧑🏽‍🎓\n",
    "\n",
    "Vimos muita coisa em nossas conversas!! Nos aprofundamos nos comando `IF - ELSE`e `ELIF` conhecemos os loops com o comando `WHILE` aprendemos um pouco cobre o comando `range()` e começamos a estudar os loops com `for`, além disso fizemos um novo programa o Jogo da Advinhação.Hoje vamos rever esses ultimos conceitos e aprender algumas coisas novas, mas nates vamos finalizar o jogo da advinhação."
   ]
  },
  {
   "cell_type": "markdown",
   "id": "8f429061",
   "metadata": {
    "slideshow": {
     "slide_type": "subslide"
    }
   },
   "source": [
    "# Finalizando o jogo da advinhação\n",
    "\n",
    "Na ultima conversa evoluimos bastante no jogo da advinhação e conhecemos os comandos `if`, `elif`, `while` e `for`. Vamos ver a versão final, primeiro vamos testar a estrutura final e depois vamos usar a função `random.randint()`"
   ]
  },
  {
   "cell_type": "code",
   "execution_count": 21,
   "id": "726a8294",
   "metadata": {
    "slideshow": {
     "slide_type": "subslide"
    }
   },
   "outputs": [
    {
     "name": "stdout",
     "output_type": "stream",
     "text": [
      "Digite a quantidade de tentativas: 2\n",
      "Tentativa 1 de 2\n",
      "Digite o seu número: 41\n",
      "Você digitou:  41\n",
      "Você errou! O seu chute foi menor que o número secreto👎\n",
      "Tentativa 2 de 2\n",
      "Digite o seu número: 43\n",
      "Você digitou:  43\n",
      "Você errou! O seu chute foi maior que o número secreto👎\n",
      " O número secreto é 42!!\n",
      "FIM DE JOGO\n"
     ]
    }
   ],
   "source": [
    "# Definindo os parâmetros do jogo\n",
    "numero_secreto = 42\n",
    "# total_de_tentativas = 2\n",
    "total_de_tentativas = int(input('Digite a quantidade de tentativas: '))# Coletando qunatas tentativas o usuário deseja\n",
    "# Definindo a estrutura de repetição com o for\n",
    "for rodada in range(1, total_de_tentativas+1):\n",
    "# Definindo a estrutura de decisão a ser repetida a cada rodada\n",
    "    print(f'Tentativa {rodada} de {total_de_tentativas}') # retornando o número de tentativas\n",
    "    chute = int(input('Digite o seu número: '))# Coletando o palpite do usuário\n",
    "    print('Você digitou: ', chute) # retornando o palpite do usuário\n",
    "    acertou = numero_secreto == chute # Verificando se o palpite esta certo\n",
    "    maior = chute > numero_secreto    # Verificando se o palpite é maior\n",
    "    menor = chute < numero_secreto    # Verificando se o palpite é menor\n",
    "    # Tomando as decisões\n",
    "    if (acertou):# Decidindo se o palpite esta certo\n",
    "        print('Você acertou!👍') # retornando o que fazer se palpite for certo\n",
    "        break # parar a execução se o palpite estiver certo\n",
    "    elif (maior): # Decidindo se o palpite for maior\n",
    "        print('Você errou! O seu chute foi maior que o número secreto👎')# fazer se palpite for maior\n",
    "    elif (menor): # Decidindo se o palpite for menor\n",
    "        print('Você errou! O seu chute foi menor que o número secreto👎')# fazer se palpite for menor\n",
    "if maior or menor:\n",
    "    print( f' O número secreto é {numero_secreto}!!') # revelando o numero_secreto\n",
    "print('FIM DE JOGO') # informar que o jogo terminou"
   ]
  },
  {
   "cell_type": "code",
   "execution_count": 22,
   "id": "462b0bda",
   "metadata": {
    "slideshow": {
     "slide_type": "subslide"
    }
   },
   "outputs": [
    {
     "name": "stdout",
     "output_type": "stream",
     "text": [
      "Digite a quantidade de tentativas: 3\n",
      "Tentativa 1 de 3\n",
      "Digite o seu número: 5\n",
      "Você digitou:  5\n",
      "Você errou! O seu chute foi maior que o número secreto👎\n",
      "Tentativa 2 de 3\n",
      "Digite o seu número: 2\n",
      "Você digitou:  2\n",
      "Você errou! O seu chute foi menor que o número secreto👎\n",
      "Tentativa 3 de 3\n",
      "Digite o seu número: 3\n",
      "Você digitou:  3\n",
      "Você acertou!👍\n",
      "FIM DE JOGO\n"
     ]
    }
   ],
   "source": [
    "# Definindo os parâmetros do jogo\n",
    "import random # importando a biblioteca random \n",
    "numero_secreto = random.randint(1, 10) # escolhe randomicamente um numero entre 1 e 10\n",
    "# total_de_tentativas = 2\n",
    "# numero_secreto = 42\n",
    "total_de_tentativas = int(input('Digite a quantidade de tentativas: '))# Coletando qunatas tentativas o usuário deseja\n",
    "# Definindo a estrutura de repetição com o for\n",
    "for rodada in range(1, total_de_tentativas+1):\n",
    "# Definindo a estrutura de decisão a ser repetida a cada rodada\n",
    "    print(f'Tentativa {rodada} de {total_de_tentativas}') # retornando o número de tentativas\n",
    "    chute = int(input('Digite o seu número: '))# Coletando o palpite do usuário\n",
    "    print('Você digitou: ', chute) # retornando o palpite do usuário\n",
    "    acertou = numero_secreto == chute # Verificando se o palpite esta certo\n",
    "    maior = chute > numero_secreto    # Verificando se o palpite é maior\n",
    "    menor = chute < numero_secreto    # Verificando se o palpite é menor\n",
    "    # Tomando as decisões\n",
    "    if (acertou):# Decidindo se o palpite esta certo\n",
    "        print('Você acertou!👍') # retornando o que fazer se palpite for certo\n",
    "        break # parar a execução se o palpite estiver certo\n",
    "    elif (maior): # Decidindo se o palpite for maior\n",
    "        print('Você errou! O seu chute foi maior que o número secreto👎')# fazer se palpite for maior\n",
    "    elif (menor): # Decidindo se o palpite for menor\n",
    "        print('Você errou! O seu chute foi menor que o número secreto👎')# fazer se palpite for menor\n",
    "if maior or menor:\n",
    "    print( f' O número secreto é {numero_secreto}!!') # revelando o numero_secreto\n",
    "print('FIM DE JOGO') # informar que o jogo terminou"
   ]
  },
  {
   "cell_type": "markdown",
   "id": "e9a33c8f",
   "metadata": {
    "slideshow": {
     "slide_type": "slide"
    }
   },
   "source": [
    "# Trabalhando com SEQUÊNCIAS\n",
    "\n",
    "Hoje conheceremos novas estruturas de dados as sequências o que inclui, as listas, conjuntos e dicionários. \n",
    "\n",
    "Uma lista é denominada por uma sequência de valores, como falamos o Python possui outros tipos de dados que também são sequências. Neste momento, conheceremos um pouco de cada uma delas."
   ]
  },
  {
   "cell_type": "markdown",
   "id": "86497186",
   "metadata": {
    "slideshow": {
     "slide_type": "subslide"
    }
   },
   "source": [
    "Sequências são _containers_, **um tipo de dado que contém outros dados**. \n",
    "\n",
    "Existem três tipos básicos de sequência: `list` (lista) , `tuple` (tupla) e `range` (objeto de intervalo). Outro tipo de sequência famoso que já vimos são as `strings` que são **sequências de texto**. \n",
    "\n",
    "Sequências podem ser mutáveis ou imutáveis. Sequências imutáveis não podem ter seus valores modificados. Tuplas, `strings` e `ranges` são sequências imutáveis, enquanto listas são sequências mutáveis."
   ]
  },
  {
   "cell_type": "markdown",
   "id": "629bb332",
   "metadata": {
    "slideshow": {
     "slide_type": "slide"
    }
   },
   "source": [
    "As operações na tabela a seguir são suportadas pela maioria dos tipos de sequência, mutáveis e imutáveis. Na tabela abaixo, `s` e `t` são sequências do mesmo tipo, `n` , `i` , `j` e `k` são inteiros e `x` é um objeto arbitrário que atende a qualquer tipo e restrições de valor impostas por `s` .\n",
    "\n",
    "| **Operação** | **Resultado** |\n",
    "|---|---|\n",
    "| `x in s` | `True` se um item de `s` é igual a `x` |\n",
    "| `x not in s` | `True` se nenhum item de `s` é igual a `x` |\n",
    "| `s + t` | Concatenação de `s` e `t` |\n",
    "| `s[i]` | Elemento de `s` na posição `i` |\n",
    "| `s[i:j]` | Fatia de `s` entre `i` e `j` |\n",
    "| `s[i:j:k]` | Fatia de `s` entre `i` e `j` com passo `k` |\n",
    "| `len(s)` | Comprimento de `s` |\n",
    "| `min(s`) | mínimo de `s` |\n",
    "| `max(s)` | máximo de `s` |\n",
    "| `s.count(x)` | Número total de ocorrência de `x` em `s` |"
   ]
  },
  {
   "cell_type": "markdown",
   "id": "6e854105",
   "metadata": {
    "slideshow": {
     "slide_type": "subslide"
    }
   },
   "source": [
    "# Listas \n",
    "Uma lista é uma sequência de valores onde cada valor é identificado por um **índice iniciado por 0**. São similares a `strings` (coleção de caracteres) exceto pelo fato de que os elementos de uma lista podem ser de qualquer tipo. A sintaxe é simples, listas são delimitadas por **colchetes** e seus elementos **separados por vírgula**:"
   ]
  },
  {
   "cell_type": "code",
   "execution_count": 23,
   "id": "1e395476",
   "metadata": {
    "slideshow": {
     "slide_type": "fragment"
    }
   },
   "outputs": [
    {
     "name": "stdout",
     "output_type": "stream",
     "text": [
      "[1, 2, 3, 4]\n"
     ]
    }
   ],
   "source": [
    "# Atribuindo valores a lista_1\n",
    "lista_1 = [1, 2, 3, 4]\n",
    "print(lista_1)"
   ]
  },
  {
   "cell_type": "code",
   "execution_count": 24,
   "id": "54414b58",
   "metadata": {
    "slideshow": {
     "slide_type": "fragment"
    }
   },
   "outputs": [
    {
     "name": "stdout",
     "output_type": "stream",
     "text": [
      "['python', 'java', 'c#']\n"
     ]
    }
   ],
   "source": [
    "# Atribuindo valores a lista_2\n",
    "lista_2=['python','java','c#']\n",
    "print(lista_2)"
   ]
  },
  {
   "cell_type": "markdown",
   "id": "2f9b07e2",
   "metadata": {
    "slideshow": {
     "slide_type": "subslide"
    }
   },
   "source": [
    "O primeiro exemplo é uma lista com 4 inteiros, o segundo é uma lista contendo três strings. Contudo, listas não precisam conter elementos de mesmo tipo. Podemos ter listas heterogêneas"
   ]
  },
  {
   "cell_type": "code",
   "execution_count": 25,
   "id": "3290e955",
   "metadata": {
    "slideshow": {
     "slide_type": "fragment"
    }
   },
   "outputs": [
    {
     "name": "stdout",
     "output_type": "stream",
     "text": [
      "[1, 2, 'python', 3.5, 'java']\n"
     ]
    }
   ],
   "source": [
    "# Atribuindo valores a lista\n",
    "lista = [1, 2, 'python', 3.5, 'java']\n",
    "print(lista)"
   ]
  },
  {
   "cell_type": "markdown",
   "id": "d35c7900",
   "metadata": {
    "slideshow": {
     "slide_type": "slide"
    }
   },
   "source": [
    "Nossa lista possui elementos do tipo `int` , `float` e `str` . Se queremos selecionar um elemento específico, utilizamos o operador `[ ]` passando a posição:"
   ]
  },
  {
   "cell_type": "code",
   "execution_count": 26,
   "id": "fbd05b8c",
   "metadata": {
    "slideshow": {
     "slide_type": "fragment"
    }
   },
   "outputs": [
    {
     "name": "stdout",
     "output_type": "stream",
     "text": [
      "1\n",
      "2\n",
      "python\n",
      "3.5\n",
      "java\n"
     ]
    }
   ],
   "source": [
    "print(lista[0])\n",
    "print(lista[1])\n",
    "print(lista[2])\n",
    "print(lista[3])\n",
    "print(lista[4])"
   ]
  },
  {
   "cell_type": "code",
   "execution_count": 27,
   "id": "b5bddf61",
   "metadata": {
    "slideshow": {
     "slide_type": "subslide"
    }
   },
   "outputs": [
    {
     "ename": "IndexError",
     "evalue": "list index out of range",
     "output_type": "error",
     "traceback": [
      "\u001b[1;31m---------------------------------------------------------------------------\u001b[0m",
      "\u001b[1;31mIndexError\u001b[0m                                Traceback (most recent call last)",
      "\u001b[1;32m~\\AppData\\Local\\Temp\\ipykernel_3892\\3870532409.py\u001b[0m in \u001b[0;36m<module>\u001b[1;34m\u001b[0m\n\u001b[1;32m----> 1\u001b[1;33m \u001b[0mprint\u001b[0m\u001b[1;33m(\u001b[0m\u001b[0mlista\u001b[0m\u001b[1;33m[\u001b[0m\u001b[1;36m5\u001b[0m\u001b[1;33m]\u001b[0m\u001b[1;33m)\u001b[0m\u001b[1;33m\u001b[0m\u001b[1;33m\u001b[0m\u001b[0m\n\u001b[0m",
      "\u001b[1;31mIndexError\u001b[0m: list index out of range"
     ]
    }
   ],
   "source": [
    "print(lista[5])"
   ]
  },
  {
   "cell_type": "markdown",
   "id": "9e212cf8",
   "metadata": {
    "slideshow": {
     "slide_type": "fragment"
    }
   },
   "source": [
    "Quando tentamos acessar a posição 4 fazendo lista[4] , aparece o erro `IndexError` , dizendo que a lista excedeu seu limite já que não há um quinto elemento (índice 4)."
   ]
  },
  {
   "cell_type": "markdown",
   "id": "3ff5274c",
   "metadata": {
    "slideshow": {
     "slide_type": "subslide"
    }
   },
   "source": [
    "O Python permite passar valores negativos como índice que vai devolver o valor naquela posição de forma reversa"
   ]
  },
  {
   "cell_type": "code",
   "execution_count": 28,
   "id": "f11ea169",
   "metadata": {
    "slideshow": {
     "slide_type": "fragment"
    }
   },
   "outputs": [
    {
     "name": "stdout",
     "output_type": "stream",
     "text": [
      "java\n",
      "3.5\n",
      "python\n",
      "2\n",
      "1\n"
     ]
    }
   ],
   "source": [
    "print(lista[-1])\n",
    "print(lista[-2])\n",
    "print(lista[-3])\n",
    "print(lista[-4])\n",
    "print(lista[-5])"
   ]
  },
  {
   "cell_type": "markdown",
   "id": "c941f3c6",
   "metadata": {
    "slideshow": {
     "slide_type": "subslide"
    }
   },
   "source": [
    "Também é possível usar a função `list()` para criar uma lista passando um tipo que pode ser iterável como uma `string`:"
   ]
  },
  {
   "cell_type": "code",
   "execution_count": 29,
   "id": "ac63b2c1",
   "metadata": {
    "slideshow": {
     "slide_type": "fragment"
    }
   },
   "outputs": [
    {
     "name": "stdout",
     "output_type": "stream",
     "text": [
      "['p', 'y', 't', 'h', 'o', 'n']\n"
     ]
    }
   ],
   "source": [
    "lista = list('python')\n",
    "print(lista)"
   ]
  },
  {
   "cell_type": "code",
   "execution_count": 30,
   "id": "4635a5bd",
   "metadata": {
    "slideshow": {
     "slide_type": "fragment"
    }
   },
   "outputs": [
    {
     "name": "stdout",
     "output_type": "stream",
     "text": [
      "[0, 1, 2, 3, 4, 5, 6, 7, 8, 9]\n"
     ]
    }
   ],
   "source": [
    "lista = list(range(10))\n",
    "print(lista)"
   ]
  },
  {
   "cell_type": "markdown",
   "id": "7718628e",
   "metadata": {
    "slideshow": {
     "slide_type": "subslide"
    }
   },
   "source": [
    "Listas são muito úteis e amplamente usadas na programação em Python, vamos ver um exemplo:"
   ]
  },
  {
   "cell_type": "code",
   "execution_count": 31,
   "id": "a9e3409c",
   "metadata": {
    "slideshow": {
     "slide_type": "fragment"
    }
   },
   "outputs": [
    {
     "name": "stdout",
     "output_type": "stream",
     "text": [
      "Escolha um mês (1-12): 1\n",
      "O mês é Janeiro\n",
      "Escolha um mês (1-12): 2\n",
      "O mês é Fevereiro\n",
      "Escolha um mês (1-12): 3\n",
      "O mês é Março\n"
     ]
    }
   ],
   "source": [
    "meses = ['Janeiro', 'Fevereiro', 'Março', 'Abril', 'Maio', 'Junho', 'Julho', 'Agosto', 'Setembro' , \n",
    "         'Outubro', 'Novembro', 'Dezembro'] \n",
    "n = 1 \n",
    "while(n < 4): \n",
    "    mes = int(input(\"Escolha um mês (1-12): \")) \n",
    "    if 1 <= mes < 13: \n",
    "        print(f'O mês é {meses[mes-1]}') \n",
    "    else:\n",
    "        print('escolha um número entre 1 e 12')\n",
    "    n += 1"
   ]
  },
  {
   "cell_type": "markdown",
   "id": "0303ff4a",
   "metadata": {
    "slideshow": {
     "slide_type": "subslide"
    }
   },
   "source": [
    "Primeiro criamos um lista, relacionamos seus índices com os meses do ano, recuperamos seus valores através da entrada do usuário e imprimimos na tela o mês escolhido (`meses[mes-1]`) indexado a lista **a partir do zero**. \n",
    "\n",
    "Usamos um laço `while` que faz nosso programa entrar em **loop** e ser rodado 3 vezes."
   ]
  },
  {
   "cell_type": "markdown",
   "id": "1a1dc601",
   "metadata": {
    "slideshow": {
     "slide_type": "subslide"
    }
   },
   "source": [
    "# Exercício\n",
    "\n",
    "Reescreva o código anterior usando um loop `for`"
   ]
  },
  {
   "cell_type": "code",
   "execution_count": 23,
   "id": "54aa1f04",
   "metadata": {
    "slideshow": {
     "slide_type": "subslide"
    }
   },
   "outputs": [],
   "source": [
    "# seu código aqui\n"
   ]
  },
  {
   "cell_type": "markdown",
   "id": "ab0e5ec4",
   "metadata": {
    "slideshow": {
     "slide_type": "subslide"
    }
   },
   "source": [
    "Além de acessar um valor específico utilizando o índice, podemos acessar múltiplos valores através do fatiamento. Também utilizamos colchetes para o fatiamento. Suponha que queremos acessar os dois primeiros elementos de uma lista:"
   ]
  },
  {
   "cell_type": "code",
   "execution_count": 32,
   "id": "912d2ee3",
   "metadata": {
    "slideshow": {
     "slide_type": "fragment"
    }
   },
   "outputs": [
    {
     "name": "stdout",
     "output_type": "stream",
     "text": [
      "[2, 3]\n",
      "[2, 3]\n",
      "[5, 7]\n",
      "[5, 7, 11]\n"
     ]
    }
   ],
   "source": [
    "lista = [2, 3, 5, 7, 11]\n",
    "print(lista[0:2]) # imprime os elementos de 0 até 2\n",
    "print(lista[:2]) # imprime os elementos de 0 até 2\n",
    "print(lista[2:4]) # imprime os elementos de 2 até 4\n",
    "print(lista[2:]) # imprime os elementos de 2 até o final"
   ]
  },
  {
   "cell_type": "markdown",
   "id": "17c08df5",
   "metadata": {
    "slideshow": {
     "slide_type": "subslide"
    }
   },
   "source": [
    "As listas também possuem funcionalidades prontas, e podemos manipulá-las através de funções embutidas. As listas podem ser utilizadas em conjunto com uma função chamada `append()` , que adiciona um dado na lista:"
   ]
  },
  {
   "cell_type": "code",
   "execution_count": 33,
   "id": "7ca8a448",
   "metadata": {
    "slideshow": {
     "slide_type": "fragment"
    }
   },
   "outputs": [
    {
     "name": "stdout",
     "output_type": "stream",
     "text": [
      "[]\n",
      "['zero']\n",
      "['zero', 'um']\n"
     ]
    }
   ],
   "source": [
    "lista = []           # Cria uma lista vazia\n",
    "print(lista)         # imprime a lista\n",
    "lista.append('zero') # adiciona a string zero a lista\n",
    "print(lista)         # imprime a lista\n",
    "lista.append('um')   # adiciona a string zero a lista \n",
    "print(lista)         # imprime a lista"
   ]
  },
  {
   "cell_type": "markdown",
   "id": "9c846d84",
   "metadata": {
    "slideshow": {
     "slide_type": "subslide"
    }
   },
   "source": [
    "A função `append()` só consegue inserir um elemento por vez. Se quisermos inserir mais elementos, podemos somar ou multiplicar listas, ou então utilizar a função `extend()` :"
   ]
  },
  {
   "cell_type": "code",
   "execution_count": 34,
   "id": "03000242",
   "metadata": {},
   "outputs": [
    {
     "name": "stdout",
     "output_type": "stream",
     "text": [
      "['zero', 'um']\n",
      "['zero', 'um', 'dois', 'três']\n",
      "['zero', 'um', 'dois', 'três', 'quatro', 'cinco']\n",
      "['zero', 'um', 'dois', 'três', 'quatro', 'cinco', 'seis']\n",
      "['zero', 'um', 'dois', 'três', 'quatro', 'cinco', 'seis', 'zero', 'um', 'dois', 'três', 'quatro', 'cinco', 'seis']\n"
     ]
    }
   ],
   "source": [
    "print(lista)                    # imprime a lista\n",
    "lista.extend(['dois', 'três'])  # adiciona a lista ['dois', 'três'] à lista\n",
    "print(lista)                    # imprime a lista\n",
    "lista += ['quatro', 'cinco']    # adiciona a lista ['quatro', 'cinco'] à lista\n",
    "print(lista)                    # imprime a lista\n",
    "lista += ['seis']               # adiciona a lista ['seis'] à lista\n",
    "print(lista)                    # imprime a lista\n",
    "print(lista*2)                  # imprime a lista*2"
   ]
  },
  {
   "cell_type": "markdown",
   "id": "8bceaf5b",
   "metadata": {
    "slideshow": {
     "slide_type": "subslide"
    }
   },
   "source": [
    "Isso é possível pois listas são sequências mutáveis, ou seja, conseguimos adicionar, remover e modificar seus elementos. Para imprimir o conteúdo de uma lista, podemos utilizar o comando `for` :"
   ]
  },
  {
   "cell_type": "code",
   "execution_count": 35,
   "id": "59ca6e26",
   "metadata": {},
   "outputs": [
    {
     "name": "stdout",
     "output_type": "stream",
     "text": [
      "zero\n",
      "um\n",
      "dois\n",
      "três\n",
      "quatro\n",
      "cinco\n",
      "seis\n"
     ]
    }
   ],
   "source": [
    "for valor in lista:\n",
    "    print(valor)"
   ]
  },
  {
   "cell_type": "markdown",
   "id": "428102ab",
   "metadata": {
    "slideshow": {
     "slide_type": "slide"
    }
   },
   "source": [
    "# Tuplas \n",
    "Uma tupla é uma lista **imutável**, ou seja, uma tupla é uma sequência que não pode ser alterada depois de criada. Uma tupla é definida de forma parecida com uma lista com a diferença do delimitador. \n",
    "\n",
    "> **Enquanto listas utilizam colchetes como delimitadores, as tuplas usam parênteses**\n",
    "\n",
    "```python\n",
    "lista_dias = ['domingo', 'segunda', 'terça', 'quarta', 'quinta', 'sexta', 'sabado']\n",
    "tupla_dias = ('domingo', 'segunda', 'terça', 'quarta', 'quinta', 'sexta', 'sabado')\n",
    "print(type(lista_dias))\n",
    "print(type(tupla_dias))\n",
    "```"
   ]
  },
  {
   "cell_type": "code",
   "execution_count": 36,
   "id": "fea7231e",
   "metadata": {
    "slideshow": {
     "slide_type": "subslide"
    }
   },
   "outputs": [
    {
     "name": "stdout",
     "output_type": "stream",
     "text": [
      "<class 'list'>\n",
      "<class 'tuple'>\n"
     ]
    }
   ],
   "source": [
    "lista_dias = ['domingo', 'segunda', 'terça', 'quarta', 'quinta', 'sexta', 'sabado']\n",
    "tupla_dias = ('domingo', 'segunda', 'terça', 'quarta', 'quinta', 'sexta', 'sabado')\n",
    "print(type(lista_dias))\n",
    "print(type(tupla_dias))"
   ]
  },
  {
   "cell_type": "markdown",
   "id": "80ec0067",
   "metadata": {
    "slideshow": {
     "slide_type": "subslide"
    }
   },
   "source": [
    "Podemos omitir os parênteses e inserir os elementos separados por vírgula:\n",
    "```python\n",
    "tupla_dias = 'domingo', 'segunda', 'terça', 'quarta', 'quinta', 'sexta', 'sabado'\n",
    "print(type(tupla_dias))\n",
    "```"
   ]
  },
  {
   "cell_type": "code",
   "execution_count": 37,
   "id": "2b6ec84e",
   "metadata": {
    "slideshow": {
     "slide_type": "fragment"
    }
   },
   "outputs": [
    {
     "name": "stdout",
     "output_type": "stream",
     "text": [
      "<class 'tuple'>\n",
      "('domingo', 'segunda', 'terça', 'quarta', 'quinta', 'sexta', 'sabado')\n"
     ]
    }
   ],
   "source": [
    "tupla_dias = 'domingo', 'segunda', 'terça', 'quarta', 'quinta', 'sexta', 'sabado'\n",
    "print(type(tupla_dias))\n",
    "print(tupla_dias)"
   ]
  },
  {
   "cell_type": "code",
   "execution_count": 38,
   "id": "03a0c9c5",
   "metadata": {
    "slideshow": {
     "slide_type": "fragment"
    }
   },
   "outputs": [
    {
     "name": "stdout",
     "output_type": "stream",
     "text": [
      "domingo\n",
      "segunda\n",
      "terça\n",
      "quarta\n",
      "quinta\n",
      "sexta\n",
      "sabado\n"
     ]
    }
   ],
   "source": [
    "for day in tupla_dias:\n",
    "    print(day)"
   ]
  },
  {
   "cell_type": "markdown",
   "id": "90153f1a",
   "metadata": {
    "slideshow": {
     "slide_type": "subslide"
    }
   },
   "source": [
    "Assim como as listas, também podemos usar uma função para criar uma tupla passando um tipo que pode ser iterável como uma string ou uma lista. Essa função é a `tuple()` :"
   ]
  },
  {
   "cell_type": "code",
   "execution_count": 39,
   "id": "f11d4049",
   "metadata": {
    "slideshow": {
     "slide_type": "fragment"
    }
   },
   "outputs": [
    {
     "name": "stdout",
     "output_type": "stream",
     "text": [
      "('p', 'y', 't', 'h', 'o', 'n')\n",
      "(1, 2, 3, 4)\n"
     ]
    }
   ],
   "source": [
    "texto = 'python'\n",
    "print(tuple(texto))\n",
    "lista = [1,2,3,4]\n",
    "print(tuple(lista))"
   ]
  },
  {
   "cell_type": "markdown",
   "id": "ccab977f",
   "metadata": {
    "slideshow": {
     "slide_type": "subslide"
    }
   },
   "source": [
    "As regras para os índices são as mesmas das listas, exceto para elementos também imutáveis. Como são imutáveis, uma vez criadas **não podemos adicionar nem remover elementos de uma tupla**. O método `append()` da lista não existe na tupla:"
   ]
  },
  {
   "cell_type": "code",
   "execution_count": 40,
   "id": "cc613423",
   "metadata": {
    "slideshow": {
     "slide_type": "fragment"
    }
   },
   "outputs": [
    {
     "ename": "AttributeError",
     "evalue": "'tuple' object has no attribute 'append'",
     "output_type": "error",
     "traceback": [
      "\u001b[1;31m---------------------------------------------------------------------------\u001b[0m",
      "\u001b[1;31mAttributeError\u001b[0m                            Traceback (most recent call last)",
      "\u001b[1;32m~\\AppData\\Local\\Temp\\ipykernel_3892\\2362010287.py\u001b[0m in \u001b[0;36m<module>\u001b[1;34m\u001b[0m\n\u001b[1;32m----> 1\u001b[1;33m \u001b[0mtupla_dias\u001b[0m\u001b[1;33m.\u001b[0m\u001b[0mappend\u001b[0m\u001b[1;33m(\u001b[0m\u001b[1;34m'sabado2'\u001b[0m\u001b[1;33m)\u001b[0m\u001b[1;33m\u001b[0m\u001b[1;33m\u001b[0m\u001b[0m\n\u001b[0m",
      "\u001b[1;31mAttributeError\u001b[0m: 'tuple' object has no attribute 'append'"
     ]
    }
   ],
   "source": [
    "tupla_dias.append('sabado2')"
   ]
  },
  {
   "cell_type": "code",
   "execution_count": 41,
   "id": "fb27954d",
   "metadata": {
    "slideshow": {
     "slide_type": "subslide"
    }
   },
   "outputs": [
    {
     "name": "stdout",
     "output_type": "stream",
     "text": [
      "['domingo', 'segunda', 'terça', 'quarta', 'quinta', 'sexta', 'sabado', 'sabado2']\n"
     ]
    }
   ],
   "source": [
    "lista_dias.append('sabado2')\n",
    "print(lista_dias)"
   ]
  },
  {
   "cell_type": "code",
   "execution_count": 42,
   "id": "585f8298",
   "metadata": {
    "slideshow": {
     "slide_type": "subslide"
    }
   },
   "outputs": [
    {
     "data": {
      "text/plain": [
       "'domingo'"
      ]
     },
     "execution_count": 42,
     "metadata": {},
     "output_type": "execute_result"
    }
   ],
   "source": [
    "tupla_dias[0]"
   ]
  },
  {
   "cell_type": "code",
   "execution_count": 43,
   "id": "35611811",
   "metadata": {
    "slideshow": {
     "slide_type": "subslide"
    }
   },
   "outputs": [
    {
     "ename": "TypeError",
     "evalue": "'tuple' object does not support item assignment",
     "output_type": "error",
     "traceback": [
      "\u001b[1;31m---------------------------------------------------------------------------\u001b[0m",
      "\u001b[1;31mTypeError\u001b[0m                                 Traceback (most recent call last)",
      "\u001b[1;32m~\\AppData\\Local\\Temp\\ipykernel_3892\\1383539322.py\u001b[0m in \u001b[0;36m<module>\u001b[1;34m\u001b[0m\n\u001b[1;32m----> 1\u001b[1;33m \u001b[0mtupla_dias\u001b[0m\u001b[1;33m[\u001b[0m\u001b[1;36m0\u001b[0m\u001b[1;33m]\u001b[0m\u001b[1;33m=\u001b[0m\u001b[1;34m'dom'\u001b[0m\u001b[1;33m\u001b[0m\u001b[1;33m\u001b[0m\u001b[0m\n\u001b[0m",
      "\u001b[1;31mTypeError\u001b[0m: 'tuple' object does not support item assignment"
     ]
    }
   ],
   "source": [
    "tupla_dias[0]='dom'"
   ]
  },
  {
   "cell_type": "code",
   "execution_count": 44,
   "id": "5b6a3799",
   "metadata": {
    "slideshow": {
     "slide_type": "subslide"
    }
   },
   "outputs": [
    {
     "name": "stdout",
     "output_type": "stream",
     "text": [
      "domingo\n",
      "dom\n",
      "['dom', 'segunda', 'terça', 'quarta', 'quinta', 'sexta', 'sabado', 'sabado2']\n"
     ]
    }
   ],
   "source": [
    "print(lista_dias[0])\n",
    "lista_dias[0] = 'dom'\n",
    "print(lista_dias[0])\n",
    "print(lista_dias)"
   ]
  },
  {
   "cell_type": "markdown",
   "id": "46cb3024",
   "metadata": {
    "slideshow": {
     "slide_type": "slide"
    }
   },
   "source": [
    "# Range \n",
    "\n",
    "O range é um tipo de sequência imutável de números, sendo comumente usado para looping de um número específico de vezes em um comando for já que representam um intervalo. \n",
    "\n",
    "> **O comando `range` gera um valor contendo números inteiros sequenciais, obedecendo a sintaxe: **\n",
    "```python\n",
    "range(inicio, fim)\n",
    "```\n",
    "> **O número finalizador, o fim, não é incluído na sequência.** \n",
    "\n",
    "Vejamos um exemplo: "
   ]
  },
  {
   "cell_type": "code",
   "execution_count": 45,
   "id": "16be5c7f",
   "metadata": {
    "slideshow": {
     "slide_type": "subslide"
    }
   },
   "outputs": [
    {
     "name": "stdout",
     "output_type": "stream",
     "text": [
      "range(1, 3)\n"
     ]
    }
   ],
   "source": [
    "sequencia = range(1, 3) \n",
    "print(sequencia) "
   ]
  },
  {
   "cell_type": "markdown",
   "id": "d504726c",
   "metadata": {
    "slideshow": {
     "slide_type": "fragment"
    }
   },
   "source": [
    "O range não imprime os elementos da sequência, ele apenas armazena seu início e seu final. Para imprimir seus elementos precisamos de um laço `for` :"
   ]
  },
  {
   "cell_type": "code",
   "execution_count": 46,
   "id": "87ff7679",
   "metadata": {
    "slideshow": {
     "slide_type": "fragment"
    }
   },
   "outputs": [
    {
     "name": "stdout",
     "output_type": "stream",
     "text": [
      "1\n",
      "2\n"
     ]
    }
   ],
   "source": [
    "for valor in range(1, 3):\n",
    "    print(valor)"
   ]
  },
  {
   "cell_type": "markdown",
   "id": "eda39aab",
   "metadata": {
    "slideshow": {
     "slide_type": "fragment"
    }
   },
   "source": [
    "Observe que ele não inclui o segundo parâmetro da função range na sequência. Outra característica deste comando é a de poder controlar o passo da sequência adicionando um terceiro parâmetro, isto é, a variação entre um número e o seu sucessor"
   ]
  },
  {
   "cell_type": "code",
   "execution_count": 52,
   "id": "1d02ed22",
   "metadata": {
    "slideshow": {
     "slide_type": "fragment"
    }
   },
   "outputs": [
    {
     "name": "stdout",
     "output_type": "stream",
     "text": [
      "1\n",
      "3\n",
      "5\n",
      "7\n",
      "9\n"
     ]
    }
   ],
   "source": [
    "for valor in range(1, 10, 2): \n",
    "    print(valor)"
   ]
  },
  {
   "cell_type": "markdown",
   "id": "a84e1584",
   "metadata": {
    "slideshow": {
     "slide_type": "subslide"
    }
   },
   "source": [
    "Os intervalos (`range`) implementam todas as operações de seqüência comuns, exceto concatenação e repetição (devido ao fato de que objetos de intervalo só podem representar sequências que seguem um padrão estrito e a repetição e a concatenação geralmente violam esse padrão)."
   ]
  },
  {
   "cell_type": "markdown",
   "id": "06e571fa",
   "metadata": {
    "slideshow": {
     "slide_type": "slide"
    }
   },
   "source": [
    "# Conjuntos (`set`)\n",
    "\n",
    "O Python também inclui um tipo de dados para conjuntos. Um conjunto, diferente de uma sequência é uma coleção não ordenada e que não admite elementos duplicados.\n",
    "\n",
    "Chaves ou a função `set()` podem ser usados para criar conjuntos.\n"
   ]
  },
  {
   "cell_type": "code",
   "execution_count": 53,
   "id": "54908636",
   "metadata": {
    "slideshow": {
     "slide_type": "fragment"
    }
   },
   "outputs": [
    {
     "name": "stdout",
     "output_type": "stream",
     "text": [
      "<class 'set'>\n",
      "{'banana', 'uva', 'laranja', 'abacate', 'pera'}\n"
     ]
    }
   ],
   "source": [
    "frutas = {'laranja', 'banana', 'uva', 'pera', 'laranja', 'uva', 'abacate'}\n",
    "print(type(frutas))\n",
    "print(frutas)"
   ]
  },
  {
   "cell_type": "markdown",
   "id": "cc47b464",
   "metadata": {
    "slideshow": {
     "slide_type": "subslide"
    }
   },
   "source": [
    "Usos básicos incluem testes de associação e eliminação de entradas duplicadas. Os objetos de conjunto também suportam operações matemáticas como união, interseção, diferença e diferença simétrica. \n",
    "\n",
    "Podemos transformar um texto em um conjunto com a frunção `set()` e testar os operações:"
   ]
  },
  {
   "cell_type": "code",
   "execution_count": 60,
   "id": "2deb8ca5",
   "metadata": {
    "slideshow": {
     "slide_type": "subslide"
    }
   },
   "outputs": [
    {
     "name": "stdout",
     "output_type": "stream",
     "text": [
      "{'e', 'c', 'b', 't', 'a'}\n",
      "{'c', 'b', 'i', 'x', 'a'}\n"
     ]
    }
   ],
   "source": [
    "a = set('abacate')\n",
    "b = set('abacaxi')\n",
    "print(a)\n",
    "print(b)"
   ]
  },
  {
   "cell_type": "code",
   "execution_count": 61,
   "id": "d9627ec6",
   "metadata": {
    "slideshow": {
     "slide_type": "fragment"
    }
   },
   "outputs": [
    {
     "name": "stdout",
     "output_type": "stream",
     "text": [
      "['a', 'b', 'a', 'c', 'a', 't', 'e']\n",
      "['a', 'b', 'a', 'c', 'a', 'x', 'i']\n"
     ]
    }
   ],
   "source": [
    "c = list('abacate')\n",
    "d = list('abacaxi')\n",
    "print(c)\n",
    "print(d)"
   ]
  },
  {
   "cell_type": "code",
   "execution_count": 62,
   "id": "3ce364b1",
   "metadata": {
    "slideshow": {
     "slide_type": "subslide"
    }
   },
   "outputs": [
    {
     "data": {
      "text/plain": [
       "{'e', 't'}"
      ]
     },
     "execution_count": 62,
     "metadata": {},
     "output_type": "execute_result"
    }
   ],
   "source": [
    "a - b # diferença"
   ]
  },
  {
   "cell_type": "code",
   "execution_count": 63,
   "id": "cc9bc123",
   "metadata": {
    "slideshow": {
     "slide_type": "fragment"
    }
   },
   "outputs": [
    {
     "data": {
      "text/plain": [
       "{'a', 'b', 'c', 'e', 'i', 't', 'x'}"
      ]
     },
     "execution_count": 63,
     "metadata": {},
     "output_type": "execute_result"
    }
   ],
   "source": [
    "a | b # união"
   ]
  },
  {
   "cell_type": "code",
   "execution_count": 64,
   "id": "c2f31851",
   "metadata": {
    "slideshow": {
     "slide_type": "fragment"
    }
   },
   "outputs": [
    {
     "data": {
      "text/plain": [
       "{'a', 'b', 'c'}"
      ]
     },
     "execution_count": 64,
     "metadata": {},
     "output_type": "execute_result"
    }
   ],
   "source": [
    "a & b # interseção"
   ]
  },
  {
   "cell_type": "markdown",
   "id": "03a4f05b",
   "metadata": {
    "slideshow": {
     "slide_type": "subslide"
    }
   },
   "source": [
    "# Observe isto:"
   ]
  },
  {
   "cell_type": "code",
   "execution_count": 65,
   "id": "b286c70f",
   "metadata": {
    "slideshow": {
     "slide_type": "subslide"
    }
   },
   "outputs": [
    {
     "name": "stdout",
     "output_type": "stream",
     "text": [
      "['domingo', 'segunda', 'terça', 'quarta', 'quinta', 'sexta', 'sabado', 'sabado']\n"
     ]
    }
   ],
   "source": [
    "lista = ['domingo', 'segunda', 'terça', 'quarta', 'quinta', 'sexta', 'sabado', 'sabado']\n",
    "print(lista)"
   ]
  },
  {
   "cell_type": "code",
   "execution_count": 66,
   "id": "d1afa4ca",
   "metadata": {
    "slideshow": {
     "slide_type": "subslide"
    }
   },
   "outputs": [
    {
     "name": "stdout",
     "output_type": "stream",
     "text": [
      "{'sexta', 'sabado', 'segunda', 'quinta', 'terça', 'quarta', 'domingo'}\n"
     ]
    }
   ],
   "source": [
    "conjunto = set(lista)\n",
    "print(conjunto)"
   ]
  },
  {
   "cell_type": "markdown",
   "id": "41bdcac5",
   "metadata": {
    "slideshow": {
     "slide_type": "subslide"
    }
   },
   "source": [
    "# Dicionários\n",
    "Vimos que `list` , `tuple` , `range` e `str` são **sequências ordenada**s de objetos, e `sets` são **coleções de elementos não ordenados**. \n",
    "\n",
    "Dicionário é outra estrutura de dados em Python e seus elementos, sendo estruturadas de forma não ordenada assim como os conjuntos. Ainda assim, essa não é a principal diferença com as listas. \n",
    "\n",
    "Os dicionários são estruturas poderosas e muito utilizadas, já que podemos acessar seus elementos através de **chaves** e não por sua posição. Em outras linguagens, este tipo é conhecido como \"matrizes associativas\"."
   ]
  },
  {
   "cell_type": "markdown",
   "id": "c7a3c049",
   "metadata": {
    "slideshow": {
     "slide_type": "subslide"
    }
   },
   "source": [
    "Qualquer chave de um dicionário é associada (ou mapeada) a um valor. Os valores podem ser qualquer tipo de dado do Python. Portanto, os dicionários são pares de chave-valor não ordenados.\n",
    "\n",
    "Os dicionários pertencem ao tipo de mapeamento integrado e não sequenciais como as listas, tuplas e strings. Vamos ver como isso funciona no código e criar um dicionário com dados de uma pessoa:"
   ]
  },
  {
   "cell_type": "code",
   "execution_count": 67,
   "id": "24d5991a",
   "metadata": {
    "slideshow": {
     "slide_type": "fragment"
    }
   },
   "outputs": [
    {
     "name": "stdout",
     "output_type": "stream",
     "text": [
      "{'nome': 'João', 'idade': 25, 'cidade': 'São Paulo'}\n"
     ]
    }
   ],
   "source": [
    "pessoa = {'nome': 'João', 'idade': 25, 'cidade': 'São Paulo'}\n",
    "print(pessoa)"
   ]
  },
  {
   "cell_type": "markdown",
   "id": "40a8e7f5",
   "metadata": {
    "slideshow": {
     "slide_type": "subslide"
    }
   },
   "source": [
    "Os dicionários são delimitados por chaves ({}) e suas keys ou chaves ('nome', 'idade' e 'cidade') por aspas. Já os valores podem ser de qualquer tipo. No exemplo acima, temos duas `strings` e um `int` . O que será que acontece se tentarmos acessar seu primeiro elemento?"
   ]
  },
  {
   "cell_type": "code",
   "execution_count": 68,
   "id": "dc4a12c3",
   "metadata": {
    "slideshow": {
     "slide_type": "fragment"
    }
   },
   "outputs": [
    {
     "ename": "KeyError",
     "evalue": "0",
     "output_type": "error",
     "traceback": [
      "\u001b[1;31m---------------------------------------------------------------------------\u001b[0m",
      "\u001b[1;31mKeyError\u001b[0m                                  Traceback (most recent call last)",
      "\u001b[1;32m~\\AppData\\Local\\Temp\\ipykernel_3892\\3935238629.py\u001b[0m in \u001b[0;36m<module>\u001b[1;34m\u001b[0m\n\u001b[1;32m----> 1\u001b[1;33m \u001b[0mpessoa\u001b[0m\u001b[1;33m[\u001b[0m\u001b[1;36m0\u001b[0m\u001b[1;33m]\u001b[0m\u001b[1;33m\u001b[0m\u001b[1;33m\u001b[0m\u001b[0m\n\u001b[0m",
      "\u001b[1;31mKeyError\u001b[0m: 0"
     ]
    }
   ],
   "source": [
    "pessoa[0]"
   ]
  },
  {
   "cell_type": "code",
   "execution_count": 69,
   "id": "a76ad273",
   "metadata": {
    "slideshow": {
     "slide_type": "subslide"
    }
   },
   "outputs": [
    {
     "name": "stdout",
     "output_type": "stream",
     "text": [
      "João\n",
      "25\n",
      "São Paulo\n"
     ]
    }
   ],
   "source": [
    "# Agora do Jeito certo!\n",
    "print(pessoa['nome'])\n",
    "print(pessoa['idade'])\n",
    "print(pessoa['cidade'])"
   ]
  },
  {
   "cell_type": "markdown",
   "id": "ac53d58c",
   "metadata": {
    "slideshow": {
     "slide_type": "subslide"
    }
   },
   "source": [
    "Se precisarmos adicionar algum elemento, como por exemplo, o país, basta fazermos:"
   ]
  },
  {
   "cell_type": "code",
   "execution_count": 70,
   "id": "4f076093",
   "metadata": {
    "slideshow": {
     "slide_type": "fragment"
    }
   },
   "outputs": [
    {
     "name": "stdout",
     "output_type": "stream",
     "text": [
      "{'nome': 'João', 'idade': 25, 'cidade': 'São Paulo', 'pais': 'Brasil'}\n"
     ]
    }
   ],
   "source": [
    "pessoa['pais']='Brasil'\n",
    "print(pessoa)"
   ]
  },
  {
   "cell_type": "code",
   "execution_count": 71,
   "id": "e64fae74",
   "metadata": {
    "slideshow": {
     "slide_type": "fragment"
    }
   },
   "outputs": [
    {
     "name": "stdout",
     "output_type": "stream",
     "text": [
      "João\n",
      "25\n",
      "São Paulo\n",
      "Brasil\n"
     ]
    }
   ],
   "source": [
    "print(pessoa['nome'])\n",
    "print(pessoa['idade'])\n",
    "print(pessoa['cidade'])\n",
    "print(pessoa['pais'])"
   ]
  },
  {
   "cell_type": "markdown",
   "id": "fb2d3d34",
   "metadata": {
    "slideshow": {
     "slide_type": "subslide"
    }
   },
   "source": [
    "Como sempre acessamos seus elementos através de chaves, o dicionário possui um método chamado `keys()` que devolve o conjunto de suas chaves. Assim como um método chamado `values()` que retorna seus valores:"
   ]
  },
  {
   "cell_type": "code",
   "execution_count": 73,
   "id": "38471eb3",
   "metadata": {
    "slideshow": {
     "slide_type": "fragment"
    }
   },
   "outputs": [
    {
     "data": {
      "text/plain": [
       "dict_keys(['nome', 'idade', 'cidade', 'pais'])"
      ]
     },
     "execution_count": 73,
     "metadata": {},
     "output_type": "execute_result"
    }
   ],
   "source": [
    "pessoa.keys()"
   ]
  },
  {
   "cell_type": "code",
   "execution_count": 75,
   "id": "922e88ed",
   "metadata": {
    "slideshow": {
     "slide_type": "fragment"
    }
   },
   "outputs": [
    {
     "data": {
      "text/plain": [
       "dict_values(['João', 25, 'São Paulo', 'Brasil'])"
      ]
     },
     "execution_count": 75,
     "metadata": {},
     "output_type": "execute_result"
    }
   ],
   "source": [
    "pessoa.values()"
   ]
  },
  {
   "cell_type": "markdown",
   "id": "2f042dbe",
   "metadata": {
    "slideshow": {
     "slide_type": "subslide"
    }
   },
   "source": [
    "Também podemos criar dicionários utilizando a função `dict()`"
   ]
  },
  {
   "cell_type": "code",
   "execution_count": 72,
   "id": "252ae005",
   "metadata": {
    "slideshow": {
     "slide_type": "fragment"
    }
   },
   "outputs": [
    {
     "data": {
      "text/plain": [
       "{'um': 1, 'dois': 2, 'três': 3}"
      ]
     },
     "execution_count": 72,
     "metadata": {},
     "output_type": "execute_result"
    }
   ],
   "source": [
    "a = dict(um=1,dois=2,três=3)\n",
    "a"
   ]
  },
  {
   "cell_type": "markdown",
   "id": "be54713e",
   "metadata": {
    "slideshow": {
     "slide_type": "slide"
    }
   },
   "source": [
    "# Um novo desafio \n",
    "Dada a `lista = [12, -2, 4, 8', 29, 45, 78, 36, -17, 2, 12, 8, 3, 3, -52]` faça um programa que':    \n",
    "a) imprima o maior elemento    \n",
    "b) imprima o menor elemento    \n",
    "c) imprima os números pares    \n",
    "d) imprima o número de ocorrências do primeiro elemento da lista    \n",
    "e) imprima a média dos elementos    \n",
    "f) imprima a soma dos elementos de valor negativo   "
   ]
  },
  {
   "cell_type": "code",
   "execution_count": 73,
   "id": "d3fb8dfe",
   "metadata": {
    "slideshow": {
     "slide_type": "subslide"
    }
   },
   "outputs": [
    {
     "name": "stdout",
     "output_type": "stream",
     "text": [
      "O maior valor é 78\n",
      "O menor valor é -52\n"
     ]
    }
   ],
   "source": [
    "# Cria a lista \n",
    "lista = [12, -2, 4, 8, 29, 45, 78, 36, -17, 2, 12, 8, 3, 3, -52]\n",
    "# a) imprima o maior elemento\n",
    "print(f'O maior valor é {max(lista)}')\n",
    "# b) imprima o menor elemento\n",
    "print(f'O menor valor é {min(lista)}')"
   ]
  },
  {
   "cell_type": "code",
   "execution_count": 75,
   "id": "8dada776",
   "metadata": {
    "slideshow": {
     "slide_type": "subslide"
    }
   },
   "outputs": [
    {
     "name": "stdout",
     "output_type": "stream",
     "text": [
      "0\n",
      "1\n"
     ]
    }
   ],
   "source": [
    "# lembra do operador módulo, ele retorna o resto de uma divisão, um numero par dividido por 2 sempre tem resto 0\n",
    "print(12%2)\n",
    "print(13%2)"
   ]
  },
  {
   "cell_type": "code",
   "execution_count": 76,
   "id": "cf5a8cc4",
   "metadata": {
    "slideshow": {
     "slide_type": "subslide"
    }
   },
   "outputs": [
    {
     "name": "stdout",
     "output_type": "stream",
     "text": [
      "o número 12 é um número par\n",
      "o número -2 é um número par\n",
      "o número 4 é um número par\n",
      "o número 8 é um número par\n",
      "o número 78 é um número par\n",
      "o número 36 é um número par\n",
      "o número 2 é um número par\n",
      "o número 12 é um número par\n",
      "o número 8 é um número par\n",
      "o número -52 é um número par\n"
     ]
    }
   ],
   "source": [
    "# c) imprima os números pares\n",
    "# Loop para percorrer a lista\n",
    "for item in lista:\n",
    "# verificando se resto da divisão com do item por 2 é 0 com o operador módulo %\n",
    "    e_par = item%2==0 \n",
    "    if e_par: # se o resultado for verdadeiro executa estas funções\n",
    "        print(f'o número {item} é um número par') # imprimindo o item par\n"
   ]
  },
  {
   "cell_type": "code",
   "execution_count": 77,
   "id": "95d8006c",
   "metadata": {
    "slideshow": {
     "slide_type": "subslide"
    }
   },
   "outputs": [
    {
     "name": "stdout",
     "output_type": "stream",
     "text": [
      "o primeiro número da lista é 12 e número de ocorrências é : 2\n"
     ]
    }
   ],
   "source": [
    "#d) imprima o número de ocorrências do primeiro elemento da lista\n",
    "print(f'o primeiro número da lista é {lista[0]} e número de ocorrências é : {lista.count(lista[0])}')"
   ]
  },
  {
   "cell_type": "markdown",
   "id": "9c0bf9d4",
   "metadata": {
    "slideshow": {
     "slide_type": "subslide"
    }
   },
   "source": [
    "Relembrando a média de um conjunto de números é o resultado da divisão da soma desses número pelo número de elementos formamente temos:\n",
    "$$\n",
    "média = \\frac{\\sum_{i=0}^{N}x_i}{N}\n",
    "$$\n",
    "Onde:\n",
    "- $ X = [x_0,x_1,x_2, \\cdots, x_N]$\n",
    "- $N$ é o númedo de elementos de $X$"
   ]
  },
  {
   "cell_type": "code",
   "execution_count": 78,
   "id": "38b372a7",
   "metadata": {
    "slideshow": {
     "slide_type": "subslide"
    }
   },
   "outputs": [
    {
     "name": "stdout",
     "output_type": "stream",
     "text": [
      "a média dos elementos da lista é : 11.266666666666667\n"
     ]
    }
   ],
   "source": [
    "#e) imprima a média dos elementos\n",
    "print(f'a média dos elementos da lista é : {sum(lista)/len(lista)}')"
   ]
  },
  {
   "cell_type": "code",
   "execution_count": 79,
   "id": "4be84f4b",
   "metadata": {
    "slideshow": {
     "slide_type": "subslide"
    }
   },
   "outputs": [
    {
     "name": "stdout",
     "output_type": "stream",
     "text": [
      "o número -2 é um número negativo\n",
      "o número -17 é um número negativo\n",
      "o número -52 é um número negativo\n",
      "a soma dos elementos negativos da lista é : -71\n"
     ]
    }
   ],
   "source": [
    "# f) imprima a soma dos elementos de valor negativo\n",
    "#criando umalista para armazenar numeros negativos\n",
    "lista_negativos = []\n",
    "# Loop para percorrer a lista\n",
    "for item in lista:\n",
    "# verificando o número é negativo (<0)\n",
    "    e_neg = item<0 \n",
    "    if e_neg: # se o resultado for verdadeiro executa estas funções\n",
    "        print(f'o número {item} é um número negativo') # imprimindo o item negativo\n",
    "        # armazenado o item negativo\n",
    "        lista_negativos.append(item)\n",
    "#fornrcendo a soma da lista de números negativos\n",
    "print(f'a soma dos elementos negativos da lista é : {sum(lista_negativos)}')"
   ]
  },
  {
   "cell_type": "markdown",
   "id": "41afdfe7",
   "metadata": {
    "slideshow": {
     "slide_type": "subslide"
    }
   },
   "source": [
    "# Colocando tudo junto!"
   ]
  },
  {
   "cell_type": "code",
   "execution_count": 80,
   "id": "5284d387",
   "metadata": {
    "slideshow": {
     "slide_type": "subslide"
    }
   },
   "outputs": [
    {
     "name": "stdout",
     "output_type": "stream",
     "text": [
      "+---------------------------------------------------------------+\n",
      "a) imprima o maior elemento\n",
      "+---------------------------------------------------------------+\n",
      "O maior valor é 78\n",
      "+---------------------------------------------------------------+\n",
      "b) imprima o menor elemento\n",
      "+---------------------------------------------------------------+\n",
      "O menor valor é -52\n",
      "+---------------------------------------------------------------+\n",
      "c) imprima os números pares\n",
      "+---------------------------------------------------------------+\n",
      "o número 12 é um número par\n",
      "o número -2 é um número par\n",
      "o número 4 é um número par\n",
      "o número 8 é um número par\n",
      "o número 2 é um número par\n",
      "o número 78 é um número par\n",
      "o número 36 é um número par\n",
      "o número 2 é um número par\n",
      "o número 12 é um número par\n",
      "o número 8 é um número par\n",
      "o número -52 é um número par\n",
      "+---------------------------------------------------------------+\n",
      "d) imprima o número de ocorrências do primeiro elemento da lista\n",
      "+---------------------------------------------------------------+\n",
      "o primeiro número da lista é 12 e número de ocorrências é : 2\n",
      "+------------------------------------------------+\n",
      "e) imprima a média dos elementos\n",
      "+------------------------------------------------+\n",
      "a média dos elementos da lista é : 9.4375\n",
      "+---------------------------------------------------------------+\n",
      "f) imprima a soma dos elementos de valor negativo\n",
      "+---------------------------------------------------------------+\n",
      "o número -2 é um número negativo\n",
      "o número -17 é um número negativo\n",
      "o número -52 é um número negativo\n",
      "a soma dos elementos negativos da lista é : -71\n"
     ]
    }
   ],
   "source": [
    "# Cria a lista \n",
    "lista = [12, -2, 4, 8, 2,9, 45, 78, 36, -17, 2, 12, 8, 3, 3, -52]\n",
    "print('+---------------------------------------------------------------+')\n",
    "print('a) imprima o maior elemento')\n",
    "print('+---------------------------------------------------------------+')\n",
    "print(f'O maior valor é {max(lista)}')\n",
    "print('+---------------------------------------------------------------+')\n",
    "print('b) imprima o menor elemento')\n",
    "print('+---------------------------------------------------------------+')\n",
    "print(f'O menor valor é {min(lista)}')\n",
    "print('+---------------------------------------------------------------+')\n",
    "print('c) imprima os números pares')\n",
    "print('+---------------------------------------------------------------+')\n",
    "# Loop para percorrer a lista\n",
    "for item in lista:\n",
    "# verificando se resto da divisão com do item por 2 é 0 com o operador módulo %\n",
    "    e_par = item%2==0 \n",
    "    if e_par: # se o resultado for verdadeiro executa estas funções\n",
    "        print(f'o número {item} é um número par') # imprimindo o item par\n",
    "print('+---------------------------------------------------------------+')\n",
    "print('d) imprima o número de ocorrências do primeiro elemento da lista')\n",
    "print('+---------------------------------------------------------------+')\n",
    "print(f'o primeiro número da lista é {lista[0]} e número de ocorrências é : {lista.count(lista[0])}')\n",
    "\n",
    "print('+------------------------------------------------+')\n",
    "print('e) imprima a média dos elementos')\n",
    "print('+------------------------------------------------+')\n",
    "print(f'a média dos elementos da lista é : {sum(lista)/len(lista)}')\n",
    "\n",
    "\n",
    "print('+---------------------------------------------------------------+')\n",
    "print('f) imprima a soma dos elementos de valor negativo')\n",
    "print('+---------------------------------------------------------------+')\n",
    "#criando umalista para armazenar numeros negativos\n",
    "lista_negativos = []\n",
    "# Loop para percorrer a lista\n",
    "for item in lista:\n",
    "# verificando o número é negativo (<0)\n",
    "    e_neg = item<0 \n",
    "    if e_neg: # se o resultado for verdadeiro executa estas funções\n",
    "        print(f'o número {item} é um número negativo') # imprimindo o item negativo\n",
    "        # armazenado o item negativo\n",
    "        lista_negativos.append(item)\n",
    "#fornrcendo a soma da lista de números negativos\n",
    "print(f'a soma dos elementos negativos da lista é : {sum(lista_negativos)}')"
   ]
  },
  {
   "cell_type": "markdown",
   "id": "d5b2d030",
   "metadata": {
    "slideshow": {
     "slide_type": "slide"
    }
   },
   "source": [
    "# Desafio \n",
    "\n",
    "Altere esse código para que o usuário faça a entrada de uma lista, inserindo o número de elementos da lista e depois insira cada um dos elementos dela!"
   ]
  },
  {
   "cell_type": "code",
   "execution_count": null,
   "id": "9bbf525e",
   "metadata": {
    "slideshow": {
     "slide_type": "subslide"
    }
   },
   "outputs": [],
   "source": [
    "# código aqui"
   ]
  },
  {
   "cell_type": "markdown",
   "id": "a763da9b",
   "metadata": {
    "slideshow": {
     "slide_type": "slide"
    }
   },
   "source": [
    "# Excelente se você conseguiu chegar aqui sem problemas parabéns 🤩🙌👏\n",
    "\n",
    "🧑‍🎓🧑🏿‍🎓🧑🏻‍🎓🧑🏾‍🎓🧑🏼‍🎓🧑🏽‍🎓\n",
    "\n",
    "Muita coisa nessa terceira conversa!! Nos aprofundamos nos comando `IF - ELSE`e `ELIF` conhecemos os loops com o comando `WHILE` aprendemos um pouco cobre o comando `range()` e começamos a estudar os loops com `for`.  "
   ]
  }
 ],
 "metadata": {
  "celltoolbar": "Slideshow",
  "kernelspec": {
   "display_name": "Python 3 (ipykernel)",
   "language": "python",
   "name": "python3"
  },
  "language_info": {
   "codemirror_mode": {
    "name": "ipython",
    "version": 3
   },
   "file_extension": ".py",
   "mimetype": "text/x-python",
   "name": "python",
   "nbconvert_exporter": "python",
   "pygments_lexer": "ipython3",
   "version": "3.9.13"
  },
  "nbTranslate": {
   "displayLangs": [
    "pt",
    "en"
   ],
   "hotkey": "alt-t",
   "langInMainMenu": true,
   "sourceLang": "en",
   "targetLang": "pt",
   "useGoogleTranslate": true
  }
 },
 "nbformat": 4,
 "nbformat_minor": 5
}
