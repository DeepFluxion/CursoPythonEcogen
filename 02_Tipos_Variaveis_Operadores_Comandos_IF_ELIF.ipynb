{
  "cells": [
    {
      "cell_type": "markdown",
      "metadata": {
        "id": "view-in-github",
        "colab_type": "text"
      },
      "source": [
        "<a href=\"https://colab.research.google.com/github/DeepFluxion/CursoPythonEcogen/blob/main/02_Tipos_Variaveis_Operadores_Comandos_IF_ELIF.ipynb\" target=\"_parent\"><img src=\"https://colab.research.google.com/assets/colab-badge.svg\" alt=\"Open In Colab\"/></a>"
      ]
    },
    {
      "cell_type": "markdown",
      "id": "427f3327",
      "metadata": {
        "id": "427f3327"
      },
      "source": [
        "# Variáveis e Tipos Embutidos 👩🏻‍💻👩🏼‍💻👩🏽‍💻👩🏾‍💻👩🏿‍💻\n",
        "\n",
        "Agora vamos conhecer os tipos da biblioteca padrão do Python. Os principais tipos internos são números, sequências, mapas, classes, objetos e exceções, mas iremos focar primeiramente nos números e sequências de texto (strings). São objetos nativos da linguagem, recursos que já vêm prontos para uso e chamados de built-ins.\n",
        "\n",
        "Neste início da aprendizagem, trabalharemos com o modo interativo, e ao final produziremos uma pequena aplicação em um script."
      ]
    },
    {
      "cell_type": "markdown",
      "id": "375142a2",
      "metadata": {
        "id": "375142a2"
      },
      "source": [
        "Um valor, como um número ou texto, é algo comum em um programa. Por exemplo, `Hello, World!`, `1`, `2`, todos são valores. Estes valores são de diferentes tipos: `1` e `2` são números inteiros e `'Hello World!'` é um texto, também chamado de String.\n",
        "\n",
        "**Podemos identificar strings porque são delimitadas por aspas (simples ou duplas)** - e é exatamente dessa maneira que o interpretador Python também identifica uma string. A função `print()` utilizada no capítulo anterior também trabalha com inteiros:"
      ]
    },
    {
      "cell_type": "code",
      "execution_count": 1,
      "id": "38bdb2b5",
      "metadata": {
        "colab": {
          "base_uri": "https://localhost:8080/"
        },
        "id": "38bdb2b5",
        "outputId": "db812d55-a806-4fdd-bf01-107b557e6af7"
      },
      "outputs": [
        {
          "output_type": "stream",
          "name": "stdout",
          "text": [
            "1\n"
          ]
        }
      ],
      "source": [
        "print(1)"
      ]
    },
    {
      "cell_type": "code",
      "execution_count": 2,
      "id": "caa64775",
      "metadata": {
        "colab": {
          "base_uri": "https://localhost:8080/"
        },
        "id": "caa64775",
        "outputId": "6e1a9089-4cef-4d0d-9042-87310e9c31eb"
      },
      "outputs": [
        {
          "output_type": "stream",
          "name": "stdout",
          "text": [
            "2\n"
          ]
        }
      ],
      "source": [
        "print(2)"
      ]
    },
    {
      "cell_type": "code",
      "execution_count": 3,
      "id": "16c5e083",
      "metadata": {
        "colab": {
          "base_uri": "https://localhost:8080/"
        },
        "id": "16c5e083",
        "outputId": "5cfba336-ff0a-4b14-8afb-4ec12d1eced8"
      },
      "outputs": [
        {
          "output_type": "stream",
          "name": "stdout",
          "text": [
            "Hello, Word!\n"
          ]
        }
      ],
      "source": [
        "print('Hello, Word!')"
      ]
    },
    {
      "cell_type": "markdown",
      "id": "22386cbd",
      "metadata": {
        "id": "22386cbd"
      },
      "source": [
        "🕵🏻‍♂️🕵🏼‍♂️🕵🏽‍♂️🕵🏾‍♂️🕵🏿‍♂️Veja que para `1` e `2` não é necessário utilizar aspas por se tratar de um número. Caso você não tenha certeza qual é o tipo de um valor, pode usar a função `type()` para checar:"
      ]
    },
    {
      "cell_type": "code",
      "execution_count": 4,
      "id": "a5673ac6",
      "metadata": {
        "colab": {
          "base_uri": "https://localhost:8080/"
        },
        "id": "a5673ac6",
        "outputId": "d412d8f7-8944-4d30-a55d-bb2337aabb4c"
      },
      "outputs": [
        {
          "output_type": "execute_result",
          "data": {
            "text/plain": [
              "int"
            ]
          },
          "metadata": {},
          "execution_count": 4
        }
      ],
      "source": [
        "type(1)"
      ]
    },
    {
      "cell_type": "code",
      "execution_count": 5,
      "id": "cf2bdc6a",
      "metadata": {
        "colab": {
          "base_uri": "https://localhost:8080/"
        },
        "id": "cf2bdc6a",
        "outputId": "e666d1ed-5859-4784-a3ab-d14c92e81791"
      },
      "outputs": [
        {
          "output_type": "execute_result",
          "data": {
            "text/plain": [
              "int"
            ]
          },
          "metadata": {},
          "execution_count": 5
        }
      ],
      "source": [
        "type(2)"
      ]
    },
    {
      "cell_type": "code",
      "execution_count": 6,
      "id": "b5011707",
      "metadata": {
        "colab": {
          "base_uri": "https://localhost:8080/"
        },
        "id": "b5011707",
        "outputId": "8db5537b-e641-4b27-be59-b75d3325b97c"
      },
      "outputs": [
        {
          "output_type": "execute_result",
          "data": {
            "text/plain": [
              "str"
            ]
          },
          "metadata": {},
          "execution_count": 6
        }
      ],
      "source": [
        "type('Hello World')"
      ]
    },
    {
      "cell_type": "code",
      "execution_count": 7,
      "id": "36e4fdca",
      "metadata": {
        "colab": {
          "base_uri": "https://localhost:8080/"
        },
        "id": "36e4fdca",
        "outputId": "16fc8e9c-9502-48a5-efab-2449d7d60da4"
      },
      "outputs": [
        {
          "output_type": "execute_result",
          "data": {
            "text/plain": [
              "str"
            ]
          },
          "metadata": {},
          "execution_count": 7
        }
      ],
      "source": [
        "type(\"Hello World\")"
      ]
    },
    {
      "cell_type": "markdown",
      "id": "c9bd3e90",
      "metadata": {
        "id": "c9bd3e90"
      },
      "source": [
        "✒️🖋️✏️🖊️🖍️Strings são do tipo `str` (abreviação para string) e inteiros do tipo `int` (abreviação para integer).\n",
        "\n",
        "Veremos que funções como `type()` e `print()` também são tipos embutidos no Python. Outro tipo que existe no Python são os números decimais que são do tipo `float` (ponto flutuante):"
      ]
    },
    {
      "cell_type": "code",
      "execution_count": 8,
      "id": "3d2ef3bf",
      "metadata": {
        "colab": {
          "base_uri": "https://localhost:8080/"
        },
        "id": "3d2ef3bf",
        "outputId": "8a58aef0-5153-488d-8299-dac45ae2c1a5"
      },
      "outputs": [
        {
          "output_type": "execute_result",
          "data": {
            "text/plain": [
              "float"
            ]
          },
          "metadata": {},
          "execution_count": 8
        }
      ],
      "source": [
        "type(3.2)"
      ]
    },
    {
      "cell_type": "markdown",
      "id": "f0ffc0ea",
      "metadata": {
        "id": "f0ffc0ea"
      },
      "source": [
        "E qual será o tipo de valores como `'2'` e `'3.2'`? Eles se parecem com números mas são delimitados por aspas como strings. Utilize a função `type()` para fazer a verificação:"
      ]
    },
    {
      "cell_type": "code",
      "execution_count": 9,
      "id": "9a500e0b",
      "metadata": {
        "colab": {
          "base_uri": "https://localhost:8080/"
        },
        "id": "9a500e0b",
        "outputId": "3a7bf2ad-2550-43a0-9e50-836da1804c54"
      },
      "outputs": [
        {
          "output_type": "execute_result",
          "data": {
            "text/plain": [
              "str"
            ]
          },
          "metadata": {},
          "execution_count": 9
        }
      ],
      "source": [
        "type('2')"
      ]
    },
    {
      "cell_type": "code",
      "execution_count": 10,
      "id": "fe303bca",
      "metadata": {
        "colab": {
          "base_uri": "https://localhost:8080/"
        },
        "id": "fe303bca",
        "outputId": "3c6eed4a-34a8-45ed-f915-985f62906605"
      },
      "outputs": [
        {
          "output_type": "execute_result",
          "data": {
            "text/plain": [
              "str"
            ]
          },
          "metadata": {},
          "execution_count": 10
        }
      ],
      "source": [
        "type('3.2')"
      ]
    },
    {
      "cell_type": "code",
      "execution_count": 11,
      "id": "a075a406",
      "metadata": {
        "colab": {
          "base_uri": "https://localhost:8080/",
          "height": 141
        },
        "id": "a075a406",
        "outputId": "ab444927-a0c7-4481-872c-9cf52f11edf8"
      },
      "outputs": [
        {
          "output_type": "error",
          "ename": "SyntaxError",
          "evalue": "ignored",
          "traceback": [
            "\u001b[0;36m  File \u001b[0;32m\"<ipython-input-11-8ca383ab4f5c>\"\u001b[0;36m, line \u001b[0;32m1\u001b[0m\n\u001b[0;31m    type(Hello World)\u001b[0m\n\u001b[0m         ^\u001b[0m\n\u001b[0;31mSyntaxError\u001b[0m\u001b[0;31m:\u001b[0m invalid syntax. Perhaps you forgot a comma?\n"
          ]
        }
      ],
      "source": [
        "type(Hello World)"
      ]
    },
    {
      "cell_type": "markdown",
      "id": "917a88a0",
      "metadata": {
        "id": "917a88a0"
      },
      "source": [
        "Como estão delimitados por aspas, o [interpretador do Python]('https://www.youtube.com/watch?v=KSAnIuXExuM') vai entender esses valores como strings, ou seja, como texto."
      ]
    },
    {
      "cell_type": "markdown",
      "id": "f43673e7",
      "metadata": {
        "id": "f43673e7"
      },
      "source": [
        "# Variáveis🦾🦿🦼🔭📡🔬\n",
        "\n",
        "Podemos pedir para o Python lembrar de um valor que queiramos utilizar em outro momento do programa.\n",
        "\n",
        "O Python vai guardar este valor em uma **variável**. Variável é um nome que faz **referência** a um valor.\n",
        "\n",
        ">**É como uma etiqueta 🏷️🔖🏷️🔖que colocamos naquele valor e quando precisarmos usar, chamamos pelo nome que foi dado na etiqueta.🏷️🔖🏷️🔖**\n"
      ]
    },
    {
      "cell_type": "markdown",
      "id": "90d8d382",
      "metadata": {
        "id": "90d8d382"
      },
      "source": [
        "🏷️⬅️🅰️ Um comando de atribuição (o sinal de igualdade `=` ) cria uma nova variável e atribui um valor a ela:\n",
        "```python\n",
        "🏷️mensagem =⬅️ 'oi, python'🅰️\n",
        "🏷️numero =⬅️ 5 🅰️\n",
        "🏷️pi =⬅️ 3.14 🅰️\n",
        "```"
      ]
    },
    {
      "cell_type": "code",
      "execution_count": 12,
      "id": "76ac454c",
      "metadata": {
        "id": "76ac454c"
      },
      "outputs": [],
      "source": [
        "mensagem = 'oi, python🐍'\n",
        "numero = 5\n",
        "pi = 3.14"
      ]
    },
    {
      "cell_type": "markdown",
      "id": "b32a993f",
      "metadata": {
        "id": "b32a993f"
      },
      "source": [
        "Três atribuições foram feitas neste código. Atribuímos a variável `mensagem` uma string; a variável `numero` um inteiro e a variável `pi` um valor aproximado do número pi.\n",
        "\n",
        "No modo interativo, o interpretador mostra o resultado após cada atribuição. Para recuperar esses valores, basta chamar pelos nomes das variáveis definidas anteriormente:"
      ]
    },
    {
      "cell_type": "code",
      "execution_count": 13,
      "id": "107fb41f",
      "metadata": {
        "colab": {
          "base_uri": "https://localhost:8080/",
          "height": 35
        },
        "id": "107fb41f",
        "outputId": "a2dc67c5-87d8-41be-932e-70c9a0d5c909"
      },
      "outputs": [
        {
          "output_type": "execute_result",
          "data": {
            "text/plain": [
              "'oi, python🐍'"
            ],
            "application/vnd.google.colaboratory.intrinsic+json": {
              "type": "string"
            }
          },
          "metadata": {},
          "execution_count": 13
        }
      ],
      "source": [
        "mensagem"
      ]
    },
    {
      "cell_type": "code",
      "execution_count": 14,
      "id": "6c034eca",
      "metadata": {
        "colab": {
          "base_uri": "https://localhost:8080/"
        },
        "id": "6c034eca",
        "outputId": "87c7e9af-bbb1-450e-adb7-4c913417cb2b"
      },
      "outputs": [
        {
          "output_type": "execute_result",
          "data": {
            "text/plain": [
              "5"
            ]
          },
          "metadata": {},
          "execution_count": 14
        }
      ],
      "source": [
        "numero"
      ]
    },
    {
      "cell_type": "code",
      "execution_count": 15,
      "id": "4439de82",
      "metadata": {
        "colab": {
          "base_uri": "https://localhost:8080/"
        },
        "id": "4439de82",
        "outputId": "bf43e0cb-bf1b-4653-ea88-b5f530846bde"
      },
      "outputs": [
        {
          "output_type": "execute_result",
          "data": {
            "text/plain": [
              "3.14"
            ]
          },
          "metadata": {},
          "execution_count": 15
        }
      ],
      "source": [
        "pi"
      ]
    },
    {
      "cell_type": "markdown",
      "id": "4a2d20ae",
      "metadata": {
        "id": "4a2d20ae"
      },
      "source": [
        "Utilize a função `type()` para verificar seus tipos:\n",
        "```python\n",
        "type(mensagem)\n",
        "type(numero)\n",
        "type(pi)\n",
        "```"
      ]
    },
    {
      "cell_type": "code",
      "execution_count": 16,
      "id": "cc1a5c2a",
      "metadata": {
        "colab": {
          "base_uri": "https://localhost:8080/"
        },
        "id": "cc1a5c2a",
        "outputId": "9e4bfc8d-9499-4f79-b010-9596e9cbf8c5"
      },
      "outputs": [
        {
          "output_type": "stream",
          "name": "stdout",
          "text": [
            "<class 'str'>\n",
            "<class 'int'>\n",
            "<class 'float'>\n"
          ]
        }
      ],
      "source": [
        "# verifique aqui os tipos\n",
        "\n",
        "print(type(mensagem))\n",
        "print(type(numero))\n",
        "print(type(pi))\n"
      ]
    },
    {
      "cell_type": "markdown",
      "id": "327bf448",
      "metadata": {
        "id": "327bf448"
      },
      "source": [
        "# Nomes de Variáveis 🐍🔎🔎🔎\n",
        "\n",
        "Programadores escolhem **nomes para variáveis** que sejam **semânticos** e que ao mesmo tempo **documentem o código**. Esses nomes podem ser bem longos, podem conter letras e números.\n",
        "\n",
        "É uma convenção entre os programadores Python começar a variável com letras minúsculas e utilizar o underscore ( _ ) para separar palavras como: `meu_nome`, `numero_de_cadastro`, `telefone_residencial`.\n",
        "Esse padrão é chamado de **snake case**.\n",
        "\n",
        "Variáveis também podem começar com underscore ( _ ) mas deve ser evitado e utilizado em casos mais específicos. Se nomearmos nossas variáveis com um nome ilegal, o interpretador vai acusar um erro de sintaxe:"
      ]
    },
    {
      "cell_type": "code",
      "execution_count": 17,
      "id": "0d4a3c8d",
      "metadata": {
        "colab": {
          "base_uri": "https://localhost:8080/",
          "height": 141
        },
        "id": "0d4a3c8d",
        "outputId": "ee4a0212-f964-40f7-e4cb-67f0a0487e5c"
      },
      "outputs": [
        {
          "output_type": "error",
          "ename": "SyntaxError",
          "evalue": "ignored",
          "traceback": [
            "\u001b[0;36m  File \u001b[0;32m\"<ipython-input-17-8fbf231ca547>\"\u001b[0;36m, line \u001b[0;32m1\u001b[0m\n\u001b[0;31m    1nome = 'python'\u001b[0m\n\u001b[0m    ^\u001b[0m\n\u001b[0;31mSyntaxError\u001b[0m\u001b[0;31m:\u001b[0m invalid decimal literal\n"
          ]
        }
      ],
      "source": [
        "1nome = 'python'"
      ]
    },
    {
      "cell_type": "code",
      "execution_count": 18,
      "id": "7a5ec718",
      "metadata": {
        "colab": {
          "base_uri": "https://localhost:8080/",
          "height": 141
        },
        "id": "7a5ec718",
        "outputId": "4ce49bce-60b8-435d-81f7-50228105b244"
      },
      "outputs": [
        {
          "output_type": "error",
          "ename": "SyntaxError",
          "evalue": "ignored",
          "traceback": [
            "\u001b[0;36m  File \u001b[0;32m\"<ipython-input-18-dbfaa18fcdea>\"\u001b[0;36m, line \u001b[0;32m1\u001b[0m\n\u001b[0;31m    numero@\t=10\u001b[0m\n\u001b[0m           \t^\u001b[0m\n\u001b[0;31mSyntaxError\u001b[0m\u001b[0;31m:\u001b[0m invalid syntax\n"
          ]
        }
      ],
      "source": [
        "numero@\t=10"
      ]
    },
    {
      "cell_type": "code",
      "execution_count": 19,
      "id": "c88278a3",
      "metadata": {
        "colab": {
          "base_uri": "https://localhost:8080/",
          "height": 141
        },
        "id": "c88278a3",
        "outputId": "2a129394-7ab0-453e-8d9a-5941a86c0af1"
      },
      "outputs": [
        {
          "output_type": "error",
          "ename": "SyntaxError",
          "evalue": "ignored",
          "traceback": [
            "\u001b[0;36m  File \u001b[0;32m\"<ipython-input-19-1298854a8619>\"\u001b[0;36m, line \u001b[0;32m1\u001b[0m\n\u001b[0;31m    class='oi'\u001b[0m\n\u001b[0m         ^\u001b[0m\n\u001b[0;31mSyntaxError\u001b[0m\u001b[0;31m:\u001b[0m invalid syntax\n"
          ]
        }
      ],
      "source": [
        "class='oi'"
      ]
    },
    {
      "cell_type": "markdown",
      "id": "b675b094",
      "metadata": {
        "id": "b675b094"
      },
      "source": [
        "🐍🔎🔎🔎\n",
        "- `1nome` é ilegal porque começa com um número,\n",
        "- `numero@` é ilegal porque contém um caractere especial (o `@`) considerado ilegal para variáveis.\n",
        "- E `class` é ilegal porque `class` é uma **palavra chave** em Python.\n",
        "- O interpretador utiliza palavras chaves como palavras reservadas da linguagem, como um vocabulário próprio."
      ]
    },
    {
      "cell_type": "markdown",
      "id": "c223cc0e",
      "metadata": {
        "id": "c223cc0e"
      },
      "source": [
        "🐍🔎🔎🔎\n",
        "* Palavras reservadas do python:\n",
        "```python\n",
        "False      await      else       import     pass\n",
        "None       break      except     in         raise\n",
        "True       class      finally    is         return\n",
        "and        continue   for        lambda     try\n",
        "as         def        from       nonlocal   while\n",
        "assert     del        global     not        with\n",
        "async      elif       if         or         yield\n",
        "```"
      ]
    },
    {
      "cell_type": "markdown",
      "id": "0e509a0f",
      "metadata": {
        "id": "0e509a0f"
      },
      "source": [
        "Uma instrução (ou comando) é uma unidade de código que o Python pode executar. Por exemplo, a função `print()` para imprimir uma mensagem na tela é um comando:\n",
        "```python\n",
        ">>> print(\"Hello, World!\")\n",
        "Hello, World!\n",
        "```"
      ]
    },
    {
      "cell_type": "code",
      "execution_count": 20,
      "id": "4401804f",
      "metadata": {
        "colab": {
          "base_uri": "https://localhost:8080/"
        },
        "id": "4401804f",
        "outputId": "7e2a9e3d-912c-44af-bf9e-995969776216"
      },
      "outputs": [
        {
          "output_type": "execute_result",
          "data": {
            "text/plain": [
              "2"
            ]
          },
          "metadata": {},
          "execution_count": 20
        }
      ],
      "source": [
        "# Faça um teste gerar uma saída de x e y\n",
        "x=1\n",
        "y=2\n",
        "x\n",
        "y"
      ]
    },
    {
      "cell_type": "code",
      "execution_count": 21,
      "id": "00e065d8",
      "metadata": {
        "colab": {
          "base_uri": "https://localhost:8080/"
        },
        "id": "00e065d8",
        "outputId": "4c96caed-c0f5-4776-ac32-e88f889b6a52"
      },
      "outputs": [
        {
          "output_type": "stream",
          "name": "stdout",
          "text": [
            "1\n",
            "2\n"
          ]
        }
      ],
      "source": [
        "# tente novamente agora do jeto certo!\n",
        "x=1\n",
        "y=2\n",
        "print(x)\n",
        "print(y)"
      ]
    },
    {
      "cell_type": "markdown",
      "id": "7f6c53f3",
      "metadata": {
        "id": "7f6c53f3"
      },
      "source": [
        "## Operadores Aritiméticos\n",
        "✅☑️✔️✖️❌❎➕➖➗✳️✴️🔢   \n",
        "Operadores são símbolos especiais que representam cálculos como adições e multiplicações. Para fazer cálculos com números utilizamos os operadores `+`, `-`, `*`, `/` e `**` que representam, respectivamente, adição, subtração, multiplicação, divisão e potenciação."
      ]
    },
    {
      "cell_type": "markdown",
      "id": "fbfb02c7",
      "metadata": {
        "id": "fbfb02c7"
      },
      "source": [
        "# Operadores Aritiméticos ✅☑️✔️✖️❌❎➕➖➗✳️✴️🔢\n",
        "\n",
        "| **Operação**  | **Nome**     | **Descrição**        |\n",
        "|-----------|------------------|------------------------------|\n",
        "| a + b     | adição           | Soma entre a e b             |\n",
        "| a - b     | subtração        | Diferença entre a e b        |\n",
        "|  a * b    | multiplicação    | Produto entre a e b          |\n",
        "| a / b     | divisão          | Divisão entre a e b          |\n",
        "| a // b    | divisão inteira  | Divisão inteira entre a e b  |\n",
        "| a % b     | módulo           | Resto da divisão entre a e b |\n",
        "| a ** b    | exponenciação    | a elevado a potência de b    |"
      ]
    },
    {
      "cell_type": "markdown",
      "id": "9b6ef31e",
      "metadata": {
        "id": "9b6ef31e"
      },
      "source": [
        "# Agora é com você  💣🕳️🤸🏻‍♂️🤸🏼‍♂️🤸🏽‍♂️🤸🏾‍♂️🤸🏿‍♂️\n",
        "Dados a = 5 e b = 2 encontre os valores de (usando o Python):\n",
        "- $a + b$\n",
        "- $a - b$\n",
        "- $a \\times b$\n",
        "- $\\frac{a}{b}$\n",
        "- O resto de $\\frac{a}{b}$\n",
        "- A parte inteira de $\\frac{a}{b}$\n",
        "- $a^b$"
      ]
    },
    {
      "cell_type": "code",
      "execution_count": null,
      "id": "bac5cf00",
      "metadata": {
        "id": "bac5cf00"
      },
      "outputs": [],
      "source": [
        "# Faça a atribuição\n",
        "\n"
      ]
    },
    {
      "cell_type": "code",
      "execution_count": null,
      "id": "2fa6fd1e",
      "metadata": {
        "id": "2fa6fd1e",
        "outputId": "4fa5aefb-1393-4d21-b20a-197198125fbc"
      },
      "outputs": [
        {
          "data": {
            "text/plain": [
              "7"
            ]
          },
          "execution_count": 119,
          "metadata": {},
          "output_type": "execute_result"
        }
      ],
      "source": [
        "# Soma\n",
        "\n"
      ]
    },
    {
      "cell_type": "code",
      "execution_count": null,
      "id": "955450a4",
      "metadata": {
        "id": "955450a4",
        "outputId": "fc6bf2d5-6cfe-40d4-8125-dbc2661e2f36"
      },
      "outputs": [
        {
          "data": {
            "text/plain": [
              "-3"
            ]
          },
          "execution_count": 120,
          "metadata": {},
          "output_type": "execute_result"
        }
      ],
      "source": [
        "# Subtração\n",
        "b-a"
      ]
    },
    {
      "cell_type": "code",
      "execution_count": null,
      "id": "877287a1",
      "metadata": {
        "id": "877287a1",
        "outputId": "8847e48d-500e-4d03-b3b1-1611431344d9"
      },
      "outputs": [
        {
          "data": {
            "text/plain": [
              "10"
            ]
          },
          "execution_count": 121,
          "metadata": {},
          "output_type": "execute_result"
        }
      ],
      "source": [
        "# Multiplicação\n",
        "\n"
      ]
    },
    {
      "cell_type": "code",
      "execution_count": null,
      "id": "84ed8892",
      "metadata": {
        "id": "84ed8892",
        "outputId": "91ccc6c6-9181-4f79-cc63-1bc3bd7c7b46"
      },
      "outputs": [
        {
          "data": {
            "text/plain": [
              "2.5"
            ]
          },
          "execution_count": 122,
          "metadata": {},
          "output_type": "execute_result"
        }
      ],
      "source": [
        "# Divisão\n",
        "\n"
      ]
    },
    {
      "cell_type": "code",
      "execution_count": null,
      "id": "0f1995be",
      "metadata": {
        "id": "0f1995be",
        "outputId": "3f9336b1-b408-438a-8f5c-8698c4c30524"
      },
      "outputs": [
        {
          "data": {
            "text/plain": [
              "1.0"
            ]
          },
          "execution_count": 123,
          "metadata": {},
          "output_type": "execute_result"
        }
      ],
      "source": [
        "# resto da divisão\n",
        "\n"
      ]
    },
    {
      "cell_type": "code",
      "execution_count": null,
      "id": "ce0cb59b",
      "metadata": {
        "id": "ce0cb59b",
        "outputId": "542f813f-cffb-4edc-e7d7-4fd393ba4d2e"
      },
      "outputs": [
        {
          "data": {
            "text/plain": [
              "2"
            ]
          },
          "execution_count": 31,
          "metadata": {},
          "output_type": "execute_result"
        }
      ],
      "source": [
        "# parte inteira da divisão\n",
        "\n"
      ]
    },
    {
      "cell_type": "code",
      "execution_count": null,
      "id": "23636492",
      "metadata": {
        "id": "23636492",
        "outputId": "f420c24d-de8b-43d6-adbb-3a91ead69736"
      },
      "outputs": [
        {
          "data": {
            "text/plain": [
              "25"
            ]
          },
          "execution_count": 32,
          "metadata": {},
          "output_type": "execute_result"
        }
      ],
      "source": [
        "# exponenciação\n",
        "\n"
      ]
    },
    {
      "cell_type": "markdown",
      "id": "444dc2b6",
      "metadata": {
        "id": "444dc2b6"
      },
      "source": [
        "O operador `+` também funciona com strings de uma maneira diferente dos números. Ele funciona concatenando strings, ou seja, juntando duas strings:"
      ]
    },
    {
      "cell_type": "code",
      "execution_count": 22,
      "id": "406b62eb",
      "metadata": {
        "colab": {
          "base_uri": "https://localhost:8080/"
        },
        "id": "406b62eb",
        "outputId": "711f61b1-1892-44e0-8d18-9b4c0794ce6f"
      },
      "outputs": [
        {
          "output_type": "stream",
          "name": "stdout",
          "text": [
            "oi, python\n"
          ]
        }
      ],
      "source": [
        "mensagem_1 = 'oi,'\n",
        "mensagem_2 = ' python'\n",
        "mensagem = mensagem_1 + mensagem_2\n",
        "print(mensagem)"
      ]
    },
    {
      "cell_type": "markdown",
      "id": "5bd96386",
      "metadata": {
        "id": "5bd96386"
      },
      "source": [
        "O operador `*` também funciona com strings"
      ]
    },
    {
      "cell_type": "code",
      "execution_count": 23,
      "id": "7d497b97",
      "metadata": {
        "colab": {
          "base_uri": "https://localhost:8080/"
        },
        "id": "7d497b97",
        "outputId": "e5ef8bd0-b136-4784-fc36-3c651b5c892b"
      },
      "outputs": [
        {
          "output_type": "stream",
          "name": "stdout",
          "text": [
            "oi, pythonoi, pythonoi, python\n"
          ]
        }
      ],
      "source": [
        "print(3*mensagem)"
      ]
    },
    {
      "cell_type": "code",
      "execution_count": 24,
      "id": "41137383",
      "metadata": {
        "colab": {
          "base_uri": "https://localhost:8080/"
        },
        "id": "41137383",
        "outputId": "dc0ba0c5-7119-472e-ff28-2e34e1043c83"
      },
      "outputs": [
        {
          "output_type": "stream",
          "name": "stdout",
          "text": [
            "oi, python ! oi, python ! oi, python ! \n"
          ]
        }
      ],
      "source": [
        "print(3*(mensagem+' ! '))"
      ]
    },
    {
      "cell_type": "markdown",
      "id": "cb88bc99",
      "metadata": {
        "id": "cb88bc99"
      },
      "source": [
        "Strings possuem muitas funcionalidades prontas chamadas de métodos. O método `upper()` , por exemplo, retorna o texto em letras maiúsculas. Já o método `capitalize()` retorna o texto capitalizado (com a primeira letra em maiúscula), teste o método `lower()`:"
      ]
    },
    {
      "cell_type": "code",
      "execution_count": 25,
      "id": "2be5b62d",
      "metadata": {
        "colab": {
          "base_uri": "https://localhost:8080/"
        },
        "id": "2be5b62d",
        "outputId": "9fedd3a3-0f76-498c-f863-033d77624ac8"
      },
      "outputs": [
        {
          "output_type": "stream",
          "name": "stdout",
          "text": [
            "OI, PYTHON\n"
          ]
        }
      ],
      "source": [
        "print(mensagem.upper())"
      ]
    },
    {
      "cell_type": "code",
      "source": [
        "print(mensagem)"
      ],
      "metadata": {
        "colab": {
          "base_uri": "https://localhost:8080/"
        },
        "id": "O0oan3fOyl9y",
        "outputId": "43eeb819-bde0-48fb-dbef-8681680a436f"
      },
      "id": "O0oan3fOyl9y",
      "execution_count": 26,
      "outputs": [
        {
          "output_type": "stream",
          "name": "stdout",
          "text": [
            "oi, python\n"
          ]
        }
      ]
    },
    {
      "cell_type": "code",
      "execution_count": 27,
      "id": "c60d1177",
      "metadata": {
        "colab": {
          "base_uri": "https://localhost:8080/"
        },
        "id": "c60d1177",
        "outputId": "3260e13e-1259-434d-fd97-6cce2d48e141"
      },
      "outputs": [
        {
          "output_type": "stream",
          "name": "stdout",
          "text": [
            "OI, PYTHON\n"
          ]
        }
      ],
      "source": [
        "mensagem = mensagem.upper()\n",
        "print(mensagem)"
      ]
    },
    {
      "cell_type": "code",
      "execution_count": null,
      "id": "8669b661",
      "metadata": {
        "id": "8669b661",
        "outputId": "7693aa84-1eb5-49b3-a9af-71d5e0fe93b0"
      },
      "outputs": [
        {
          "name": "stdout",
          "output_type": "stream",
          "text": [
            "oi, python\n"
          ]
        }
      ],
      "source": [
        "print(mensagem.lower())"
      ]
    },
    {
      "cell_type": "code",
      "execution_count": 28,
      "id": "42645e82",
      "metadata": {
        "colab": {
          "base_uri": "https://localhost:8080/"
        },
        "id": "42645e82",
        "outputId": "96196f76-8733-424b-851f-d7f35a2a0b2b"
      },
      "outputs": [
        {
          "output_type": "stream",
          "name": "stdout",
          "text": [
            "Oi, python\n"
          ]
        }
      ],
      "source": [
        "print(mensagem.lower().capitalize())"
      ]
    },
    {
      "cell_type": "markdown",
      "id": "f3dd7962",
      "metadata": {
        "id": "f3dd7962"
      },
      "source": [
        "O python é extremamente versátil na manipulação de textos, vamos ver outras funcionalidades deste tipo ao longo das nossas conversas. Mas s evocê quiser aprender mais dê uma checada na [documentação do Python](https://docs.python.org/3/library/stdtypes.html#string-methods)"
      ]
    },
    {
      "cell_type": "markdown",
      "id": "8fcf0a10",
      "metadata": {
        "id": "8fcf0a10"
      },
      "source": [
        "# Entrada de Usuário 🧑‍🎤🧑🏿‍🎤🧑🏻‍🎤🧑🏾‍🎤🧑🏼‍🎤🧑🏽‍🎤\n",
        "\n",
        "- Agora vamos criar mais interatividade e pedir para o usuário entrar com um valor digitado do teclado. O Python possui uma função que captura a entrada de valores: a função `input()` 💻🖥️⌨️🖱️.\n",
        "- Quando essa função é chamada, o programa para e espera o usuário digitar alguma coisa.\n",
        "- Quando o usuário aperta a tecla ENTER↩️ , o programa processa🔄 e imprime o valor digitado🔠 em forma de `string`:"
      ]
    },
    {
      "cell_type": "code",
      "execution_count": 29,
      "id": "85544381",
      "metadata": {
        "colab": {
          "base_uri": "https://localhost:8080/"
        },
        "id": "85544381",
        "outputId": "bc507cba-5dab-4ca7-f950-f46d38e73353"
      },
      "outputs": [
        {
          "name": "stdout",
          "output_type": "stream",
          "text": [
            "DDDDD\n"
          ]
        }
      ],
      "source": [
        "entrada\t=input()"
      ]
    },
    {
      "cell_type": "code",
      "execution_count": 30,
      "id": "6efab453",
      "metadata": {
        "colab": {
          "base_uri": "https://localhost:8080/"
        },
        "id": "6efab453",
        "outputId": "3b2f2221-5387-4f60-c39e-3c5a192f234a"
      },
      "outputs": [
        {
          "output_type": "stream",
          "name": "stdout",
          "text": [
            "DDDDD\n"
          ]
        }
      ],
      "source": [
        "print(entrada)"
      ]
    },
    {
      "cell_type": "markdown",
      "id": "e63d1890",
      "metadata": {
        "id": "e63d1890"
      },
      "source": [
        "Mas o ideal é pedir algo específico ao usuário e dizer qual dado queremos receber. Podemos passar uma `string` para a função `input()` :"
      ]
    },
    {
      "cell_type": "code",
      "execution_count": 31,
      "id": "e74eedf8",
      "metadata": {
        "colab": {
          "base_uri": "https://localhost:8080/"
        },
        "id": "e74eedf8",
        "outputId": "51cb46ac-562a-428a-d324-d01a88bc4d73"
      },
      "outputs": [
        {
          "name": "stdout",
          "output_type": "stream",
          "text": [
            "digite seu nome:\n",
            "Domingos Napolitano\n"
          ]
        }
      ],
      "source": [
        "nome = input(\"digite seu nome:\\n\")"
      ]
    },
    {
      "cell_type": "markdown",
      "id": "9b90179b",
      "metadata": {
        "id": "9b90179b"
      },
      "source": [
        "O`\\` no final representa uma nova linha e o interpretador vai quebrar uma linha após imprimir a`string` Por este motivo, o valor digitado pelo usuário aparece na próxima linha."
      ]
    },
    {
      "cell_type": "code",
      "execution_count": 32,
      "id": "a5731eb2",
      "metadata": {
        "colab": {
          "base_uri": "https://localhost:8080/"
        },
        "id": "a5731eb2",
        "outputId": "1c5404a5-84d7-4946-f108-990b7c0eef8b"
      },
      "outputs": [
        {
          "output_type": "stream",
          "name": "stdout",
          "text": [
            "Olá Domingos Napolitano !! Como você está?\n"
          ]
        }
      ],
      "source": [
        "print(f'Olá {nome} !! Como você está?')"
      ]
    },
    {
      "cell_type": "markdown",
      "id": "d7ba18c5",
      "metadata": {
        "id": "d7ba18c5"
      },
      "source": [
        "Você notou que esta `string`está diferente nela misturamos string e chamamos o valor armazendo em `nome` chamamos isso de `f-string` um recusro python bem interessante! Vamos olhar as `f-strings`mais de perto!"
      ]
    },
    {
      "cell_type": "markdown",
      "id": "cb4d5bba",
      "metadata": {
        "id": "cb4d5bba"
      },
      "source": [
        "## Formatação com `f-strings`🧑‍🎓🧑🏿‍🎓🧑🏻‍🎓🧑🏾‍🎓🧑🏼‍🎓🧑🏽‍🎓\n",
        "\n",
        "- F-strings foram criados para facilitar nossa vida e são meio recentes no python mas tem sido muito empregados!\n",
        "- Também chamadas de _**strings literais formatadas”**_ (_`formatted string literals`_),\n",
        "- f-strings são strings com a letra f no início e chaves {} para realizar a **interpolação** de expressões.\n",
        "\n",
        "As expressões são processadas em tempo de execução e formatadas utilizadas o protocolo `__format__`. Vamos de exemplo:\n",
        "\n",
        "```python\n",
        "nome = 'Ecogen'\n",
        "\n",
        "print(f\"Onde você trabalha?  Eu trabalho na {nome}!!\")\n",
        "```\n",
        "E a saída seria:\n",
        "```python\n",
        "\"Onde você trabalha ? Eu trabalho na Ecogen!!!\"\n",
        "```"
      ]
    },
    {
      "cell_type": "code",
      "execution_count": 35,
      "id": "eb4713d9",
      "metadata": {
        "colab": {
          "base_uri": "https://localhost:8080/"
        },
        "id": "eb4713d9",
        "outputId": "dd4d7943-5faa-4780-a1cc-b54c6e53b6eb"
      },
      "outputs": [
        {
          "output_type": "stream",
          "name": "stdout",
          "text": [
            "Onde você trabalha?  Eu trabalho na Ecogen RIO!!\n"
          ]
        }
      ],
      "source": [
        "nome = 'Ecogen RIO'\n",
        "\n",
        "print(f\"Onde você trabalha?  Eu trabalho na {nome}!!\")"
      ]
    },
    {
      "cell_type": "markdown",
      "id": "e8499699",
      "metadata": {
        "id": "e8499699"
      },
      "source": [
        "Vamos agora fazer um programa que coleta dados sobre as suas compras você está interessado em que o usuário informe o seu `nome`, `onde` ele foi, `o_que` ele comprou e `quanto` ele pagou! Vamos lá ?"
      ]
    },
    {
      "cell_type": "code",
      "execution_count": 36,
      "id": "a80d196b",
      "metadata": {
        "colab": {
          "base_uri": "https://localhost:8080/"
        },
        "id": "a80d196b",
        "outputId": "31601dc8-bfd9-44cd-eb80-919f13437c97"
      },
      "outputs": [
        {
          "name": "stdout",
          "output_type": "stream",
          "text": [
            "digite seu nome:\n",
            "domingos\n"
          ]
        }
      ],
      "source": [
        "nome = input(\"digite seu nome:\\n\")"
      ]
    },
    {
      "cell_type": "code",
      "execution_count": 37,
      "id": "da8c3503",
      "metadata": {
        "colab": {
          "base_uri": "https://localhost:8080/"
        },
        "id": "da8c3503",
        "outputId": "db136894-ccae-41da-b59a-c4c08dba30c4"
      },
      "outputs": [
        {
          "name": "stdout",
          "output_type": "stream",
          "text": [
            "Olá Domingos onde você foi? \n",
            "padaria\n"
          ]
        }
      ],
      "source": [
        "onde = input(f\"Olá {nome.capitalize()} onde você foi? \\n\")"
      ]
    },
    {
      "cell_type": "code",
      "execution_count": 38,
      "id": "55a56fe2",
      "metadata": {
        "colab": {
          "base_uri": "https://localhost:8080/"
        },
        "id": "55a56fe2",
        "outputId": "137aeacd-c8dd-414f-b497-19afadf3bfd5"
      },
      "outputs": [
        {
          "name": "stdout",
          "output_type": "stream",
          "text": [
            "Domingos o que você comprou em padaria? \n",
            "Coissant\n"
          ]
        }
      ],
      "source": [
        "o_que = input(f\"{nome.capitalize()} o que você comprou em {onde}? \\n\")"
      ]
    },
    {
      "cell_type": "code",
      "execution_count": 39,
      "id": "ad686151",
      "metadata": {
        "colab": {
          "base_uri": "https://localhost:8080/"
        },
        "id": "ad686151",
        "outputId": "e03cadae-26f2-483e-da63-cbee880b9813"
      },
      "outputs": [
        {
          "name": "stdout",
          "output_type": "stream",
          "text": [
            "Domingos quanto você pagou pelo Coissant? \n",
            "5.00\n"
          ]
        }
      ],
      "source": [
        "quanto = input(f\"{nome.capitalize()} quanto você pagou pelo {o_que}? \\n\")"
      ]
    },
    {
      "cell_type": "code",
      "execution_count": 40,
      "id": "684af14b",
      "metadata": {
        "colab": {
          "base_uri": "https://localhost:8080/"
        },
        "id": "684af14b",
        "outputId": "551ac9bf-976f-410f-ff01-fb7a905cc94c"
      },
      "outputs": [
        {
          "output_type": "stream",
          "name": "stdout",
          "text": [
            "Domingos foi Padaria e comprou Coissant  e pagou $ 5.00\n"
          ]
        }
      ],
      "source": [
        "print(f'{nome.capitalize()} foi {onde.capitalize()} e comprou {o_que.capitalize()}  e pagou $ {quanto}')"
      ]
    },
    {
      "cell_type": "markdown",
      "id": "cb99e33c",
      "metadata": {
        "id": "cb99e33c"
      },
      "source": [
        "# Constantes\n",
        "\n",
        "O Python possui poucas constantes embutidas. As mais utilizadas são `True` `False`e `None`. Essas também são palavras chaves do Python, portanto palavras reservadas que não podemos utilizar como nomes de variáveis."
      ]
    },
    {
      "cell_type": "markdown",
      "id": "beecf48a",
      "metadata": {
        "id": "beecf48a"
      },
      "source": [
        "`True` e `False` são valores booleanos que representam, respectivamente, verdadeiro e falso. O Python também possui a função `bool()` , que retorna `True` quando o argumento passado é verdadeiro e retorna `False` , caso contrário."
      ]
    },
    {
      "cell_type": "markdown",
      "id": "cf15a980",
      "metadata": {
        "id": "cf15a980"
      },
      "source": [
        "Podemos representar `True` e `False` através de **expressões**. Por exemplo:\n",
        "\n",
        "\"O número 1 é igual a string '1'?\".\n",
        "\n",
        "Vamos perguntar ao Python:"
      ]
    },
    {
      "cell_type": "code",
      "execution_count": 41,
      "id": "e762cb10",
      "metadata": {
        "colab": {
          "base_uri": "https://localhost:8080/"
        },
        "id": "e762cb10",
        "outputId": "c9120ece-bffd-4349-da50-35f8014a8de0"
      },
      "outputs": [
        {
          "output_type": "execute_result",
          "data": {
            "text/plain": [
              "False"
            ]
          },
          "metadata": {},
          "execution_count": 41
        }
      ],
      "source": [
        "# \"O número 1 é igual a string '1'?\".\n",
        "1 == '1'"
      ]
    },
    {
      "cell_type": "code",
      "execution_count": 42,
      "id": "7ba13169",
      "metadata": {
        "colab": {
          "base_uri": "https://localhost:8080/"
        },
        "id": "7ba13169",
        "outputId": "d65077c9-6ec8-4d09-e482-bab455876057"
      },
      "outputs": [
        {
          "output_type": "execute_result",
          "data": {
            "text/plain": [
              "True"
            ]
          },
          "metadata": {},
          "execution_count": 42
        }
      ],
      "source": [
        "# \"O número 1 é igual a número 1?\".\n",
        "1 == 1"
      ]
    },
    {
      "cell_type": "code",
      "execution_count": 43,
      "id": "37c89572",
      "metadata": {
        "colab": {
          "base_uri": "https://localhost:8080/"
        },
        "id": "37c89572",
        "outputId": "c7f5d152-fe05-4698-8346-873f05935027"
      },
      "outputs": [
        {
          "output_type": "execute_result",
          "data": {
            "text/plain": [
              "True"
            ]
          },
          "metadata": {},
          "execution_count": 43
        }
      ],
      "source": [
        "# \"O número 1 é igual a número 1.0?\".\n",
        "1 == 1.0"
      ]
    },
    {
      "cell_type": "code",
      "execution_count": 44,
      "id": "6942f60c",
      "metadata": {
        "colab": {
          "base_uri": "https://localhost:8080/"
        },
        "id": "6942f60c",
        "outputId": "cb7afe0c-0a3a-4db9-885c-d544b06e8537"
      },
      "outputs": [
        {
          "output_type": "execute_result",
          "data": {
            "text/plain": [
              "True"
            ]
          },
          "metadata": {},
          "execution_count": 44
        }
      ],
      "source": [
        " # Ou ainda\n",
        "2 + 2 == 4"
      ]
    },
    {
      "cell_type": "code",
      "execution_count": 45,
      "id": "8f1cd72b",
      "metadata": {
        "colab": {
          "base_uri": "https://localhost:8080/"
        },
        "id": "8f1cd72b",
        "outputId": "eb2e659f-aaa6-4ecb-b42c-05aed750f32d"
      },
      "outputs": [
        {
          "output_type": "execute_result",
          "data": {
            "text/plain": [
              "False"
            ]
          },
          "metadata": {},
          "execution_count": 45
        }
      ],
      "source": [
        " # Ou ainda\n",
        "2 + 2 == 5"
      ]
    },
    {
      "cell_type": "markdown",
      "id": "31c278f5",
      "metadata": {
        "id": "31c278f5"
      },
      "source": [
        "O operador `==` é usado para verificar se algo é igual a outro.\n",
        "\n",
        "> **IMPORTANTE: Não confundir com o `=` , que atribui um valor a uma variável.**\n",
        "\n",
        "Também podemos verificar se um número é maior, utilizando o operador `>` , ou menor ( `<` ) do que outro:"
      ]
    },
    {
      "cell_type": "code",
      "execution_count": 46,
      "id": "b958df5f",
      "metadata": {
        "colab": {
          "base_uri": "https://localhost:8080/"
        },
        "id": "b958df5f",
        "outputId": "99549cd0-33ef-4397-9211-a05ac55ec709"
      },
      "outputs": [
        {
          "output_type": "execute_result",
          "data": {
            "text/plain": [
              "True"
            ]
          },
          "metadata": {},
          "execution_count": 46
        }
      ],
      "source": [
        "2 > 1"
      ]
    },
    {
      "cell_type": "code",
      "execution_count": 47,
      "id": "24f5d1a3",
      "metadata": {
        "colab": {
          "base_uri": "https://localhost:8080/"
        },
        "id": "24f5d1a3",
        "outputId": "ae8ea0f6-2ff8-4cc8-d0ca-e9167d41105d"
      },
      "outputs": [
        {
          "output_type": "execute_result",
          "data": {
            "text/plain": [
              "False"
            ]
          },
          "metadata": {},
          "execution_count": 47
        }
      ],
      "source": [
        "2 < 1"
      ]
    },
    {
      "cell_type": "markdown",
      "id": "4727cd87",
      "metadata": {
        "id": "4727cd87"
      },
      "source": [
        "# Operadores de Comparação (ou Booleanos) 🔢🆖​🅾️​🆗​🅿️​🆘​✔️​❌​\n",
        "\n",
        "| **Operação**  | **Nome**     | **Descrição**                |\n",
        "|-----------|------------------|------------------------------|\n",
        "| a == b    | Comparação       | a é igual a b                |\n",
        "| a != b    | Comparação       | a é diferente de b           |\n",
        "| a < b     | Comparação       | a é menor que b              |\n",
        "| a > b     | Comparação       | a é maior que b              |\n",
        "| a <= b    | Comparação       | a é menor ou igual a b       |\n",
        "| a >= b    | Comparação       | a é maior ou igual a b       |"
      ]
    },
    {
      "cell_type": "code",
      "execution_count": 48,
      "id": "59558b99",
      "metadata": {
        "colab": {
          "base_uri": "https://localhost:8080/"
        },
        "id": "59558b99",
        "outputId": "de773e91-284c-4a90-edc0-9941156cded8"
      },
      "outputs": [
        {
          "output_type": "stream",
          "name": "stdout",
          "text": [
            "a é igual a b ? False\n",
            "a é diferente de b ? True\n",
            "a é menor que b ? True\n",
            "a é maior que b False\n",
            "a é menor ou igual a b True\n",
            "a é maior ou igual a b False\n"
          ]
        }
      ],
      "source": [
        "a = 2\n",
        "b = 5\n",
        "print(f'a é igual a b ? {a==b}')\n",
        "print(f'a é diferente de b ? {a!=b}')\n",
        "print(f'a é menor que b ? {a<b}')\n",
        "print(f'a é maior que b {a>b}')\n",
        "print(f'a é menor ou igual a b {a<=b}')\n",
        "print(f'a é maior ou igual a b {a>=b}')"
      ]
    },
    {
      "cell_type": "markdown",
      "id": "241b4742",
      "metadata": {
        "id": "241b4742"
      },
      "source": [
        "# Outros Operadores de Booleanos 🔢🆖​🅾️​🆗​🅿️​🆘​✔️​❌​\n",
        "\n",
        "| **Operação**  | **Nome**     | **Descrição**                |\n",
        "|-----------|------------------|------------------------------|\n",
        "| a is b    | Comparação       | a é identico a b             |\n",
        "| a is not b| Comparação       | a não é identico a b         |\n",
        "| a in b    | Pertencimento    | a pertence a b ($\\in$)       |\n",
        "| a not in b| Pertencimento    | a pertence a b ($\\notin$)    |\n",
        "\n",
        "Vamos estudar os operadores quando estivermos estudando Coleções em Python , mas o conceito é o mesmo que utilizamos em conjuntos que você pode recordar [aqui](https://pt.wikipedia.org/wiki/Conjunto)"
      ]
    },
    {
      "cell_type": "markdown",
      "id": "1b3203a2",
      "metadata": {
        "id": "1b3203a2"
      },
      "source": [
        "# Tomando decisões com o Comando `IF`\n",
        "\n",
        ">**E se quisermos apresentar uma mensagem diferente para o usuário dependendo do valor de entrada?**\n",
        "\n",
        "Vamos atribuir um valor para uma variável numero e pedir para o usuário entrar com um valor. Devemos verificar se os valores são iguais como um jogo de adivinhação em que o usuário deve adivinhar o número definido."
      ]
    },
    {
      "cell_type": "code",
      "execution_count": 49,
      "id": "58108c92",
      "metadata": {
        "colab": {
          "base_uri": "https://localhost:8080/"
        },
        "id": "58108c92",
        "outputId": "3d32f8c6-ae6a-4add-a19c-76a499bf71cf"
      },
      "outputs": [
        {
          "name": "stdout",
          "output_type": "stream",
          "text": [
            "Qual o numero ?\n",
            "42\n"
          ]
        }
      ],
      "source": [
        "numero = 42\n",
        "chute = input('Qual o numero ?\\n')"
      ]
    },
    {
      "cell_type": "markdown",
      "id": "e49d5b1d",
      "metadata": {
        "id": "e49d5b1d"
      },
      "source": [
        "👁️‍🗨️​👁️‍🗨️​👁️‍🗨️​👋​👋​🤚​🤚​👈​👉​🖕​👇​☝️​👎​\n",
        "Até aqui, nenhuma novidade. Agora, devemos mostrar a mensagem **\"Você acertou👍​\"** caso o numero seja igual ao chute , e **\"Você errou 👎\"** caso o numero seja diferente do chute .\n",
        "Em português, seria assim:\n",
        ">**Se chute igual a número: \"Você acertou👍​\"**     \n",
        "\n",
        ">**Se chute diferente de número: \"Você errou👎\"**\n",
        "\n",
        "Ou melhor:\n",
        "> **Se chute igual a número: \"Você acertou👍​\"**     \n",
        "\n",
        "> **Senão: \"Você errou👎\"**\n"
      ]
    },
    {
      "cell_type": "markdown",
      "id": "1d0dd873",
      "metadata": {
        "id": "1d0dd873"
      },
      "source": [
        "Podemos traduzir isso para código Python. O Python possui o operador condicional para representar a palavra se que é o if e a palavra senão que é o else. A sintaxe ficaria:\n",
        "```python\n",
        "if chute == numero:\n",
        "    print('Você acertou')\n",
        "else:\n",
        "    print('Você errou')\n",
        "```"
      ]
    },
    {
      "cell_type": "code",
      "execution_count": 50,
      "id": "1da1b775",
      "metadata": {
        "colab": {
          "base_uri": "https://localhost:8080/"
        },
        "id": "1da1b775",
        "outputId": "9867ea22-3d13-4021-a795-ebb005fd92cb"
      },
      "outputs": [
        {
          "output_type": "stream",
          "name": "stdout",
          "text": [
            "Você errou\n"
          ]
        }
      ],
      "source": [
        "if chute == numero:\n",
        "    print('Você acertou')\n",
        "else:\n",
        "    print('Você errou')"
      ]
    },
    {
      "cell_type": "code",
      "execution_count": 51,
      "id": "a6067c89",
      "metadata": {
        "colab": {
          "base_uri": "https://localhost:8080/",
          "height": 35
        },
        "id": "a6067c89",
        "outputId": "a84f35a5-3ba9-41fa-ca8e-2a4431830339"
      },
      "outputs": [
        {
          "output_type": "execute_result",
          "data": {
            "text/plain": [
              "'42'"
            ],
            "application/vnd.google.colaboratory.intrinsic+json": {
              "type": "string"
            }
          },
          "metadata": {},
          "execution_count": 51
        }
      ],
      "source": [
        "chute"
      ]
    },
    {
      "cell_type": "code",
      "execution_count": 52,
      "id": "78204430",
      "metadata": {
        "colab": {
          "base_uri": "https://localhost:8080/"
        },
        "id": "78204430",
        "outputId": "dff0b9fd-f6ff-4e0e-f4ba-6a105d5c3906"
      },
      "outputs": [
        {
          "output_type": "stream",
          "name": "stdout",
          "text": [
            "Você acertou\n"
          ]
        }
      ],
      "source": [
        "if int(chute) == numero:\n",
        "    print('Você acertou')\n",
        "else:\n",
        "    print('Você errou')"
      ]
    },
    {
      "cell_type": "markdown",
      "id": "5b1dd48d",
      "metadata": {
        "id": "5b1dd48d"
      },
      "source": [
        "​🤨​🥺​🤫​🤔​🤭​🤪​😜​\n",
        "O que será que não deu certo ?"
      ]
    },
    {
      "cell_type": "code",
      "execution_count": 53,
      "id": "a8a424ed",
      "metadata": {
        "colab": {
          "base_uri": "https://localhost:8080/"
        },
        "id": "a8a424ed",
        "outputId": "a8ca850c-ee71-4d14-e3a8-5af70f812069"
      },
      "outputs": [
        {
          "output_type": "execute_result",
          "data": {
            "text/plain": [
              "False"
            ]
          },
          "metadata": {},
          "execution_count": 53
        }
      ],
      "source": [
        "chute == numero"
      ]
    },
    {
      "cell_type": "code",
      "execution_count": 54,
      "id": "2c76a329",
      "metadata": {
        "colab": {
          "base_uri": "https://localhost:8080/"
        },
        "id": "2c76a329",
        "outputId": "7a6110f3-d885-46a2-f7da-2916632a8cb2"
      },
      "outputs": [
        {
          "output_type": "stream",
          "name": "stdout",
          "text": [
            "<class 'str'>\n",
            "<class 'int'>\n"
          ]
        }
      ],
      "source": [
        "print(type(chute))\n",
        "print(type(numero))"
      ]
    },
    {
      "cell_type": "code",
      "execution_count": 55,
      "id": "e4952918",
      "metadata": {
        "colab": {
          "base_uri": "https://localhost:8080/"
        },
        "id": "e4952918",
        "outputId": "53940876-228c-4d20-fe37-c7de751e68b8"
      },
      "outputs": [
        {
          "output_type": "stream",
          "name": "stdout",
          "text": [
            "Você acertou\n"
          ]
        }
      ],
      "source": [
        "# Agora do jeito certo vamos converter chute para o mesmo tipo que numero\n",
        "if int(chute) == numero:\n",
        "    print('Você acertou')\n",
        "else:\n",
        "    print('Você errou')"
      ]
    },
    {
      "cell_type": "markdown",
      "id": "f92eb968",
      "metadata": {
        "id": "f92eb968"
      },
      "source": [
        "# O Comando `ELIF`\n",
        "\n",
        "Podemos melhorar ainda mais o jogo: caso o chute não seja igual ao número secreto, podemos dar uma pista para o usuário se ele foi maior ou menor do que o chute inicial.\n",
        "Ou seja, devemos acrescentar esse tratamento caso o usuário erre o chute:\n",
        "> **Se chute = número: \"Você acertou!\"**   \n",
        "> **Senão: Se chute maior do que número_secreto: \"Você errou! O seu chute foi maior que o número secreto\"**   \n",
        "> **Senão \"Você errou! O seu chute foi menor que o número secreto\"**   \n"
      ]
    },
    {
      "cell_type": "markdown",
      "id": "a9e5219f",
      "metadata": {
        "id": "a9e5219f"
      },
      "source": [
        "Já sabemos traduzir isso para Python:\n",
        "```python\n",
        "if(chute == numero_secreto):\n",
        "    print('Você acertou!👍')\n",
        "else:\n",
        "    if(chute > numero_secreto):\n",
        "        print('Você errou! O seu chute foi maior que o número secreto👎')\n",
        "    else:\n",
        "        print('Você errou! O seu chute foi menor que o número secreto👎')\n",
        "```"
      ]
    },
    {
      "cell_type": "code",
      "execution_count": 58,
      "id": "f4683357",
      "metadata": {
        "colab": {
          "base_uri": "https://localhost:8080/"
        },
        "id": "f4683357",
        "outputId": "4a018b69-20bf-417c-e805-cbe191868a16"
      },
      "outputs": [
        {
          "output_type": "stream",
          "name": "stdout",
          "text": [
            "Qual o numero ?\n",
            "56\n",
            "Você errou! O seu chute foi maior que o número secreto👎\n"
          ]
        }
      ],
      "source": [
        "numero_secreto = 54\n",
        "chute = input('Qual o numero ?\\n')\n",
        "chute = int(chute)\n",
        "if(chute == numero_secreto):\n",
        "    print('Você acertou!👍')\n",
        "else:\n",
        "    if(chute > numero_secreto):\n",
        "        print('Você errou! O seu chute foi maior que o número secreto👎')\n",
        "    else:\n",
        "        print('Você errou! O seu chute foi menor que o número secreto👎')"
      ]
    },
    {
      "cell_type": "markdown",
      "id": "7a3bdd3d",
      "metadata": {
        "id": "7a3bdd3d"
      },
      "source": [
        "Mas neste caso podemos fazer um `else` com uma condição de entrada, o `elif` . Vamos utilizá-lo para deixar o código mais fácil de entender, já que na prática não há diferença:\n",
        "```python\n",
        "if (numero_secreto == chute):\n",
        "    print('Você acertou!')\n",
        "elif (chute > numero_secreto):\n",
        "    print('Você errou! O seu chute foi maior que o número secreto')\n",
        "elif (chute < numero_secreto):\n",
        "    print('Você errou! O seu chute foi menor que o número secreto')\n",
        "```\n"
      ]
    },
    {
      "cell_type": "code",
      "execution_count": 61,
      "id": "4c531105",
      "metadata": {
        "colab": {
          "base_uri": "https://localhost:8080/"
        },
        "id": "4c531105",
        "outputId": "16c57e2c-f628-4436-9336-90ef99ede5ab"
      },
      "outputs": [
        {
          "output_type": "stream",
          "name": "stdout",
          "text": [
            "Qual o numero ?\n",
            "56\n",
            "Você errou👎! O seu chute foi maior que o número secreto\n"
          ]
        }
      ],
      "source": [
        "numero_secreto = 54\n",
        "chute = input('Qual o numero ?\\n')\n",
        "chute = int(chute)\n",
        "\n",
        "if (numero_secreto == chute):\n",
        "    print('Você acertou!👍')\n",
        "elif (chute > numero_secreto):\n",
        "    print('Você errou👎! O seu chute foi maior que o número secreto')\n",
        "elif (chute < numero_secreto):\n",
        "    print('Você errou👎! O seu chute foi menor que o número secreto')"
      ]
    },
    {
      "cell_type": "markdown",
      "id": "60ec6be9",
      "metadata": {
        "id": "60ec6be9"
      },
      "source": [
        "# Gerando um número aleatório com `random.randint()`\n",
        "\n",
        "Esse código pode ser usado para escolher um numero inteiro aleatório entre 1 e 10 veja este [exemplo](https://www.w3schools.com/python/ref_random_randint.asp)\n",
        "```python\n",
        "import random\n",
        "numero = random.randint(1, 10)\n",
        "print(numero)\n",
        "```"
      ]
    },
    {
      "cell_type": "code",
      "execution_count": 79,
      "id": "f3fb3375",
      "metadata": {
        "colab": {
          "base_uri": "https://localhost:8080/"
        },
        "id": "f3fb3375",
        "outputId": "8c332c7b-42e9-437b-86a1-e375d51b80be"
      },
      "outputs": [
        {
          "output_type": "stream",
          "name": "stdout",
          "text": [
            "17\n"
          ]
        }
      ],
      "source": [
        "import random\n",
        "numero = random.randint(10, 20)\n",
        "print(numero)"
      ]
    },
    {
      "cell_type": "markdown",
      "id": "81b53a8d",
      "metadata": {
        "id": "81b53a8d"
      },
      "source": [
        "​🤨​🥺​🤫​🤔​🤭​🤪​😜​🤓​🤓​🤓​🤠​🤠​🤠​🥳​🥳​🥳​👺​👺​👺​👺​\n",
        "\n",
        "# Desafio o Jogo da Advinhação\n",
        "\n",
        "1. Utilize o o seguinte trecho no código do jogo da advinhação 🤓​🤓​🤓:\n",
        "```python\n",
        "import random\n",
        "numero = random.randint(1, 10)\n",
        "```\n",
        "2. Execute diversas vezes o jogo e veja se acertou 🥳​🥳​🥳\n",
        "> DICA: Coloque todo o código em uma célula e reexecute usando SHIFT-ENTER\n",
        "3. Como contar o numero de tentativas 👺​👺​👺​👺\n",
        "> USE UMA VARÌAVEL CONTADORA cont = cont +1"
      ]
    },
    {
      "cell_type": "markdown",
      "id": "af6685e6",
      "metadata": {
        "id": "af6685e6"
      },
      "source": [
        "# Excelente se você conseguiu chegar aqui sem problemas parabéns 🤩🙌👏\n",
        "\n",
        "🧑‍🎓🧑🏿‍🎓🧑🏻‍🎓🧑🏾‍🎓🧑🏼‍🎓🧑🏽‍🎓\n",
        "\n",
        "Muita coisa nessa segunda conversa!! Falamos sobre os tipos do Python, Varíaveis, Operações Aritiméticas, perações Booleana, funções como `print()`, `type()`, `input()` e falamos de um conceito masi avançado as `f-strings`. E ainda começamos a estudar os comando `IF - ELSE`e `ELIF`.  \n",
        "\n",
        "## E o mais importante sextou !!! 🍕🍕🌭🌭🥪🥪🌮🌮🍺🍺🍷🍷🍸🍸🍹🍹🍻🍻🥂🥂🥃🥃🥤🥤"
      ]
    }
  ],
  "metadata": {
    "celltoolbar": "Slideshow",
    "kernelspec": {
      "display_name": "Python 3 (ipykernel)",
      "language": "python",
      "name": "python3"
    },
    "language_info": {
      "codemirror_mode": {
        "name": "ipython",
        "version": 3
      },
      "file_extension": ".py",
      "mimetype": "text/x-python",
      "name": "python",
      "nbconvert_exporter": "python",
      "pygments_lexer": "ipython3",
      "version": "3.9.13"
    },
    "nbTranslate": {
      "displayLangs": [
        "pt",
        "en"
      ],
      "hotkey": "alt-t",
      "langInMainMenu": true,
      "sourceLang": "en",
      "targetLang": "pt",
      "useGoogleTranslate": true
    },
    "colab": {
      "provenance": [],
      "include_colab_link": true
    }
  },
  "nbformat": 4,
  "nbformat_minor": 5
}